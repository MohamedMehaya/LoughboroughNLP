{
  "nbformat": 4,
  "nbformat_minor": 0,
  "metadata": {
    "colab": {
      "name": "F135864 - Task 3.ipynb",
      "provenance": [],
      "collapsed_sections": []
    },
    "kernelspec": {
      "name": "python3",
      "display_name": "Python 3"
    },
    "language_info": {
      "name": "python"
    },
    "widgets": {
      "application/vnd.jupyter.widget-state+json": {
        "fc152dd0647448878e39f433f1ad5986": {
          "model_module": "@jupyter-widgets/controls",
          "model_name": "HBoxModel",
          "model_module_version": "1.5.0",
          "state": {
            "_dom_classes": [],
            "_model_module": "@jupyter-widgets/controls",
            "_model_module_version": "1.5.0",
            "_model_name": "HBoxModel",
            "_view_count": null,
            "_view_module": "@jupyter-widgets/controls",
            "_view_module_version": "1.5.0",
            "_view_name": "HBoxView",
            "box_style": "",
            "children": [
              "IPY_MODEL_194bf7773c7a48d5af762f0180f4e3c3",
              "IPY_MODEL_070243b6a87047979a9478e1a7973e7a"
            ],
            "layout": "IPY_MODEL_5185e7b977284afba9cc6247634b5f5f"
          }
        },
        "194bf7773c7a48d5af762f0180f4e3c3": {
          "model_module": "@jupyter-widgets/controls",
          "model_name": "FloatProgressModel",
          "model_module_version": "1.5.0",
          "state": {
            "_dom_classes": [],
            "_model_module": "@jupyter-widgets/controls",
            "_model_module_version": "1.5.0",
            "_model_name": "FloatProgressModel",
            "_view_count": null,
            "_view_module": "@jupyter-widgets/controls",
            "_view_module_version": "1.5.0",
            "_view_name": "ProgressView",
            "bar_style": "success",
            "description": "Downloading: 100%",
            "description_tooltip": null,
            "layout": "IPY_MODEL_c0fe5c9b3fe246a0bc3fca633ed520f6",
            "max": 570,
            "min": 0,
            "orientation": "horizontal",
            "style": "IPY_MODEL_44dd0de32189494582af2c63b6d4149a",
            "value": 570
          }
        },
        "070243b6a87047979a9478e1a7973e7a": {
          "model_module": "@jupyter-widgets/controls",
          "model_name": "HTMLModel",
          "model_module_version": "1.5.0",
          "state": {
            "_dom_classes": [],
            "_model_module": "@jupyter-widgets/controls",
            "_model_module_version": "1.5.0",
            "_model_name": "HTMLModel",
            "_view_count": null,
            "_view_module": "@jupyter-widgets/controls",
            "_view_module_version": "1.5.0",
            "_view_name": "HTMLView",
            "description": "",
            "description_tooltip": null,
            "layout": "IPY_MODEL_edcc01130e19455fbf08d2583f2ebb78",
            "placeholder": "​",
            "style": "IPY_MODEL_90cd21788d8942dd9807541bd78098a2",
            "value": " 570/570 [00:00&lt;00:00, 7.07kB/s]"
          }
        },
        "5185e7b977284afba9cc6247634b5f5f": {
          "model_module": "@jupyter-widgets/base",
          "model_name": "LayoutModel",
          "model_module_version": "1.2.0",
          "state": {
            "_model_module": "@jupyter-widgets/base",
            "_model_module_version": "1.2.0",
            "_model_name": "LayoutModel",
            "_view_count": null,
            "_view_module": "@jupyter-widgets/base",
            "_view_module_version": "1.2.0",
            "_view_name": "LayoutView",
            "align_content": null,
            "align_items": null,
            "align_self": null,
            "border": null,
            "bottom": null,
            "display": null,
            "flex": null,
            "flex_flow": null,
            "grid_area": null,
            "grid_auto_columns": null,
            "grid_auto_flow": null,
            "grid_auto_rows": null,
            "grid_column": null,
            "grid_gap": null,
            "grid_row": null,
            "grid_template_areas": null,
            "grid_template_columns": null,
            "grid_template_rows": null,
            "height": null,
            "justify_content": null,
            "justify_items": null,
            "left": null,
            "margin": null,
            "max_height": null,
            "max_width": null,
            "min_height": null,
            "min_width": null,
            "object_fit": null,
            "object_position": null,
            "order": null,
            "overflow": null,
            "overflow_x": null,
            "overflow_y": null,
            "padding": null,
            "right": null,
            "top": null,
            "visibility": null,
            "width": null
          }
        },
        "c0fe5c9b3fe246a0bc3fca633ed520f6": {
          "model_module": "@jupyter-widgets/base",
          "model_name": "LayoutModel",
          "model_module_version": "1.2.0",
          "state": {
            "_model_module": "@jupyter-widgets/base",
            "_model_module_version": "1.2.0",
            "_model_name": "LayoutModel",
            "_view_count": null,
            "_view_module": "@jupyter-widgets/base",
            "_view_module_version": "1.2.0",
            "_view_name": "LayoutView",
            "align_content": null,
            "align_items": null,
            "align_self": null,
            "border": null,
            "bottom": null,
            "display": null,
            "flex": null,
            "flex_flow": null,
            "grid_area": null,
            "grid_auto_columns": null,
            "grid_auto_flow": null,
            "grid_auto_rows": null,
            "grid_column": null,
            "grid_gap": null,
            "grid_row": null,
            "grid_template_areas": null,
            "grid_template_columns": null,
            "grid_template_rows": null,
            "height": null,
            "justify_content": null,
            "justify_items": null,
            "left": null,
            "margin": null,
            "max_height": null,
            "max_width": null,
            "min_height": null,
            "min_width": null,
            "object_fit": null,
            "object_position": null,
            "order": null,
            "overflow": null,
            "overflow_x": null,
            "overflow_y": null,
            "padding": null,
            "right": null,
            "top": null,
            "visibility": null,
            "width": null
          }
        },
        "44dd0de32189494582af2c63b6d4149a": {
          "model_module": "@jupyter-widgets/controls",
          "model_name": "ProgressStyleModel",
          "model_module_version": "1.5.0",
          "state": {
            "_model_module": "@jupyter-widgets/controls",
            "_model_module_version": "1.5.0",
            "_model_name": "ProgressStyleModel",
            "_view_count": null,
            "_view_module": "@jupyter-widgets/base",
            "_view_module_version": "1.2.0",
            "_view_name": "StyleView",
            "bar_color": null,
            "description_width": "initial"
          }
        },
        "edcc01130e19455fbf08d2583f2ebb78": {
          "model_module": "@jupyter-widgets/base",
          "model_name": "LayoutModel",
          "model_module_version": "1.2.0",
          "state": {
            "_model_module": "@jupyter-widgets/base",
            "_model_module_version": "1.2.0",
            "_model_name": "LayoutModel",
            "_view_count": null,
            "_view_module": "@jupyter-widgets/base",
            "_view_module_version": "1.2.0",
            "_view_name": "LayoutView",
            "align_content": null,
            "align_items": null,
            "align_self": null,
            "border": null,
            "bottom": null,
            "display": null,
            "flex": null,
            "flex_flow": null,
            "grid_area": null,
            "grid_auto_columns": null,
            "grid_auto_flow": null,
            "grid_auto_rows": null,
            "grid_column": null,
            "grid_gap": null,
            "grid_row": null,
            "grid_template_areas": null,
            "grid_template_columns": null,
            "grid_template_rows": null,
            "height": null,
            "justify_content": null,
            "justify_items": null,
            "left": null,
            "margin": null,
            "max_height": null,
            "max_width": null,
            "min_height": null,
            "min_width": null,
            "object_fit": null,
            "object_position": null,
            "order": null,
            "overflow": null,
            "overflow_x": null,
            "overflow_y": null,
            "padding": null,
            "right": null,
            "top": null,
            "visibility": null,
            "width": null
          }
        },
        "90cd21788d8942dd9807541bd78098a2": {
          "model_module": "@jupyter-widgets/controls",
          "model_name": "DescriptionStyleModel",
          "model_module_version": "1.5.0",
          "state": {
            "_model_module": "@jupyter-widgets/controls",
            "_model_module_version": "1.5.0",
            "_model_name": "DescriptionStyleModel",
            "_view_count": null,
            "_view_module": "@jupyter-widgets/base",
            "_view_module_version": "1.2.0",
            "_view_name": "StyleView",
            "description_width": ""
          }
        },
        "8539feea767d41b8bdcdce4b4e97ba5f": {
          "model_module": "@jupyter-widgets/controls",
          "model_name": "HBoxModel",
          "model_module_version": "1.5.0",
          "state": {
            "_dom_classes": [],
            "_model_module": "@jupyter-widgets/controls",
            "_model_module_version": "1.5.0",
            "_model_name": "HBoxModel",
            "_view_count": null,
            "_view_module": "@jupyter-widgets/controls",
            "_view_module_version": "1.5.0",
            "_view_name": "HBoxView",
            "box_style": "",
            "children": [
              "IPY_MODEL_3e8a91e70e214243b818e1fe8955893c",
              "IPY_MODEL_69af88726d7f4cc8ba7af1448390e827"
            ],
            "layout": "IPY_MODEL_a1612733a1b44542b828bde253fee01c"
          }
        },
        "3e8a91e70e214243b818e1fe8955893c": {
          "model_module": "@jupyter-widgets/controls",
          "model_name": "FloatProgressModel",
          "model_module_version": "1.5.0",
          "state": {
            "_dom_classes": [],
            "_model_module": "@jupyter-widgets/controls",
            "_model_module_version": "1.5.0",
            "_model_name": "FloatProgressModel",
            "_view_count": null,
            "_view_module": "@jupyter-widgets/controls",
            "_view_module_version": "1.5.0",
            "_view_name": "ProgressView",
            "bar_style": "success",
            "description": "Downloading: 100%",
            "description_tooltip": null,
            "layout": "IPY_MODEL_ef566917df764832809586df48aefe51",
            "max": 231508,
            "min": 0,
            "orientation": "horizontal",
            "style": "IPY_MODEL_bd4c31f7105045daba870a13575160a4",
            "value": 231508
          }
        },
        "69af88726d7f4cc8ba7af1448390e827": {
          "model_module": "@jupyter-widgets/controls",
          "model_name": "HTMLModel",
          "model_module_version": "1.5.0",
          "state": {
            "_dom_classes": [],
            "_model_module": "@jupyter-widgets/controls",
            "_model_module_version": "1.5.0",
            "_model_name": "HTMLModel",
            "_view_count": null,
            "_view_module": "@jupyter-widgets/controls",
            "_view_module_version": "1.5.0",
            "_view_name": "HTMLView",
            "description": "",
            "description_tooltip": null,
            "layout": "IPY_MODEL_01de9f28c83c4d22a76e4a1040617c94",
            "placeholder": "​",
            "style": "IPY_MODEL_422d5a2b26474e3eaa7322db74bbed1a",
            "value": " 232k/232k [00:00&lt;00:00, 627kB/s]"
          }
        },
        "a1612733a1b44542b828bde253fee01c": {
          "model_module": "@jupyter-widgets/base",
          "model_name": "LayoutModel",
          "model_module_version": "1.2.0",
          "state": {
            "_model_module": "@jupyter-widgets/base",
            "_model_module_version": "1.2.0",
            "_model_name": "LayoutModel",
            "_view_count": null,
            "_view_module": "@jupyter-widgets/base",
            "_view_module_version": "1.2.0",
            "_view_name": "LayoutView",
            "align_content": null,
            "align_items": null,
            "align_self": null,
            "border": null,
            "bottom": null,
            "display": null,
            "flex": null,
            "flex_flow": null,
            "grid_area": null,
            "grid_auto_columns": null,
            "grid_auto_flow": null,
            "grid_auto_rows": null,
            "grid_column": null,
            "grid_gap": null,
            "grid_row": null,
            "grid_template_areas": null,
            "grid_template_columns": null,
            "grid_template_rows": null,
            "height": null,
            "justify_content": null,
            "justify_items": null,
            "left": null,
            "margin": null,
            "max_height": null,
            "max_width": null,
            "min_height": null,
            "min_width": null,
            "object_fit": null,
            "object_position": null,
            "order": null,
            "overflow": null,
            "overflow_x": null,
            "overflow_y": null,
            "padding": null,
            "right": null,
            "top": null,
            "visibility": null,
            "width": null
          }
        },
        "ef566917df764832809586df48aefe51": {
          "model_module": "@jupyter-widgets/base",
          "model_name": "LayoutModel",
          "model_module_version": "1.2.0",
          "state": {
            "_model_module": "@jupyter-widgets/base",
            "_model_module_version": "1.2.0",
            "_model_name": "LayoutModel",
            "_view_count": null,
            "_view_module": "@jupyter-widgets/base",
            "_view_module_version": "1.2.0",
            "_view_name": "LayoutView",
            "align_content": null,
            "align_items": null,
            "align_self": null,
            "border": null,
            "bottom": null,
            "display": null,
            "flex": null,
            "flex_flow": null,
            "grid_area": null,
            "grid_auto_columns": null,
            "grid_auto_flow": null,
            "grid_auto_rows": null,
            "grid_column": null,
            "grid_gap": null,
            "grid_row": null,
            "grid_template_areas": null,
            "grid_template_columns": null,
            "grid_template_rows": null,
            "height": null,
            "justify_content": null,
            "justify_items": null,
            "left": null,
            "margin": null,
            "max_height": null,
            "max_width": null,
            "min_height": null,
            "min_width": null,
            "object_fit": null,
            "object_position": null,
            "order": null,
            "overflow": null,
            "overflow_x": null,
            "overflow_y": null,
            "padding": null,
            "right": null,
            "top": null,
            "visibility": null,
            "width": null
          }
        },
        "bd4c31f7105045daba870a13575160a4": {
          "model_module": "@jupyter-widgets/controls",
          "model_name": "ProgressStyleModel",
          "model_module_version": "1.5.0",
          "state": {
            "_model_module": "@jupyter-widgets/controls",
            "_model_module_version": "1.5.0",
            "_model_name": "ProgressStyleModel",
            "_view_count": null,
            "_view_module": "@jupyter-widgets/base",
            "_view_module_version": "1.2.0",
            "_view_name": "StyleView",
            "bar_color": null,
            "description_width": "initial"
          }
        },
        "01de9f28c83c4d22a76e4a1040617c94": {
          "model_module": "@jupyter-widgets/base",
          "model_name": "LayoutModel",
          "model_module_version": "1.2.0",
          "state": {
            "_model_module": "@jupyter-widgets/base",
            "_model_module_version": "1.2.0",
            "_model_name": "LayoutModel",
            "_view_count": null,
            "_view_module": "@jupyter-widgets/base",
            "_view_module_version": "1.2.0",
            "_view_name": "LayoutView",
            "align_content": null,
            "align_items": null,
            "align_self": null,
            "border": null,
            "bottom": null,
            "display": null,
            "flex": null,
            "flex_flow": null,
            "grid_area": null,
            "grid_auto_columns": null,
            "grid_auto_flow": null,
            "grid_auto_rows": null,
            "grid_column": null,
            "grid_gap": null,
            "grid_row": null,
            "grid_template_areas": null,
            "grid_template_columns": null,
            "grid_template_rows": null,
            "height": null,
            "justify_content": null,
            "justify_items": null,
            "left": null,
            "margin": null,
            "max_height": null,
            "max_width": null,
            "min_height": null,
            "min_width": null,
            "object_fit": null,
            "object_position": null,
            "order": null,
            "overflow": null,
            "overflow_x": null,
            "overflow_y": null,
            "padding": null,
            "right": null,
            "top": null,
            "visibility": null,
            "width": null
          }
        },
        "422d5a2b26474e3eaa7322db74bbed1a": {
          "model_module": "@jupyter-widgets/controls",
          "model_name": "DescriptionStyleModel",
          "model_module_version": "1.5.0",
          "state": {
            "_model_module": "@jupyter-widgets/controls",
            "_model_module_version": "1.5.0",
            "_model_name": "DescriptionStyleModel",
            "_view_count": null,
            "_view_module": "@jupyter-widgets/base",
            "_view_module_version": "1.2.0",
            "_view_name": "StyleView",
            "description_width": ""
          }
        },
        "14344b7665094911817f0b7e7a1567a6": {
          "model_module": "@jupyter-widgets/controls",
          "model_name": "HBoxModel",
          "model_module_version": "1.5.0",
          "state": {
            "_dom_classes": [],
            "_model_module": "@jupyter-widgets/controls",
            "_model_module_version": "1.5.0",
            "_model_name": "HBoxModel",
            "_view_count": null,
            "_view_module": "@jupyter-widgets/controls",
            "_view_module_version": "1.5.0",
            "_view_name": "HBoxView",
            "box_style": "",
            "children": [
              "IPY_MODEL_f2df5dc33fc94fc0a8155ef0738fb247",
              "IPY_MODEL_70e103db87d846da84f085970951a533"
            ],
            "layout": "IPY_MODEL_79c4be57eb16444da08e61ec0cebbaa2"
          }
        },
        "f2df5dc33fc94fc0a8155ef0738fb247": {
          "model_module": "@jupyter-widgets/controls",
          "model_name": "FloatProgressModel",
          "model_module_version": "1.5.0",
          "state": {
            "_dom_classes": [],
            "_model_module": "@jupyter-widgets/controls",
            "_model_module_version": "1.5.0",
            "_model_name": "FloatProgressModel",
            "_view_count": null,
            "_view_module": "@jupyter-widgets/controls",
            "_view_module_version": "1.5.0",
            "_view_name": "ProgressView",
            "bar_style": "success",
            "description": "Downloading: 100%",
            "description_tooltip": null,
            "layout": "IPY_MODEL_1652bba23f284e9fad4b19712855ab70",
            "max": 28,
            "min": 0,
            "orientation": "horizontal",
            "style": "IPY_MODEL_6a2469d83b8a4b6fad6e62297d1005be",
            "value": 28
          }
        },
        "70e103db87d846da84f085970951a533": {
          "model_module": "@jupyter-widgets/controls",
          "model_name": "HTMLModel",
          "model_module_version": "1.5.0",
          "state": {
            "_dom_classes": [],
            "_model_module": "@jupyter-widgets/controls",
            "_model_module_version": "1.5.0",
            "_model_name": "HTMLModel",
            "_view_count": null,
            "_view_module": "@jupyter-widgets/controls",
            "_view_module_version": "1.5.0",
            "_view_name": "HTMLView",
            "description": "",
            "description_tooltip": null,
            "layout": "IPY_MODEL_6e6f0c4be49845a69afdeebd6cb0a545",
            "placeholder": "​",
            "style": "IPY_MODEL_64e27482c1ab439796fee2188d075704",
            "value": " 28.0/28.0 [00:00&lt;00:00, 218B/s]"
          }
        },
        "79c4be57eb16444da08e61ec0cebbaa2": {
          "model_module": "@jupyter-widgets/base",
          "model_name": "LayoutModel",
          "model_module_version": "1.2.0",
          "state": {
            "_model_module": "@jupyter-widgets/base",
            "_model_module_version": "1.2.0",
            "_model_name": "LayoutModel",
            "_view_count": null,
            "_view_module": "@jupyter-widgets/base",
            "_view_module_version": "1.2.0",
            "_view_name": "LayoutView",
            "align_content": null,
            "align_items": null,
            "align_self": null,
            "border": null,
            "bottom": null,
            "display": null,
            "flex": null,
            "flex_flow": null,
            "grid_area": null,
            "grid_auto_columns": null,
            "grid_auto_flow": null,
            "grid_auto_rows": null,
            "grid_column": null,
            "grid_gap": null,
            "grid_row": null,
            "grid_template_areas": null,
            "grid_template_columns": null,
            "grid_template_rows": null,
            "height": null,
            "justify_content": null,
            "justify_items": null,
            "left": null,
            "margin": null,
            "max_height": null,
            "max_width": null,
            "min_height": null,
            "min_width": null,
            "object_fit": null,
            "object_position": null,
            "order": null,
            "overflow": null,
            "overflow_x": null,
            "overflow_y": null,
            "padding": null,
            "right": null,
            "top": null,
            "visibility": null,
            "width": null
          }
        },
        "1652bba23f284e9fad4b19712855ab70": {
          "model_module": "@jupyter-widgets/base",
          "model_name": "LayoutModel",
          "model_module_version": "1.2.0",
          "state": {
            "_model_module": "@jupyter-widgets/base",
            "_model_module_version": "1.2.0",
            "_model_name": "LayoutModel",
            "_view_count": null,
            "_view_module": "@jupyter-widgets/base",
            "_view_module_version": "1.2.0",
            "_view_name": "LayoutView",
            "align_content": null,
            "align_items": null,
            "align_self": null,
            "border": null,
            "bottom": null,
            "display": null,
            "flex": null,
            "flex_flow": null,
            "grid_area": null,
            "grid_auto_columns": null,
            "grid_auto_flow": null,
            "grid_auto_rows": null,
            "grid_column": null,
            "grid_gap": null,
            "grid_row": null,
            "grid_template_areas": null,
            "grid_template_columns": null,
            "grid_template_rows": null,
            "height": null,
            "justify_content": null,
            "justify_items": null,
            "left": null,
            "margin": null,
            "max_height": null,
            "max_width": null,
            "min_height": null,
            "min_width": null,
            "object_fit": null,
            "object_position": null,
            "order": null,
            "overflow": null,
            "overflow_x": null,
            "overflow_y": null,
            "padding": null,
            "right": null,
            "top": null,
            "visibility": null,
            "width": null
          }
        },
        "6a2469d83b8a4b6fad6e62297d1005be": {
          "model_module": "@jupyter-widgets/controls",
          "model_name": "ProgressStyleModel",
          "model_module_version": "1.5.0",
          "state": {
            "_model_module": "@jupyter-widgets/controls",
            "_model_module_version": "1.5.0",
            "_model_name": "ProgressStyleModel",
            "_view_count": null,
            "_view_module": "@jupyter-widgets/base",
            "_view_module_version": "1.2.0",
            "_view_name": "StyleView",
            "bar_color": null,
            "description_width": "initial"
          }
        },
        "6e6f0c4be49845a69afdeebd6cb0a545": {
          "model_module": "@jupyter-widgets/base",
          "model_name": "LayoutModel",
          "model_module_version": "1.2.0",
          "state": {
            "_model_module": "@jupyter-widgets/base",
            "_model_module_version": "1.2.0",
            "_model_name": "LayoutModel",
            "_view_count": null,
            "_view_module": "@jupyter-widgets/base",
            "_view_module_version": "1.2.0",
            "_view_name": "LayoutView",
            "align_content": null,
            "align_items": null,
            "align_self": null,
            "border": null,
            "bottom": null,
            "display": null,
            "flex": null,
            "flex_flow": null,
            "grid_area": null,
            "grid_auto_columns": null,
            "grid_auto_flow": null,
            "grid_auto_rows": null,
            "grid_column": null,
            "grid_gap": null,
            "grid_row": null,
            "grid_template_areas": null,
            "grid_template_columns": null,
            "grid_template_rows": null,
            "height": null,
            "justify_content": null,
            "justify_items": null,
            "left": null,
            "margin": null,
            "max_height": null,
            "max_width": null,
            "min_height": null,
            "min_width": null,
            "object_fit": null,
            "object_position": null,
            "order": null,
            "overflow": null,
            "overflow_x": null,
            "overflow_y": null,
            "padding": null,
            "right": null,
            "top": null,
            "visibility": null,
            "width": null
          }
        },
        "64e27482c1ab439796fee2188d075704": {
          "model_module": "@jupyter-widgets/controls",
          "model_name": "DescriptionStyleModel",
          "model_module_version": "1.5.0",
          "state": {
            "_model_module": "@jupyter-widgets/controls",
            "_model_module_version": "1.5.0",
            "_model_name": "DescriptionStyleModel",
            "_view_count": null,
            "_view_module": "@jupyter-widgets/base",
            "_view_module_version": "1.2.0",
            "_view_name": "StyleView",
            "description_width": ""
          }
        },
        "9bc78c405eec465cbe61f7d9f621e722": {
          "model_module": "@jupyter-widgets/controls",
          "model_name": "HBoxModel",
          "model_module_version": "1.5.0",
          "state": {
            "_dom_classes": [],
            "_model_module": "@jupyter-widgets/controls",
            "_model_module_version": "1.5.0",
            "_model_name": "HBoxModel",
            "_view_count": null,
            "_view_module": "@jupyter-widgets/controls",
            "_view_module_version": "1.5.0",
            "_view_name": "HBoxView",
            "box_style": "",
            "children": [
              "IPY_MODEL_b15590d1449e4250aa9ceea369b015f2",
              "IPY_MODEL_ca54ee22830f4ef89a49516b9921b2b1"
            ],
            "layout": "IPY_MODEL_b0f9b44b1f384b359db645712e46ac83"
          }
        },
        "b15590d1449e4250aa9ceea369b015f2": {
          "model_module": "@jupyter-widgets/controls",
          "model_name": "FloatProgressModel",
          "model_module_version": "1.5.0",
          "state": {
            "_dom_classes": [],
            "_model_module": "@jupyter-widgets/controls",
            "_model_module_version": "1.5.0",
            "_model_name": "FloatProgressModel",
            "_view_count": null,
            "_view_module": "@jupyter-widgets/controls",
            "_view_module_version": "1.5.0",
            "_view_name": "ProgressView",
            "bar_style": "success",
            "description": "Downloading: 100%",
            "description_tooltip": null,
            "layout": "IPY_MODEL_07fdc6ae5b7d467d85b88b954e999233",
            "max": 466062,
            "min": 0,
            "orientation": "horizontal",
            "style": "IPY_MODEL_ec5457605c4644df9e608d988bb23549",
            "value": 466062
          }
        },
        "ca54ee22830f4ef89a49516b9921b2b1": {
          "model_module": "@jupyter-widgets/controls",
          "model_name": "HTMLModel",
          "model_module_version": "1.5.0",
          "state": {
            "_dom_classes": [],
            "_model_module": "@jupyter-widgets/controls",
            "_model_module_version": "1.5.0",
            "_model_name": "HTMLModel",
            "_view_count": null,
            "_view_module": "@jupyter-widgets/controls",
            "_view_module_version": "1.5.0",
            "_view_name": "HTMLView",
            "description": "",
            "description_tooltip": null,
            "layout": "IPY_MODEL_aad110eb0dba44af9de6b27948b6b7e8",
            "placeholder": "​",
            "style": "IPY_MODEL_73abd8e87acd4243b21d848b9a7def45",
            "value": " 466k/466k [00:00&lt;00:00, 3.11MB/s]"
          }
        },
        "b0f9b44b1f384b359db645712e46ac83": {
          "model_module": "@jupyter-widgets/base",
          "model_name": "LayoutModel",
          "model_module_version": "1.2.0",
          "state": {
            "_model_module": "@jupyter-widgets/base",
            "_model_module_version": "1.2.0",
            "_model_name": "LayoutModel",
            "_view_count": null,
            "_view_module": "@jupyter-widgets/base",
            "_view_module_version": "1.2.0",
            "_view_name": "LayoutView",
            "align_content": null,
            "align_items": null,
            "align_self": null,
            "border": null,
            "bottom": null,
            "display": null,
            "flex": null,
            "flex_flow": null,
            "grid_area": null,
            "grid_auto_columns": null,
            "grid_auto_flow": null,
            "grid_auto_rows": null,
            "grid_column": null,
            "grid_gap": null,
            "grid_row": null,
            "grid_template_areas": null,
            "grid_template_columns": null,
            "grid_template_rows": null,
            "height": null,
            "justify_content": null,
            "justify_items": null,
            "left": null,
            "margin": null,
            "max_height": null,
            "max_width": null,
            "min_height": null,
            "min_width": null,
            "object_fit": null,
            "object_position": null,
            "order": null,
            "overflow": null,
            "overflow_x": null,
            "overflow_y": null,
            "padding": null,
            "right": null,
            "top": null,
            "visibility": null,
            "width": null
          }
        },
        "07fdc6ae5b7d467d85b88b954e999233": {
          "model_module": "@jupyter-widgets/base",
          "model_name": "LayoutModel",
          "model_module_version": "1.2.0",
          "state": {
            "_model_module": "@jupyter-widgets/base",
            "_model_module_version": "1.2.0",
            "_model_name": "LayoutModel",
            "_view_count": null,
            "_view_module": "@jupyter-widgets/base",
            "_view_module_version": "1.2.0",
            "_view_name": "LayoutView",
            "align_content": null,
            "align_items": null,
            "align_self": null,
            "border": null,
            "bottom": null,
            "display": null,
            "flex": null,
            "flex_flow": null,
            "grid_area": null,
            "grid_auto_columns": null,
            "grid_auto_flow": null,
            "grid_auto_rows": null,
            "grid_column": null,
            "grid_gap": null,
            "grid_row": null,
            "grid_template_areas": null,
            "grid_template_columns": null,
            "grid_template_rows": null,
            "height": null,
            "justify_content": null,
            "justify_items": null,
            "left": null,
            "margin": null,
            "max_height": null,
            "max_width": null,
            "min_height": null,
            "min_width": null,
            "object_fit": null,
            "object_position": null,
            "order": null,
            "overflow": null,
            "overflow_x": null,
            "overflow_y": null,
            "padding": null,
            "right": null,
            "top": null,
            "visibility": null,
            "width": null
          }
        },
        "ec5457605c4644df9e608d988bb23549": {
          "model_module": "@jupyter-widgets/controls",
          "model_name": "ProgressStyleModel",
          "model_module_version": "1.5.0",
          "state": {
            "_model_module": "@jupyter-widgets/controls",
            "_model_module_version": "1.5.0",
            "_model_name": "ProgressStyleModel",
            "_view_count": null,
            "_view_module": "@jupyter-widgets/base",
            "_view_module_version": "1.2.0",
            "_view_name": "StyleView",
            "bar_color": null,
            "description_width": "initial"
          }
        },
        "aad110eb0dba44af9de6b27948b6b7e8": {
          "model_module": "@jupyter-widgets/base",
          "model_name": "LayoutModel",
          "model_module_version": "1.2.0",
          "state": {
            "_model_module": "@jupyter-widgets/base",
            "_model_module_version": "1.2.0",
            "_model_name": "LayoutModel",
            "_view_count": null,
            "_view_module": "@jupyter-widgets/base",
            "_view_module_version": "1.2.0",
            "_view_name": "LayoutView",
            "align_content": null,
            "align_items": null,
            "align_self": null,
            "border": null,
            "bottom": null,
            "display": null,
            "flex": null,
            "flex_flow": null,
            "grid_area": null,
            "grid_auto_columns": null,
            "grid_auto_flow": null,
            "grid_auto_rows": null,
            "grid_column": null,
            "grid_gap": null,
            "grid_row": null,
            "grid_template_areas": null,
            "grid_template_columns": null,
            "grid_template_rows": null,
            "height": null,
            "justify_content": null,
            "justify_items": null,
            "left": null,
            "margin": null,
            "max_height": null,
            "max_width": null,
            "min_height": null,
            "min_width": null,
            "object_fit": null,
            "object_position": null,
            "order": null,
            "overflow": null,
            "overflow_x": null,
            "overflow_y": null,
            "padding": null,
            "right": null,
            "top": null,
            "visibility": null,
            "width": null
          }
        },
        "73abd8e87acd4243b21d848b9a7def45": {
          "model_module": "@jupyter-widgets/controls",
          "model_name": "DescriptionStyleModel",
          "model_module_version": "1.5.0",
          "state": {
            "_model_module": "@jupyter-widgets/controls",
            "_model_module_version": "1.5.0",
            "_model_name": "DescriptionStyleModel",
            "_view_count": null,
            "_view_module": "@jupyter-widgets/base",
            "_view_module_version": "1.2.0",
            "_view_name": "StyleView",
            "description_width": ""
          }
        },
        "fa890b6ed57c45b2842f602dd31e13c5": {
          "model_module": "@jupyter-widgets/controls",
          "model_name": "HBoxModel",
          "model_module_version": "1.5.0",
          "state": {
            "_dom_classes": [],
            "_model_module": "@jupyter-widgets/controls",
            "_model_module_version": "1.5.0",
            "_model_name": "HBoxModel",
            "_view_count": null,
            "_view_module": "@jupyter-widgets/controls",
            "_view_module_version": "1.5.0",
            "_view_name": "HBoxView",
            "box_style": "",
            "children": [
              "IPY_MODEL_3f1aac93fbba4d9c88957064525d383a",
              "IPY_MODEL_ac60e95cdc6344c9ab688d1803dd1003"
            ],
            "layout": "IPY_MODEL_dee7ce8fa3704a8f80b9024951a11d1c"
          }
        },
        "3f1aac93fbba4d9c88957064525d383a": {
          "model_module": "@jupyter-widgets/controls",
          "model_name": "FloatProgressModel",
          "model_module_version": "1.5.0",
          "state": {
            "_dom_classes": [],
            "_model_module": "@jupyter-widgets/controls",
            "_model_module_version": "1.5.0",
            "_model_name": "FloatProgressModel",
            "_view_count": null,
            "_view_module": "@jupyter-widgets/controls",
            "_view_module_version": "1.5.0",
            "_view_name": "ProgressView",
            "bar_style": "success",
            "description": "Downloading: 100%",
            "description_tooltip": null,
            "layout": "IPY_MODEL_428479002ea948adbccbe573e5640c3d",
            "max": 440473133,
            "min": 0,
            "orientation": "horizontal",
            "style": "IPY_MODEL_d08747505cad4d60b2d56dd2440d068b",
            "value": 440473133
          }
        },
        "ac60e95cdc6344c9ab688d1803dd1003": {
          "model_module": "@jupyter-widgets/controls",
          "model_name": "HTMLModel",
          "model_module_version": "1.5.0",
          "state": {
            "_dom_classes": [],
            "_model_module": "@jupyter-widgets/controls",
            "_model_module_version": "1.5.0",
            "_model_name": "HTMLModel",
            "_view_count": null,
            "_view_module": "@jupyter-widgets/controls",
            "_view_module_version": "1.5.0",
            "_view_name": "HTMLView",
            "description": "",
            "description_tooltip": null,
            "layout": "IPY_MODEL_f221f8140dac47d89f6bf44ddf730e12",
            "placeholder": "​",
            "style": "IPY_MODEL_f35b57bee07f4c8681a992cddc5061b8",
            "value": " 440M/440M [01:03&lt;00:00, 6.92MB/s]"
          }
        },
        "dee7ce8fa3704a8f80b9024951a11d1c": {
          "model_module": "@jupyter-widgets/base",
          "model_name": "LayoutModel",
          "model_module_version": "1.2.0",
          "state": {
            "_model_module": "@jupyter-widgets/base",
            "_model_module_version": "1.2.0",
            "_model_name": "LayoutModel",
            "_view_count": null,
            "_view_module": "@jupyter-widgets/base",
            "_view_module_version": "1.2.0",
            "_view_name": "LayoutView",
            "align_content": null,
            "align_items": null,
            "align_self": null,
            "border": null,
            "bottom": null,
            "display": null,
            "flex": null,
            "flex_flow": null,
            "grid_area": null,
            "grid_auto_columns": null,
            "grid_auto_flow": null,
            "grid_auto_rows": null,
            "grid_column": null,
            "grid_gap": null,
            "grid_row": null,
            "grid_template_areas": null,
            "grid_template_columns": null,
            "grid_template_rows": null,
            "height": null,
            "justify_content": null,
            "justify_items": null,
            "left": null,
            "margin": null,
            "max_height": null,
            "max_width": null,
            "min_height": null,
            "min_width": null,
            "object_fit": null,
            "object_position": null,
            "order": null,
            "overflow": null,
            "overflow_x": null,
            "overflow_y": null,
            "padding": null,
            "right": null,
            "top": null,
            "visibility": null,
            "width": null
          }
        },
        "428479002ea948adbccbe573e5640c3d": {
          "model_module": "@jupyter-widgets/base",
          "model_name": "LayoutModel",
          "model_module_version": "1.2.0",
          "state": {
            "_model_module": "@jupyter-widgets/base",
            "_model_module_version": "1.2.0",
            "_model_name": "LayoutModel",
            "_view_count": null,
            "_view_module": "@jupyter-widgets/base",
            "_view_module_version": "1.2.0",
            "_view_name": "LayoutView",
            "align_content": null,
            "align_items": null,
            "align_self": null,
            "border": null,
            "bottom": null,
            "display": null,
            "flex": null,
            "flex_flow": null,
            "grid_area": null,
            "grid_auto_columns": null,
            "grid_auto_flow": null,
            "grid_auto_rows": null,
            "grid_column": null,
            "grid_gap": null,
            "grid_row": null,
            "grid_template_areas": null,
            "grid_template_columns": null,
            "grid_template_rows": null,
            "height": null,
            "justify_content": null,
            "justify_items": null,
            "left": null,
            "margin": null,
            "max_height": null,
            "max_width": null,
            "min_height": null,
            "min_width": null,
            "object_fit": null,
            "object_position": null,
            "order": null,
            "overflow": null,
            "overflow_x": null,
            "overflow_y": null,
            "padding": null,
            "right": null,
            "top": null,
            "visibility": null,
            "width": null
          }
        },
        "d08747505cad4d60b2d56dd2440d068b": {
          "model_module": "@jupyter-widgets/controls",
          "model_name": "ProgressStyleModel",
          "model_module_version": "1.5.0",
          "state": {
            "_model_module": "@jupyter-widgets/controls",
            "_model_module_version": "1.5.0",
            "_model_name": "ProgressStyleModel",
            "_view_count": null,
            "_view_module": "@jupyter-widgets/base",
            "_view_module_version": "1.2.0",
            "_view_name": "StyleView",
            "bar_color": null,
            "description_width": "initial"
          }
        },
        "f221f8140dac47d89f6bf44ddf730e12": {
          "model_module": "@jupyter-widgets/base",
          "model_name": "LayoutModel",
          "model_module_version": "1.2.0",
          "state": {
            "_model_module": "@jupyter-widgets/base",
            "_model_module_version": "1.2.0",
            "_model_name": "LayoutModel",
            "_view_count": null,
            "_view_module": "@jupyter-widgets/base",
            "_view_module_version": "1.2.0",
            "_view_name": "LayoutView",
            "align_content": null,
            "align_items": null,
            "align_self": null,
            "border": null,
            "bottom": null,
            "display": null,
            "flex": null,
            "flex_flow": null,
            "grid_area": null,
            "grid_auto_columns": null,
            "grid_auto_flow": null,
            "grid_auto_rows": null,
            "grid_column": null,
            "grid_gap": null,
            "grid_row": null,
            "grid_template_areas": null,
            "grid_template_columns": null,
            "grid_template_rows": null,
            "height": null,
            "justify_content": null,
            "justify_items": null,
            "left": null,
            "margin": null,
            "max_height": null,
            "max_width": null,
            "min_height": null,
            "min_width": null,
            "object_fit": null,
            "object_position": null,
            "order": null,
            "overflow": null,
            "overflow_x": null,
            "overflow_y": null,
            "padding": null,
            "right": null,
            "top": null,
            "visibility": null,
            "width": null
          }
        },
        "f35b57bee07f4c8681a992cddc5061b8": {
          "model_module": "@jupyter-widgets/controls",
          "model_name": "DescriptionStyleModel",
          "model_module_version": "1.5.0",
          "state": {
            "_model_module": "@jupyter-widgets/controls",
            "_model_module_version": "1.5.0",
            "_model_name": "DescriptionStyleModel",
            "_view_count": null,
            "_view_module": "@jupyter-widgets/base",
            "_view_module_version": "1.2.0",
            "_view_name": "StyleView",
            "description_width": ""
          }
        },
        "8b8ccc14acbd4f85ba171955fcbcb68e": {
          "model_module": "@jupyter-widgets/controls",
          "model_name": "HBoxModel",
          "model_module_version": "1.5.0",
          "state": {
            "_dom_classes": [],
            "_model_module": "@jupyter-widgets/controls",
            "_model_module_version": "1.5.0",
            "_model_name": "HBoxModel",
            "_view_count": null,
            "_view_module": "@jupyter-widgets/controls",
            "_view_module_version": "1.5.0",
            "_view_name": "HBoxView",
            "box_style": "",
            "children": [
              "IPY_MODEL_2bb8264861f24d4e9f062d2456fdea13",
              "IPY_MODEL_b9477f8a766647b5ac1775782a1e86df"
            ],
            "layout": "IPY_MODEL_d1147be84c784e1396e063be10f0d383"
          }
        },
        "2bb8264861f24d4e9f062d2456fdea13": {
          "model_module": "@jupyter-widgets/controls",
          "model_name": "FloatProgressModel",
          "model_module_version": "1.5.0",
          "state": {
            "_dom_classes": [],
            "_model_module": "@jupyter-widgets/controls",
            "_model_module_version": "1.5.0",
            "_model_name": "FloatProgressModel",
            "_view_count": null,
            "_view_module": "@jupyter-widgets/controls",
            "_view_module_version": "1.5.0",
            "_view_name": "ProgressView",
            "bar_style": "success",
            "description": "Downloading: 100%",
            "description_tooltip": null,
            "layout": "IPY_MODEL_b4d340f86ac441d1a259358be1553310",
            "max": 3517,
            "min": 0,
            "orientation": "horizontal",
            "style": "IPY_MODEL_18efad1a99584ef781f4a23c2dbc231b",
            "value": 3517
          }
        },
        "b9477f8a766647b5ac1775782a1e86df": {
          "model_module": "@jupyter-widgets/controls",
          "model_name": "HTMLModel",
          "model_module_version": "1.5.0",
          "state": {
            "_dom_classes": [],
            "_model_module": "@jupyter-widgets/controls",
            "_model_module_version": "1.5.0",
            "_model_name": "HTMLModel",
            "_view_count": null,
            "_view_module": "@jupyter-widgets/controls",
            "_view_module_version": "1.5.0",
            "_view_name": "HTMLView",
            "description": "",
            "description_tooltip": null,
            "layout": "IPY_MODEL_1e487c1322fc4d16af6597b626782a1e",
            "placeholder": "​",
            "style": "IPY_MODEL_80757fd341ac4f97b27abb9f0023215c",
            "value": " 3.52k/3.52k [00:01&lt;00:00, 2.24kB/s]"
          }
        },
        "d1147be84c784e1396e063be10f0d383": {
          "model_module": "@jupyter-widgets/base",
          "model_name": "LayoutModel",
          "model_module_version": "1.2.0",
          "state": {
            "_model_module": "@jupyter-widgets/base",
            "_model_module_version": "1.2.0",
            "_model_name": "LayoutModel",
            "_view_count": null,
            "_view_module": "@jupyter-widgets/base",
            "_view_module_version": "1.2.0",
            "_view_name": "LayoutView",
            "align_content": null,
            "align_items": null,
            "align_self": null,
            "border": null,
            "bottom": null,
            "display": null,
            "flex": null,
            "flex_flow": null,
            "grid_area": null,
            "grid_auto_columns": null,
            "grid_auto_flow": null,
            "grid_auto_rows": null,
            "grid_column": null,
            "grid_gap": null,
            "grid_row": null,
            "grid_template_areas": null,
            "grid_template_columns": null,
            "grid_template_rows": null,
            "height": null,
            "justify_content": null,
            "justify_items": null,
            "left": null,
            "margin": null,
            "max_height": null,
            "max_width": null,
            "min_height": null,
            "min_width": null,
            "object_fit": null,
            "object_position": null,
            "order": null,
            "overflow": null,
            "overflow_x": null,
            "overflow_y": null,
            "padding": null,
            "right": null,
            "top": null,
            "visibility": null,
            "width": null
          }
        },
        "b4d340f86ac441d1a259358be1553310": {
          "model_module": "@jupyter-widgets/base",
          "model_name": "LayoutModel",
          "model_module_version": "1.2.0",
          "state": {
            "_model_module": "@jupyter-widgets/base",
            "_model_module_version": "1.2.0",
            "_model_name": "LayoutModel",
            "_view_count": null,
            "_view_module": "@jupyter-widgets/base",
            "_view_module_version": "1.2.0",
            "_view_name": "LayoutView",
            "align_content": null,
            "align_items": null,
            "align_self": null,
            "border": null,
            "bottom": null,
            "display": null,
            "flex": null,
            "flex_flow": null,
            "grid_area": null,
            "grid_auto_columns": null,
            "grid_auto_flow": null,
            "grid_auto_rows": null,
            "grid_column": null,
            "grid_gap": null,
            "grid_row": null,
            "grid_template_areas": null,
            "grid_template_columns": null,
            "grid_template_rows": null,
            "height": null,
            "justify_content": null,
            "justify_items": null,
            "left": null,
            "margin": null,
            "max_height": null,
            "max_width": null,
            "min_height": null,
            "min_width": null,
            "object_fit": null,
            "object_position": null,
            "order": null,
            "overflow": null,
            "overflow_x": null,
            "overflow_y": null,
            "padding": null,
            "right": null,
            "top": null,
            "visibility": null,
            "width": null
          }
        },
        "18efad1a99584ef781f4a23c2dbc231b": {
          "model_module": "@jupyter-widgets/controls",
          "model_name": "ProgressStyleModel",
          "model_module_version": "1.5.0",
          "state": {
            "_model_module": "@jupyter-widgets/controls",
            "_model_module_version": "1.5.0",
            "_model_name": "ProgressStyleModel",
            "_view_count": null,
            "_view_module": "@jupyter-widgets/base",
            "_view_module_version": "1.2.0",
            "_view_name": "StyleView",
            "bar_color": null,
            "description_width": "initial"
          }
        },
        "1e487c1322fc4d16af6597b626782a1e": {
          "model_module": "@jupyter-widgets/base",
          "model_name": "LayoutModel",
          "model_module_version": "1.2.0",
          "state": {
            "_model_module": "@jupyter-widgets/base",
            "_model_module_version": "1.2.0",
            "_model_name": "LayoutModel",
            "_view_count": null,
            "_view_module": "@jupyter-widgets/base",
            "_view_module_version": "1.2.0",
            "_view_name": "LayoutView",
            "align_content": null,
            "align_items": null,
            "align_self": null,
            "border": null,
            "bottom": null,
            "display": null,
            "flex": null,
            "flex_flow": null,
            "grid_area": null,
            "grid_auto_columns": null,
            "grid_auto_flow": null,
            "grid_auto_rows": null,
            "grid_column": null,
            "grid_gap": null,
            "grid_row": null,
            "grid_template_areas": null,
            "grid_template_columns": null,
            "grid_template_rows": null,
            "height": null,
            "justify_content": null,
            "justify_items": null,
            "left": null,
            "margin": null,
            "max_height": null,
            "max_width": null,
            "min_height": null,
            "min_width": null,
            "object_fit": null,
            "object_position": null,
            "order": null,
            "overflow": null,
            "overflow_x": null,
            "overflow_y": null,
            "padding": null,
            "right": null,
            "top": null,
            "visibility": null,
            "width": null
          }
        },
        "80757fd341ac4f97b27abb9f0023215c": {
          "model_module": "@jupyter-widgets/controls",
          "model_name": "DescriptionStyleModel",
          "model_module_version": "1.5.0",
          "state": {
            "_model_module": "@jupyter-widgets/controls",
            "_model_module_version": "1.5.0",
            "_model_name": "DescriptionStyleModel",
            "_view_count": null,
            "_view_module": "@jupyter-widgets/base",
            "_view_module_version": "1.2.0",
            "_view_name": "StyleView",
            "description_width": ""
          }
        },
        "824c4dacfda94ec4b3a1f8ea47b7b1b2": {
          "model_module": "@jupyter-widgets/controls",
          "model_name": "HBoxModel",
          "model_module_version": "1.5.0",
          "state": {
            "_dom_classes": [],
            "_model_module": "@jupyter-widgets/controls",
            "_model_module_version": "1.5.0",
            "_model_name": "HBoxModel",
            "_view_count": null,
            "_view_module": "@jupyter-widgets/controls",
            "_view_module_version": "1.5.0",
            "_view_name": "HBoxView",
            "box_style": "",
            "children": [
              "IPY_MODEL_e20b139164e64d52b2021d99824e099e",
              "IPY_MODEL_72fbc739c4d94f71a22ca51ea24ee42c"
            ],
            "layout": "IPY_MODEL_6e8e8fd8df6f4d18bd38cc08d13809e8"
          }
        },
        "e20b139164e64d52b2021d99824e099e": {
          "model_module": "@jupyter-widgets/controls",
          "model_name": "FloatProgressModel",
          "model_module_version": "1.5.0",
          "state": {
            "_dom_classes": [],
            "_model_module": "@jupyter-widgets/controls",
            "_model_module_version": "1.5.0",
            "_model_name": "FloatProgressModel",
            "_view_count": null,
            "_view_module": "@jupyter-widgets/controls",
            "_view_module_version": "1.5.0",
            "_view_name": "ProgressView",
            "bar_style": "success",
            "description": "Downloading: 100%",
            "description_tooltip": null,
            "layout": "IPY_MODEL_c81ec9b61c0142b1b93b5c69ee67bea0",
            "max": 1209554860,
            "min": 0,
            "orientation": "horizontal",
            "style": "IPY_MODEL_9ea197cd1f0c4e9086cf74c5bb0d5e89",
            "value": 1209554860
          }
        },
        "72fbc739c4d94f71a22ca51ea24ee42c": {
          "model_module": "@jupyter-widgets/controls",
          "model_name": "HTMLModel",
          "model_module_version": "1.5.0",
          "state": {
            "_dom_classes": [],
            "_model_module": "@jupyter-widgets/controls",
            "_model_module_version": "1.5.0",
            "_model_name": "HTMLModel",
            "_view_count": null,
            "_view_module": "@jupyter-widgets/controls",
            "_view_module_version": "1.5.0",
            "_view_name": "HTMLView",
            "description": "",
            "description_tooltip": null,
            "layout": "IPY_MODEL_3687e21aee0a408b90338bebc65e1cda",
            "placeholder": "​",
            "style": "IPY_MODEL_93bb37fb55ab4b6cbcd368fb50e8fa19",
            "value": " 1.21G/1.21G [00:38&lt;00:00, 31.6MB/s]"
          }
        },
        "6e8e8fd8df6f4d18bd38cc08d13809e8": {
          "model_module": "@jupyter-widgets/base",
          "model_name": "LayoutModel",
          "model_module_version": "1.2.0",
          "state": {
            "_model_module": "@jupyter-widgets/base",
            "_model_module_version": "1.2.0",
            "_model_name": "LayoutModel",
            "_view_count": null,
            "_view_module": "@jupyter-widgets/base",
            "_view_module_version": "1.2.0",
            "_view_name": "LayoutView",
            "align_content": null,
            "align_items": null,
            "align_self": null,
            "border": null,
            "bottom": null,
            "display": null,
            "flex": null,
            "flex_flow": null,
            "grid_area": null,
            "grid_auto_columns": null,
            "grid_auto_flow": null,
            "grid_auto_rows": null,
            "grid_column": null,
            "grid_gap": null,
            "grid_row": null,
            "grid_template_areas": null,
            "grid_template_columns": null,
            "grid_template_rows": null,
            "height": null,
            "justify_content": null,
            "justify_items": null,
            "left": null,
            "margin": null,
            "max_height": null,
            "max_width": null,
            "min_height": null,
            "min_width": null,
            "object_fit": null,
            "object_position": null,
            "order": null,
            "overflow": null,
            "overflow_x": null,
            "overflow_y": null,
            "padding": null,
            "right": null,
            "top": null,
            "visibility": null,
            "width": null
          }
        },
        "c81ec9b61c0142b1b93b5c69ee67bea0": {
          "model_module": "@jupyter-widgets/base",
          "model_name": "LayoutModel",
          "model_module_version": "1.2.0",
          "state": {
            "_model_module": "@jupyter-widgets/base",
            "_model_module_version": "1.2.0",
            "_model_name": "LayoutModel",
            "_view_count": null,
            "_view_module": "@jupyter-widgets/base",
            "_view_module_version": "1.2.0",
            "_view_name": "LayoutView",
            "align_content": null,
            "align_items": null,
            "align_self": null,
            "border": null,
            "bottom": null,
            "display": null,
            "flex": null,
            "flex_flow": null,
            "grid_area": null,
            "grid_auto_columns": null,
            "grid_auto_flow": null,
            "grid_auto_rows": null,
            "grid_column": null,
            "grid_gap": null,
            "grid_row": null,
            "grid_template_areas": null,
            "grid_template_columns": null,
            "grid_template_rows": null,
            "height": null,
            "justify_content": null,
            "justify_items": null,
            "left": null,
            "margin": null,
            "max_height": null,
            "max_width": null,
            "min_height": null,
            "min_width": null,
            "object_fit": null,
            "object_position": null,
            "order": null,
            "overflow": null,
            "overflow_x": null,
            "overflow_y": null,
            "padding": null,
            "right": null,
            "top": null,
            "visibility": null,
            "width": null
          }
        },
        "9ea197cd1f0c4e9086cf74c5bb0d5e89": {
          "model_module": "@jupyter-widgets/controls",
          "model_name": "ProgressStyleModel",
          "model_module_version": "1.5.0",
          "state": {
            "_model_module": "@jupyter-widgets/controls",
            "_model_module_version": "1.5.0",
            "_model_name": "ProgressStyleModel",
            "_view_count": null,
            "_view_module": "@jupyter-widgets/base",
            "_view_module_version": "1.2.0",
            "_view_name": "StyleView",
            "bar_color": null,
            "description_width": "initial"
          }
        },
        "3687e21aee0a408b90338bebc65e1cda": {
          "model_module": "@jupyter-widgets/base",
          "model_name": "LayoutModel",
          "model_module_version": "1.2.0",
          "state": {
            "_model_module": "@jupyter-widgets/base",
            "_model_module_version": "1.2.0",
            "_model_name": "LayoutModel",
            "_view_count": null,
            "_view_module": "@jupyter-widgets/base",
            "_view_module_version": "1.2.0",
            "_view_name": "LayoutView",
            "align_content": null,
            "align_items": null,
            "align_self": null,
            "border": null,
            "bottom": null,
            "display": null,
            "flex": null,
            "flex_flow": null,
            "grid_area": null,
            "grid_auto_columns": null,
            "grid_auto_flow": null,
            "grid_auto_rows": null,
            "grid_column": null,
            "grid_gap": null,
            "grid_row": null,
            "grid_template_areas": null,
            "grid_template_columns": null,
            "grid_template_rows": null,
            "height": null,
            "justify_content": null,
            "justify_items": null,
            "left": null,
            "margin": null,
            "max_height": null,
            "max_width": null,
            "min_height": null,
            "min_width": null,
            "object_fit": null,
            "object_position": null,
            "order": null,
            "overflow": null,
            "overflow_x": null,
            "overflow_y": null,
            "padding": null,
            "right": null,
            "top": null,
            "visibility": null,
            "width": null
          }
        },
        "93bb37fb55ab4b6cbcd368fb50e8fa19": {
          "model_module": "@jupyter-widgets/controls",
          "model_name": "DescriptionStyleModel",
          "model_module_version": "1.5.0",
          "state": {
            "_model_module": "@jupyter-widgets/controls",
            "_model_module_version": "1.5.0",
            "_model_name": "DescriptionStyleModel",
            "_view_count": null,
            "_view_module": "@jupyter-widgets/base",
            "_view_module_version": "1.2.0",
            "_view_name": "StyleView",
            "description_width": ""
          }
        },
        "920c324bf1eb433db6608f2cfbe7c788": {
          "model_module": "@jupyter-widgets/controls",
          "model_name": "HBoxModel",
          "model_module_version": "1.5.0",
          "state": {
            "_dom_classes": [],
            "_model_module": "@jupyter-widgets/controls",
            "_model_module_version": "1.5.0",
            "_model_name": "HBoxModel",
            "_view_count": null,
            "_view_module": "@jupyter-widgets/controls",
            "_view_module_version": "1.5.0",
            "_view_name": "HBoxView",
            "box_style": "",
            "children": [
              "IPY_MODEL_82d9d60bcceb42c5b5bc8cd4c1de3b9b",
              "IPY_MODEL_ea656a06d2e24250b8a0670dbca99652"
            ],
            "layout": "IPY_MODEL_852a964e2c3f4b419420f258ecd5f525"
          }
        },
        "82d9d60bcceb42c5b5bc8cd4c1de3b9b": {
          "model_module": "@jupyter-widgets/controls",
          "model_name": "FloatProgressModel",
          "model_module_version": "1.5.0",
          "state": {
            "_dom_classes": [],
            "_model_module": "@jupyter-widgets/controls",
            "_model_module_version": "1.5.0",
            "_model_name": "FloatProgressModel",
            "_view_count": null,
            "_view_module": "@jupyter-widgets/controls",
            "_view_module_version": "1.5.0",
            "_view_name": "ProgressView",
            "bar_style": "success",
            "description": "Downloading: 100%",
            "description_tooltip": null,
            "layout": "IPY_MODEL_f39baeab0aab4463a2706f296acb270d",
            "max": 898823,
            "min": 0,
            "orientation": "horizontal",
            "style": "IPY_MODEL_b25f907a5c0f4307a0ba00fd98b5f500",
            "value": 898823
          }
        },
        "ea656a06d2e24250b8a0670dbca99652": {
          "model_module": "@jupyter-widgets/controls",
          "model_name": "HTMLModel",
          "model_module_version": "1.5.0",
          "state": {
            "_dom_classes": [],
            "_model_module": "@jupyter-widgets/controls",
            "_model_module_version": "1.5.0",
            "_model_name": "HTMLModel",
            "_view_count": null,
            "_view_module": "@jupyter-widgets/controls",
            "_view_module_version": "1.5.0",
            "_view_name": "HTMLView",
            "description": "",
            "description_tooltip": null,
            "layout": "IPY_MODEL_c640e91033ab4550a333b3fa5021611a",
            "placeholder": "​",
            "style": "IPY_MODEL_69154c1d3ab4484596ab2baea74d6dc9",
            "value": " 899k/899k [00:00&lt;00:00, 1.93MB/s]"
          }
        },
        "852a964e2c3f4b419420f258ecd5f525": {
          "model_module": "@jupyter-widgets/base",
          "model_name": "LayoutModel",
          "model_module_version": "1.2.0",
          "state": {
            "_model_module": "@jupyter-widgets/base",
            "_model_module_version": "1.2.0",
            "_model_name": "LayoutModel",
            "_view_count": null,
            "_view_module": "@jupyter-widgets/base",
            "_view_module_version": "1.2.0",
            "_view_name": "LayoutView",
            "align_content": null,
            "align_items": null,
            "align_self": null,
            "border": null,
            "bottom": null,
            "display": null,
            "flex": null,
            "flex_flow": null,
            "grid_area": null,
            "grid_auto_columns": null,
            "grid_auto_flow": null,
            "grid_auto_rows": null,
            "grid_column": null,
            "grid_gap": null,
            "grid_row": null,
            "grid_template_areas": null,
            "grid_template_columns": null,
            "grid_template_rows": null,
            "height": null,
            "justify_content": null,
            "justify_items": null,
            "left": null,
            "margin": null,
            "max_height": null,
            "max_width": null,
            "min_height": null,
            "min_width": null,
            "object_fit": null,
            "object_position": null,
            "order": null,
            "overflow": null,
            "overflow_x": null,
            "overflow_y": null,
            "padding": null,
            "right": null,
            "top": null,
            "visibility": null,
            "width": null
          }
        },
        "f39baeab0aab4463a2706f296acb270d": {
          "model_module": "@jupyter-widgets/base",
          "model_name": "LayoutModel",
          "model_module_version": "1.2.0",
          "state": {
            "_model_module": "@jupyter-widgets/base",
            "_model_module_version": "1.2.0",
            "_model_name": "LayoutModel",
            "_view_count": null,
            "_view_module": "@jupyter-widgets/base",
            "_view_module_version": "1.2.0",
            "_view_name": "LayoutView",
            "align_content": null,
            "align_items": null,
            "align_self": null,
            "border": null,
            "bottom": null,
            "display": null,
            "flex": null,
            "flex_flow": null,
            "grid_area": null,
            "grid_auto_columns": null,
            "grid_auto_flow": null,
            "grid_auto_rows": null,
            "grid_column": null,
            "grid_gap": null,
            "grid_row": null,
            "grid_template_areas": null,
            "grid_template_columns": null,
            "grid_template_rows": null,
            "height": null,
            "justify_content": null,
            "justify_items": null,
            "left": null,
            "margin": null,
            "max_height": null,
            "max_width": null,
            "min_height": null,
            "min_width": null,
            "object_fit": null,
            "object_position": null,
            "order": null,
            "overflow": null,
            "overflow_x": null,
            "overflow_y": null,
            "padding": null,
            "right": null,
            "top": null,
            "visibility": null,
            "width": null
          }
        },
        "b25f907a5c0f4307a0ba00fd98b5f500": {
          "model_module": "@jupyter-widgets/controls",
          "model_name": "ProgressStyleModel",
          "model_module_version": "1.5.0",
          "state": {
            "_model_module": "@jupyter-widgets/controls",
            "_model_module_version": "1.5.0",
            "_model_name": "ProgressStyleModel",
            "_view_count": null,
            "_view_module": "@jupyter-widgets/base",
            "_view_module_version": "1.2.0",
            "_view_name": "StyleView",
            "bar_color": null,
            "description_width": "initial"
          }
        },
        "c640e91033ab4550a333b3fa5021611a": {
          "model_module": "@jupyter-widgets/base",
          "model_name": "LayoutModel",
          "model_module_version": "1.2.0",
          "state": {
            "_model_module": "@jupyter-widgets/base",
            "_model_module_version": "1.2.0",
            "_model_name": "LayoutModel",
            "_view_count": null,
            "_view_module": "@jupyter-widgets/base",
            "_view_module_version": "1.2.0",
            "_view_name": "LayoutView",
            "align_content": null,
            "align_items": null,
            "align_self": null,
            "border": null,
            "bottom": null,
            "display": null,
            "flex": null,
            "flex_flow": null,
            "grid_area": null,
            "grid_auto_columns": null,
            "grid_auto_flow": null,
            "grid_auto_rows": null,
            "grid_column": null,
            "grid_gap": null,
            "grid_row": null,
            "grid_template_areas": null,
            "grid_template_columns": null,
            "grid_template_rows": null,
            "height": null,
            "justify_content": null,
            "justify_items": null,
            "left": null,
            "margin": null,
            "max_height": null,
            "max_width": null,
            "min_height": null,
            "min_width": null,
            "object_fit": null,
            "object_position": null,
            "order": null,
            "overflow": null,
            "overflow_x": null,
            "overflow_y": null,
            "padding": null,
            "right": null,
            "top": null,
            "visibility": null,
            "width": null
          }
        },
        "69154c1d3ab4484596ab2baea74d6dc9": {
          "model_module": "@jupyter-widgets/controls",
          "model_name": "DescriptionStyleModel",
          "model_module_version": "1.5.0",
          "state": {
            "_model_module": "@jupyter-widgets/controls",
            "_model_module_version": "1.5.0",
            "_model_name": "DescriptionStyleModel",
            "_view_count": null,
            "_view_module": "@jupyter-widgets/base",
            "_view_module_version": "1.2.0",
            "_view_name": "StyleView",
            "description_width": ""
          }
        },
        "8abd3604d85840d2abb1634f38e336e9": {
          "model_module": "@jupyter-widgets/controls",
          "model_name": "HBoxModel",
          "model_module_version": "1.5.0",
          "state": {
            "_dom_classes": [],
            "_model_module": "@jupyter-widgets/controls",
            "_model_module_version": "1.5.0",
            "_model_name": "HBoxModel",
            "_view_count": null,
            "_view_module": "@jupyter-widgets/controls",
            "_view_module_version": "1.5.0",
            "_view_name": "HBoxView",
            "box_style": "",
            "children": [
              "IPY_MODEL_185206f157ef41009ff5233bdebee511",
              "IPY_MODEL_b231bf7a5e4f4aeab86f73cd4209fbce"
            ],
            "layout": "IPY_MODEL_294de9583e2445098efcf997514d291a"
          }
        },
        "185206f157ef41009ff5233bdebee511": {
          "model_module": "@jupyter-widgets/controls",
          "model_name": "FloatProgressModel",
          "model_module_version": "1.5.0",
          "state": {
            "_dom_classes": [],
            "_model_module": "@jupyter-widgets/controls",
            "_model_module_version": "1.5.0",
            "_model_name": "FloatProgressModel",
            "_view_count": null,
            "_view_module": "@jupyter-widgets/controls",
            "_view_module_version": "1.5.0",
            "_view_name": "ProgressView",
            "bar_style": "success",
            "description": "Downloading: 100%",
            "description_tooltip": null,
            "layout": "IPY_MODEL_045ba80402244ccda345d4a0f52b3238",
            "max": 456318,
            "min": 0,
            "orientation": "horizontal",
            "style": "IPY_MODEL_1242550e3b07406d8679c5a02f743164",
            "value": 456318
          }
        },
        "b231bf7a5e4f4aeab86f73cd4209fbce": {
          "model_module": "@jupyter-widgets/controls",
          "model_name": "HTMLModel",
          "model_module_version": "1.5.0",
          "state": {
            "_dom_classes": [],
            "_model_module": "@jupyter-widgets/controls",
            "_model_module_version": "1.5.0",
            "_model_name": "HTMLModel",
            "_view_count": null,
            "_view_module": "@jupyter-widgets/controls",
            "_view_module_version": "1.5.0",
            "_view_name": "HTMLView",
            "description": "",
            "description_tooltip": null,
            "layout": "IPY_MODEL_f512d61dcc4b412685334a93c919a4e3",
            "placeholder": "​",
            "style": "IPY_MODEL_ee31bd8bb5104a6480f0dfd92b33a7c8",
            "value": " 456k/456k [00:00&lt;00:00, 1.54MB/s]"
          }
        },
        "294de9583e2445098efcf997514d291a": {
          "model_module": "@jupyter-widgets/base",
          "model_name": "LayoutModel",
          "model_module_version": "1.2.0",
          "state": {
            "_model_module": "@jupyter-widgets/base",
            "_model_module_version": "1.2.0",
            "_model_name": "LayoutModel",
            "_view_count": null,
            "_view_module": "@jupyter-widgets/base",
            "_view_module_version": "1.2.0",
            "_view_name": "LayoutView",
            "align_content": null,
            "align_items": null,
            "align_self": null,
            "border": null,
            "bottom": null,
            "display": null,
            "flex": null,
            "flex_flow": null,
            "grid_area": null,
            "grid_auto_columns": null,
            "grid_auto_flow": null,
            "grid_auto_rows": null,
            "grid_column": null,
            "grid_gap": null,
            "grid_row": null,
            "grid_template_areas": null,
            "grid_template_columns": null,
            "grid_template_rows": null,
            "height": null,
            "justify_content": null,
            "justify_items": null,
            "left": null,
            "margin": null,
            "max_height": null,
            "max_width": null,
            "min_height": null,
            "min_width": null,
            "object_fit": null,
            "object_position": null,
            "order": null,
            "overflow": null,
            "overflow_x": null,
            "overflow_y": null,
            "padding": null,
            "right": null,
            "top": null,
            "visibility": null,
            "width": null
          }
        },
        "045ba80402244ccda345d4a0f52b3238": {
          "model_module": "@jupyter-widgets/base",
          "model_name": "LayoutModel",
          "model_module_version": "1.2.0",
          "state": {
            "_model_module": "@jupyter-widgets/base",
            "_model_module_version": "1.2.0",
            "_model_name": "LayoutModel",
            "_view_count": null,
            "_view_module": "@jupyter-widgets/base",
            "_view_module_version": "1.2.0",
            "_view_name": "LayoutView",
            "align_content": null,
            "align_items": null,
            "align_self": null,
            "border": null,
            "bottom": null,
            "display": null,
            "flex": null,
            "flex_flow": null,
            "grid_area": null,
            "grid_auto_columns": null,
            "grid_auto_flow": null,
            "grid_auto_rows": null,
            "grid_column": null,
            "grid_gap": null,
            "grid_row": null,
            "grid_template_areas": null,
            "grid_template_columns": null,
            "grid_template_rows": null,
            "height": null,
            "justify_content": null,
            "justify_items": null,
            "left": null,
            "margin": null,
            "max_height": null,
            "max_width": null,
            "min_height": null,
            "min_width": null,
            "object_fit": null,
            "object_position": null,
            "order": null,
            "overflow": null,
            "overflow_x": null,
            "overflow_y": null,
            "padding": null,
            "right": null,
            "top": null,
            "visibility": null,
            "width": null
          }
        },
        "1242550e3b07406d8679c5a02f743164": {
          "model_module": "@jupyter-widgets/controls",
          "model_name": "ProgressStyleModel",
          "model_module_version": "1.5.0",
          "state": {
            "_model_module": "@jupyter-widgets/controls",
            "_model_module_version": "1.5.0",
            "_model_name": "ProgressStyleModel",
            "_view_count": null,
            "_view_module": "@jupyter-widgets/base",
            "_view_module_version": "1.2.0",
            "_view_name": "StyleView",
            "bar_color": null,
            "description_width": "initial"
          }
        },
        "f512d61dcc4b412685334a93c919a4e3": {
          "model_module": "@jupyter-widgets/base",
          "model_name": "LayoutModel",
          "model_module_version": "1.2.0",
          "state": {
            "_model_module": "@jupyter-widgets/base",
            "_model_module_version": "1.2.0",
            "_model_name": "LayoutModel",
            "_view_count": null,
            "_view_module": "@jupyter-widgets/base",
            "_view_module_version": "1.2.0",
            "_view_name": "LayoutView",
            "align_content": null,
            "align_items": null,
            "align_self": null,
            "border": null,
            "bottom": null,
            "display": null,
            "flex": null,
            "flex_flow": null,
            "grid_area": null,
            "grid_auto_columns": null,
            "grid_auto_flow": null,
            "grid_auto_rows": null,
            "grid_column": null,
            "grid_gap": null,
            "grid_row": null,
            "grid_template_areas": null,
            "grid_template_columns": null,
            "grid_template_rows": null,
            "height": null,
            "justify_content": null,
            "justify_items": null,
            "left": null,
            "margin": null,
            "max_height": null,
            "max_width": null,
            "min_height": null,
            "min_width": null,
            "object_fit": null,
            "object_position": null,
            "order": null,
            "overflow": null,
            "overflow_x": null,
            "overflow_y": null,
            "padding": null,
            "right": null,
            "top": null,
            "visibility": null,
            "width": null
          }
        },
        "ee31bd8bb5104a6480f0dfd92b33a7c8": {
          "model_module": "@jupyter-widgets/controls",
          "model_name": "DescriptionStyleModel",
          "model_module_version": "1.5.0",
          "state": {
            "_model_module": "@jupyter-widgets/controls",
            "_model_module_version": "1.5.0",
            "_model_name": "DescriptionStyleModel",
            "_view_count": null,
            "_view_module": "@jupyter-widgets/base",
            "_view_module_version": "1.2.0",
            "_view_name": "StyleView",
            "description_width": ""
          }
        },
        "a2daec62279b46b4bc1c9c7d1388bfc4": {
          "model_module": "@jupyter-widgets/controls",
          "model_name": "HBoxModel",
          "model_module_version": "1.5.0",
          "state": {
            "_dom_classes": [],
            "_model_module": "@jupyter-widgets/controls",
            "_model_module_version": "1.5.0",
            "_model_name": "HBoxModel",
            "_view_count": null,
            "_view_module": "@jupyter-widgets/controls",
            "_view_module_version": "1.5.0",
            "_view_name": "HBoxView",
            "box_style": "",
            "children": [
              "IPY_MODEL_dd171dd11f484b63b95742b811076db6",
              "IPY_MODEL_dda997387d11445b943e7585a3cdf1a4"
            ],
            "layout": "IPY_MODEL_c67a91270dea4f61bc0ddf9ec252e3ff"
          }
        },
        "dd171dd11f484b63b95742b811076db6": {
          "model_module": "@jupyter-widgets/controls",
          "model_name": "FloatProgressModel",
          "model_module_version": "1.5.0",
          "state": {
            "_dom_classes": [],
            "_model_module": "@jupyter-widgets/controls",
            "_model_module_version": "1.5.0",
            "_model_name": "FloatProgressModel",
            "_view_count": null,
            "_view_module": "@jupyter-widgets/controls",
            "_view_module_version": "1.5.0",
            "_view_name": "ProgressView",
            "bar_style": "success",
            "description": "Downloading: 100%",
            "description_tooltip": null,
            "layout": "IPY_MODEL_3d39f817df784a7c83431daa0e13446a",
            "max": 1355863,
            "min": 0,
            "orientation": "horizontal",
            "style": "IPY_MODEL_41c00e712a3e418d866c33bd891f6645",
            "value": 1355863
          }
        },
        "dda997387d11445b943e7585a3cdf1a4": {
          "model_module": "@jupyter-widgets/controls",
          "model_name": "HTMLModel",
          "model_module_version": "1.5.0",
          "state": {
            "_dom_classes": [],
            "_model_module": "@jupyter-widgets/controls",
            "_model_module_version": "1.5.0",
            "_model_name": "HTMLModel",
            "_view_count": null,
            "_view_module": "@jupyter-widgets/controls",
            "_view_module_version": "1.5.0",
            "_view_name": "HTMLView",
            "description": "",
            "description_tooltip": null,
            "layout": "IPY_MODEL_33cb87b0002843688dfcb6370c4aa3e7",
            "placeholder": "​",
            "style": "IPY_MODEL_05ebf96491ea4e93baa8b267d7ee61e9",
            "value": " 1.36M/1.36M [00:00&lt;00:00, 6.01MB/s]"
          }
        },
        "c67a91270dea4f61bc0ddf9ec252e3ff": {
          "model_module": "@jupyter-widgets/base",
          "model_name": "LayoutModel",
          "model_module_version": "1.2.0",
          "state": {
            "_model_module": "@jupyter-widgets/base",
            "_model_module_version": "1.2.0",
            "_model_name": "LayoutModel",
            "_view_count": null,
            "_view_module": "@jupyter-widgets/base",
            "_view_module_version": "1.2.0",
            "_view_name": "LayoutView",
            "align_content": null,
            "align_items": null,
            "align_self": null,
            "border": null,
            "bottom": null,
            "display": null,
            "flex": null,
            "flex_flow": null,
            "grid_area": null,
            "grid_auto_columns": null,
            "grid_auto_flow": null,
            "grid_auto_rows": null,
            "grid_column": null,
            "grid_gap": null,
            "grid_row": null,
            "grid_template_areas": null,
            "grid_template_columns": null,
            "grid_template_rows": null,
            "height": null,
            "justify_content": null,
            "justify_items": null,
            "left": null,
            "margin": null,
            "max_height": null,
            "max_width": null,
            "min_height": null,
            "min_width": null,
            "object_fit": null,
            "object_position": null,
            "order": null,
            "overflow": null,
            "overflow_x": null,
            "overflow_y": null,
            "padding": null,
            "right": null,
            "top": null,
            "visibility": null,
            "width": null
          }
        },
        "3d39f817df784a7c83431daa0e13446a": {
          "model_module": "@jupyter-widgets/base",
          "model_name": "LayoutModel",
          "model_module_version": "1.2.0",
          "state": {
            "_model_module": "@jupyter-widgets/base",
            "_model_module_version": "1.2.0",
            "_model_name": "LayoutModel",
            "_view_count": null,
            "_view_module": "@jupyter-widgets/base",
            "_view_module_version": "1.2.0",
            "_view_name": "LayoutView",
            "align_content": null,
            "align_items": null,
            "align_self": null,
            "border": null,
            "bottom": null,
            "display": null,
            "flex": null,
            "flex_flow": null,
            "grid_area": null,
            "grid_auto_columns": null,
            "grid_auto_flow": null,
            "grid_auto_rows": null,
            "grid_column": null,
            "grid_gap": null,
            "grid_row": null,
            "grid_template_areas": null,
            "grid_template_columns": null,
            "grid_template_rows": null,
            "height": null,
            "justify_content": null,
            "justify_items": null,
            "left": null,
            "margin": null,
            "max_height": null,
            "max_width": null,
            "min_height": null,
            "min_width": null,
            "object_fit": null,
            "object_position": null,
            "order": null,
            "overflow": null,
            "overflow_x": null,
            "overflow_y": null,
            "padding": null,
            "right": null,
            "top": null,
            "visibility": null,
            "width": null
          }
        },
        "41c00e712a3e418d866c33bd891f6645": {
          "model_module": "@jupyter-widgets/controls",
          "model_name": "ProgressStyleModel",
          "model_module_version": "1.5.0",
          "state": {
            "_model_module": "@jupyter-widgets/controls",
            "_model_module_version": "1.5.0",
            "_model_name": "ProgressStyleModel",
            "_view_count": null,
            "_view_module": "@jupyter-widgets/base",
            "_view_module_version": "1.2.0",
            "_view_name": "StyleView",
            "bar_color": null,
            "description_width": "initial"
          }
        },
        "33cb87b0002843688dfcb6370c4aa3e7": {
          "model_module": "@jupyter-widgets/base",
          "model_name": "LayoutModel",
          "model_module_version": "1.2.0",
          "state": {
            "_model_module": "@jupyter-widgets/base",
            "_model_module_version": "1.2.0",
            "_model_name": "LayoutModel",
            "_view_count": null,
            "_view_module": "@jupyter-widgets/base",
            "_view_module_version": "1.2.0",
            "_view_name": "LayoutView",
            "align_content": null,
            "align_items": null,
            "align_self": null,
            "border": null,
            "bottom": null,
            "display": null,
            "flex": null,
            "flex_flow": null,
            "grid_area": null,
            "grid_auto_columns": null,
            "grid_auto_flow": null,
            "grid_auto_rows": null,
            "grid_column": null,
            "grid_gap": null,
            "grid_row": null,
            "grid_template_areas": null,
            "grid_template_columns": null,
            "grid_template_rows": null,
            "height": null,
            "justify_content": null,
            "justify_items": null,
            "left": null,
            "margin": null,
            "max_height": null,
            "max_width": null,
            "min_height": null,
            "min_width": null,
            "object_fit": null,
            "object_position": null,
            "order": null,
            "overflow": null,
            "overflow_x": null,
            "overflow_y": null,
            "padding": null,
            "right": null,
            "top": null,
            "visibility": null,
            "width": null
          }
        },
        "05ebf96491ea4e93baa8b267d7ee61e9": {
          "model_module": "@jupyter-widgets/controls",
          "model_name": "DescriptionStyleModel",
          "model_module_version": "1.5.0",
          "state": {
            "_model_module": "@jupyter-widgets/controls",
            "_model_module_version": "1.5.0",
            "_model_name": "DescriptionStyleModel",
            "_view_count": null,
            "_view_module": "@jupyter-widgets/base",
            "_view_module_version": "1.2.0",
            "_view_name": "StyleView",
            "description_width": ""
          }
        }
      }
    }
  },
  "cells": [
    {
      "cell_type": "markdown",
      "source": [
        "This code was adapted from:\n",
        "\n",
        "\n",
        "*   https://www.geeksforgeeks.org/spelling-checker-in-python/\n",
        "*   NLP Labs\n"
      ],
      "metadata": {
        "id": "l1SpzZaj0v8g"
      }
    },
    {
      "cell_type": "code",
      "execution_count": null,
      "metadata": {
        "colab": {
          "base_uri": "https://localhost:8080/"
        },
        "id": "TBNlD-9C47Kh",
        "outputId": "d86c667c-8035-4cd9-f31a-13a92afd7a1a"
      },
      "outputs": [
        {
          "output_type": "stream",
          "name": "stderr",
          "text": [
            "[nltk_data] Downloading package punkt to /root/nltk_data...\n",
            "[nltk_data]   Package punkt is already up-to-date!\n",
            "[nltk_data] Downloading package stopwords to /root/nltk_data...\n",
            "[nltk_data]   Package stopwords is already up-to-date!\n"
          ]
        },
        {
          "output_type": "stream",
          "name": "stdout",
          "text": [
            "Drive already mounted at /content/drive; to attempt to forcibly remount, call drive.mount(\"/content/drive\", force_remount=True).\n",
            " ArtsRatings_5000_test.txt\t      'My CW 2.ipynb'\n",
            " ArtsRatings_5000_train.txt\t      'MY CW 3.ipynb'\n",
            " ArtsReviews_5000_test.txt\t      'My CW 4.ipynb'\n",
            " ArtsReviews_5000_train.txt\t       Reduced_ArtsRatings_5000.txt\n",
            " glove.6B.100d.txt\t\t       Reduced_ArtsReviews_5000.txt\n",
            " JewelleryReviewsLSA.csv\t       review_polarity\n",
            " JewelleryReviewsQueryRelevantID.csv  'Task 3.ipynb'\n",
            " metamorphosis_clean.txt\t       Untitled0.ipynb\n",
            "'My CW1.ipynb'\n"
          ]
        }
      ],
      "source": [
        "from google.colab import drive\n",
        "import pandas as pd\n",
        "import numpy as np\n",
        "import matplotlib.pyplot as plt\n",
        "from numpy import array\n",
        "from string import punctuation\n",
        "from os import listdir\n",
        "from collections import Counter\n",
        "from nltk.corpus import stopwords\n",
        "from pandas import DataFrame\n",
        "from matplotlib import pyplot\n",
        "import random\n",
        "import nltk\n",
        "from sklearn.decomposition import TruncatedSVD\n",
        "from scipy.sparse import rand\n",
        "from sklearn.metrics.pairwise import cosine_similarity\n",
        "from numpy import argsort\n",
        "from sklearn.feature_extraction.text import CountVectorizer, TfidfTransformer\n",
        "from collections import Counter\n",
        "from nltk.stem.porter import PorterStemmer\n",
        "#from spellchecker import SpellChecker\n",
        "nltk.download('punkt')\n",
        "nltk.download('stopwords')\n",
        "\n",
        "drive.mount(\"/content/drive\")\n",
        "\n",
        "data_path = \"/content/drive/My Drive/Colab Notebooks/21COP509/LabDatasets/\"\n",
        "!ls \"/content/drive/My Drive/Colab Notebooks/21COP509/LabDatasets/\""
      ]
    },
    {
      "cell_type": "code",
      "source": [
        "# Download SummerTime \n",
        "# Swith to the Summertime directory\n",
        "\n",
        "!git clone https://github.com/Yale-LILY/SummerTime.git\n",
        "%cd SummerTime/"
      ],
      "metadata": {
        "colab": {
          "base_uri": "https://localhost:8080/"
        },
        "id": "mmm4uBIn5AUJ",
        "outputId": "32533061-e00d-45c6-c261-9e9e59790ddc"
      },
      "execution_count": null,
      "outputs": [
        {
          "output_type": "stream",
          "name": "stdout",
          "text": [
            "Cloning into 'SummerTime'...\n",
            "remote: Enumerating objects: 4381, done.\u001b[K\n",
            "remote: Counting objects: 100% (2209/2209), done.\u001b[K\n",
            "remote: Compressing objects: 100% (1135/1135), done.\u001b[K\n",
            "remote: Total 4381 (delta 1486), reused 1523 (delta 933), pack-reused 2172\u001b[K\n",
            "Receiving objects: 100% (4381/4381), 9.87 MiB | 26.40 MiB/s, done.\n",
            "Resolving deltas: 100% (2352/2352), done.\n",
            "/content/SummerTime\n"
          ]
        }
      ]
    },
    {
      "cell_type": "code",
      "source": [
        "# Pip install Summertime locally\n",
        "\n",
        "!pip install -e ."
      ],
      "metadata": {
        "colab": {
          "base_uri": "https://localhost:8080/",
          "height": 1000
        },
        "id": "RqI5iT2m5MpY",
        "outputId": "512e2b46-775b-44c3-d477-1621352e3b02"
      },
      "execution_count": null,
      "outputs": [
        {
          "output_type": "stream",
          "name": "stdout",
          "text": [
            "Obtaining file:///content/SummerTime\n",
            "  Installing build dependencies ... \u001b[?25l\u001b[?25hdone\n",
            "  Getting requirements to build wheel ... \u001b[?25l\u001b[?25hdone\n",
            "    Preparing wheel metadata ... \u001b[?25l\u001b[?25hdone\n",
            "Collecting lexrank~=0.1.0\n",
            "  Downloading lexrank-0.1.0-py3-none-any.whl (69 kB)\n",
            "\u001b[K     |████████████████████████████████| 69 kB 5.6 MB/s \n",
            "\u001b[?25hRequirement already satisfied: click==7.1.2 in /usr/local/lib/python3.7/dist-packages (from summertime==1.2.1) (7.1.2)\n",
            "Requirement already satisfied: cython in /usr/local/lib/python3.7/dist-packages (from summertime==1.2.1) (0.29.28)\n",
            "Collecting py7zr~=0.16.1\n",
            "  Downloading py7zr-0.16.4-py3-none-any.whl (67 kB)\n",
            "\u001b[K     |████████████████████████████████| 67 kB 5.6 MB/s \n",
            "\u001b[?25hRequirement already satisfied: numpy in /usr/local/lib/python3.7/dist-packages (from summertime==1.2.1) (1.21.5)\n",
            "Collecting nltk==3.6.2\n",
            "  Downloading nltk-3.6.2-py3-none-any.whl (1.5 MB)\n",
            "\u001b[K     |████████████████████████████████| 1.5 MB 51.1 MB/s \n",
            "\u001b[?25hRequirement already satisfied: sklearn in /usr/local/lib/python3.7/dist-packages (from summertime==1.2.1) (0.0)\n",
            "Collecting progressbar\n",
            "  Downloading progressbar-2.5.tar.gz (10 kB)\n",
            "Collecting summ-eval==0.70\n",
            "  Downloading summ_eval-0.70-py3-none-any.whl (62.5 MB)\n",
            "\u001b[K     |████████████████████████████████| 62.5 MB 1.2 MB/s \n",
            "\u001b[?25hCollecting spacy==3.0.6\n",
            "  Downloading spacy-3.0.6-cp37-cp37m-manylinux2014_x86_64.whl (12.8 MB)\n",
            "\u001b[K     |████████████████████████████████| 12.8 MB 39.3 MB/s \n",
            "\u001b[?25hRequirement already satisfied: torch~=1.8 in /usr/local/lib/python3.7/dist-packages (from summertime==1.2.1) (1.10.0+cu111)\n",
            "Collecting black~=21.12b0\n",
            "  Downloading black-21.12b0-py3-none-any.whl (156 kB)\n",
            "\u001b[K     |████████████████████████████████| 156 kB 45.8 MB/s \n",
            "\u001b[?25hCollecting pytextrank\n",
            "  Downloading pytextrank-3.2.3-py3-none-any.whl (30 kB)\n",
            "Collecting orjson\n",
            "  Downloading orjson-3.6.7-cp37-cp37m-manylinux_2_24_x86_64.whl (255 kB)\n",
            "\u001b[K     |████████████████████████████████| 255 kB 55.7 MB/s \n",
            "\u001b[?25hCollecting tensorboard~=2.4.1\n",
            "  Downloading tensorboard-2.4.1-py3-none-any.whl (10.6 MB)\n",
            "\u001b[K     |████████████████████████████████| 10.6 MB 41.6 MB/s \n",
            "\u001b[?25hCollecting tqdm~=4.49.0\n",
            "  Downloading tqdm-4.49.0-py2.py3-none-any.whl (69 kB)\n",
            "\u001b[K     |████████████████████████████████| 69 kB 6.6 MB/s \n",
            "\u001b[?25hCollecting flake8\n",
            "  Downloading flake8-4.0.1-py2.py3-none-any.whl (64 kB)\n",
            "\u001b[K     |████████████████████████████████| 64 kB 2.6 MB/s \n",
            "\u001b[?25hRequirement already satisfied: jupyter in /usr/local/lib/python3.7/dist-packages (from summertime==1.2.1) (1.0.0)\n",
            "Collecting transformers~=4.5.1\n",
            "  Downloading transformers-4.5.1-py3-none-any.whl (2.1 MB)\n",
            "\u001b[K     |████████████████████████████████| 2.1 MB 52.3 MB/s \n",
            "\u001b[?25hRequirement already satisfied: gdown~=4.2.0 in /usr/local/lib/python3.7/dist-packages (from summertime==1.2.1) (4.2.2)\n",
            "Collecting datasets~=1.6.2\n",
            "  Downloading datasets-1.6.2-py3-none-any.whl (221 kB)\n",
            "\u001b[K     |████████████████████████████████| 221 kB 55.3 MB/s \n",
            "\u001b[?25hCollecting readability-lxml\n",
            "  Downloading readability_lxml-0.8.1-py3-none-any.whl (20 kB)\n",
            "Collecting sentencepiece~=0.1.95\n",
            "  Downloading sentencepiece-0.1.96-cp37-cp37m-manylinux_2_17_x86_64.manylinux2014_x86_64.whl (1.2 MB)\n",
            "\u001b[K     |████████████████████████████████| 1.2 MB 49.0 MB/s \n",
            "\u001b[?25hCollecting easynmt~=2.0.1\n",
            "  Downloading EasyNMT-2.0.1.tar.gz (14 kB)\n",
            "Collecting gensim~=3.8.3\n",
            "  Downloading gensim-3.8.3-cp37-cp37m-manylinux1_x86_64.whl (24.2 MB)\n",
            "\u001b[K     |████████████████████████████████| 24.2 MB 1.4 MB/s \n",
            "\u001b[?25hRequirement already satisfied: beautifulsoup4 in /usr/local/lib/python3.7/dist-packages (from summertime==1.2.1) (4.6.3)\n",
            "Requirement already satisfied: prettytable in /usr/local/lib/python3.7/dist-packages (from summertime==1.2.1) (3.2.0)\n",
            "Collecting fasttext~=0.9.2\n",
            "  Downloading fasttext-0.9.2.tar.gz (68 kB)\n",
            "\u001b[K     |████████████████████████████████| 68 kB 6.9 MB/s \n",
            "\u001b[?25hRequirement already satisfied: joblib in /usr/local/lib/python3.7/dist-packages (from nltk==3.6.2->summertime==1.2.1) (1.1.0)\n",
            "Requirement already satisfied: regex in /usr/local/lib/python3.7/dist-packages (from nltk==3.6.2->summertime==1.2.1) (2019.12.20)\n",
            "Collecting catalogue<2.1.0,>=2.0.3\n",
            "  Downloading catalogue-2.0.6-py3-none-any.whl (17 kB)\n",
            "Requirement already satisfied: typing-extensions<4.0.0.0,>=3.7.4 in /usr/local/lib/python3.7/dist-packages (from spacy==3.0.6->summertime==1.2.1) (3.10.0.2)\n",
            "Collecting pydantic<1.8.0,>=1.7.1\n",
            "  Downloading pydantic-1.7.4-cp37-cp37m-manylinux2014_x86_64.whl (9.1 MB)\n",
            "\u001b[K     |████████████████████████████████| 9.1 MB 41.3 MB/s \n",
            "\u001b[?25hRequirement already satisfied: setuptools in /usr/local/lib/python3.7/dist-packages (from spacy==3.0.6->summertime==1.2.1) (57.4.0)\n",
            "Requirement already satisfied: requests<3.0.0,>=2.13.0 in /usr/local/lib/python3.7/dist-packages (from spacy==3.0.6->summertime==1.2.1) (2.23.0)\n",
            "Requirement already satisfied: blis<0.8.0,>=0.4.0 in /usr/local/lib/python3.7/dist-packages (from spacy==3.0.6->summertime==1.2.1) (0.4.1)\n",
            "Collecting thinc<8.1.0,>=8.0.3\n",
            "  Downloading thinc-8.0.15-cp37-cp37m-manylinux_2_17_x86_64.manylinux2014_x86_64.whl (653 kB)\n",
            "\u001b[K     |████████████████████████████████| 653 kB 45.5 MB/s \n",
            "\u001b[?25hRequirement already satisfied: murmurhash<1.1.0,>=0.28.0 in /usr/local/lib/python3.7/dist-packages (from spacy==3.0.6->summertime==1.2.1) (1.0.6)\n",
            "Requirement already satisfied: jinja2 in /usr/local/lib/python3.7/dist-packages (from spacy==3.0.6->summertime==1.2.1) (2.11.3)\n",
            "Requirement already satisfied: wasabi<1.1.0,>=0.8.1 in /usr/local/lib/python3.7/dist-packages (from spacy==3.0.6->summertime==1.2.1) (0.9.0)\n",
            "Collecting srsly<3.0.0,>=2.4.1\n",
            "  Downloading srsly-2.4.2-cp37-cp37m-manylinux_2_17_x86_64.manylinux2014_x86_64.whl (451 kB)\n",
            "\u001b[K     |████████████████████████████████| 451 kB 47.2 MB/s \n",
            "\u001b[?25hCollecting pathy>=0.3.5\n",
            "  Downloading pathy-0.6.1-py3-none-any.whl (42 kB)\n",
            "\u001b[K     |████████████████████████████████| 42 kB 1.2 MB/s \n",
            "\u001b[?25hRequirement already satisfied: cymem<2.1.0,>=2.0.2 in /usr/local/lib/python3.7/dist-packages (from spacy==3.0.6->summertime==1.2.1) (2.0.6)\n",
            "Collecting typer<0.4.0,>=0.3.0\n",
            "  Downloading typer-0.3.2-py3-none-any.whl (21 kB)\n",
            "Collecting spacy-legacy<3.1.0,>=3.0.4\n",
            "  Downloading spacy_legacy-3.0.9-py2.py3-none-any.whl (20 kB)\n",
            "Requirement already satisfied: packaging>=20.0 in /usr/local/lib/python3.7/dist-packages (from spacy==3.0.6->summertime==1.2.1) (21.3)\n",
            "Requirement already satisfied: preshed<3.1.0,>=3.0.2 in /usr/local/lib/python3.7/dist-packages (from spacy==3.0.6->summertime==1.2.1) (3.0.6)\n",
            "Collecting stanza\n",
            "  Downloading stanza-1.3.0-py3-none-any.whl (432 kB)\n",
            "\u001b[K     |████████████████████████████████| 432 kB 56.8 MB/s \n",
            "\u001b[?25hRequirement already satisfied: six in /usr/local/lib/python3.7/dist-packages (from summ-eval==0.70->summertime==1.2.1) (1.15.0)\n",
            "Requirement already satisfied: networkx in /usr/local/lib/python3.7/dist-packages (from summ-eval==0.70->summertime==1.2.1) (2.6.3)\n",
            "Collecting wmd\n",
            "  Downloading wmd-1.3.2-cp37-cp37m-manylinux1_x86_64.whl (637 kB)\n",
            "\u001b[K     |████████████████████████████████| 637 kB 59.9 MB/s \n",
            "\u001b[?25hCollecting blanc\n",
            "  Downloading blanc-0.2.6-py3-none-any.whl (28 kB)\n",
            "Requirement already satisfied: pyemd==0.5.1 in /usr/local/lib/python3.7/dist-packages (from summ-eval==0.70->summertime==1.2.1) (0.5.1)\n",
            "Collecting sacremoses\n",
            "  Downloading sacremoses-0.0.49-py3-none-any.whl (895 kB)\n",
            "\u001b[K     |████████████████████████████████| 895 kB 47.2 MB/s \n",
            "\u001b[?25hCollecting sacrebleu\n",
            "  Downloading sacrebleu-2.0.0-py3-none-any.whl (90 kB)\n",
            "\u001b[K     |████████████████████████████████| 90 kB 10.0 MB/s \n",
            "\u001b[?25hRequirement already satisfied: scipy in /usr/local/lib/python3.7/dist-packages (from summ-eval==0.70->summertime==1.2.1) (1.4.1)\n",
            "Requirement already satisfied: gin-config in /usr/local/lib/python3.7/dist-packages (from summ-eval==0.70->summertime==1.2.1) (0.5.0)\n",
            "Collecting bert-score\n",
            "  Downloading bert_score-0.3.11-py3-none-any.whl (60 kB)\n",
            "\u001b[K     |████████████████████████████████| 60 kB 6.2 MB/s \n",
            "\u001b[?25hCollecting moverscore\n",
            "  Downloading moverscore-1.0.3.tar.gz (7.7 kB)\n",
            "Collecting pytorch-pretrained-bert\n",
            "  Downloading pytorch_pretrained_bert-0.6.2-py3-none-any.whl (123 kB)\n",
            "\u001b[K     |████████████████████████████████| 123 kB 63.9 MB/s \n",
            "\u001b[?25hRequirement already satisfied: psutil in /usr/local/lib/python3.7/dist-packages (from summ-eval==0.70->summertime==1.2.1) (5.4.8)\n",
            "Collecting typed-ast>=1.4.2\n",
            "  Downloading typed_ast-1.5.2-cp37-cp37m-manylinux_2_5_x86_64.manylinux1_x86_64.manylinux_2_12_x86_64.manylinux2010_x86_64.whl (843 kB)\n",
            "\u001b[K     |████████████████████████████████| 843 kB 42.2 MB/s \n",
            "\u001b[?25hCollecting pathspec<1,>=0.9.0\n",
            "  Downloading pathspec-0.9.0-py2.py3-none-any.whl (31 kB)\n",
            "Collecting mypy-extensions>=0.4.3\n",
            "  Downloading mypy_extensions-0.4.3-py2.py3-none-any.whl (4.5 kB)\n",
            "Collecting platformdirs>=2\n",
            "  Downloading platformdirs-2.5.1-py3-none-any.whl (14 kB)\n",
            "Collecting tomli<2.0.0,>=0.2.6\n",
            "  Downloading tomli-1.2.3-py3-none-any.whl (12 kB)\n",
            "Requirement already satisfied: zipp>=0.5 in /usr/local/lib/python3.7/dist-packages (from catalogue<2.1.0,>=2.0.3->spacy==3.0.6->summertime==1.2.1) (3.7.0)\n",
            "Requirement already satisfied: pandas in /usr/local/lib/python3.7/dist-packages (from datasets~=1.6.2->summertime==1.2.1) (1.3.5)\n",
            "Requirement already satisfied: dill in /usr/local/lib/python3.7/dist-packages (from datasets~=1.6.2->summertime==1.2.1) (0.3.4)\n",
            "Collecting huggingface-hub<0.1.0\n",
            "  Downloading huggingface_hub-0.0.19-py3-none-any.whl (56 kB)\n",
            "\u001b[K     |████████████████████████████████| 56 kB 4.5 MB/s \n",
            "\u001b[?25hRequirement already satisfied: importlib-metadata in /usr/local/lib/python3.7/dist-packages (from datasets~=1.6.2->summertime==1.2.1) (4.11.2)\n",
            "Collecting xxhash\n",
            "  Downloading xxhash-3.0.0-cp37-cp37m-manylinux_2_17_x86_64.manylinux2014_x86_64.whl (212 kB)\n",
            "\u001b[K     |████████████████████████████████| 212 kB 50.5 MB/s \n",
            "\u001b[?25hRequirement already satisfied: multiprocess in /usr/local/lib/python3.7/dist-packages (from datasets~=1.6.2->summertime==1.2.1) (0.70.12.2)\n",
            "Collecting fsspec\n",
            "  Downloading fsspec-2022.2.0-py3-none-any.whl (134 kB)\n",
            "\u001b[K     |████████████████████████████████| 134 kB 48.4 MB/s \n",
            "\u001b[?25hRequirement already satisfied: pyarrow>=1.0.0<4.0.0 in /usr/local/lib/python3.7/dist-packages (from datasets~=1.6.2->summertime==1.2.1) (6.0.1)\n",
            "Collecting pybind11>=2.2\n",
            "  Using cached pybind11-2.9.1-py2.py3-none-any.whl (211 kB)\n",
            "Requirement already satisfied: filelock in /usr/local/lib/python3.7/dist-packages (from gdown~=4.2.0->summertime==1.2.1) (3.6.0)\n",
            "Requirement already satisfied: smart-open>=1.8.1 in /usr/local/lib/python3.7/dist-packages (from gensim~=3.8.3->summertime==1.2.1) (5.2.1)\n",
            "Requirement already satisfied: pyyaml in /usr/local/lib/python3.7/dist-packages (from huggingface-hub<0.1.0->datasets~=1.6.2->summertime==1.2.1) (3.13)\n",
            "Requirement already satisfied: pyrsistent>=0.14.0 in /usr/local/lib/python3.7/dist-packages (from lexrank~=0.1.0->summertime==1.2.1) (0.18.1)\n",
            "Collecting path.py>=10.5\n",
            "  Downloading path.py-12.5.0-py3-none-any.whl (2.3 kB)\n",
            "Collecting urlextract>=0.7\n",
            "  Downloading urlextract-1.5.0-py3-none-any.whl (20 kB)\n",
            "Requirement already satisfied: pyparsing!=3.0.5,>=2.0.2 in /usr/local/lib/python3.7/dist-packages (from packaging>=20.0->spacy==3.0.6->summertime==1.2.1) (3.0.7)\n",
            "Collecting path\n",
            "  Downloading path-16.4.0-py3-none-any.whl (26 kB)\n",
            "Collecting pycryptodomex>=3.6.6\n",
            "  Downloading pycryptodomex-3.14.1-cp35-abi3-manylinux2010_x86_64.whl (2.0 MB)\n",
            "\u001b[K     |████████████████████████████████| 2.0 MB 60.6 MB/s \n",
            "\u001b[?25hCollecting brotli>=1.0.9\n",
            "  Downloading Brotli-1.0.9-cp37-cp37m-manylinux1_x86_64.whl (357 kB)\n",
            "\u001b[K     |████████████████████████████████| 357 kB 58.9 MB/s \n",
            "\u001b[?25hCollecting multivolumefile>=0.2.3\n",
            "  Downloading multivolumefile-0.2.3-py3-none-any.whl (17 kB)\n",
            "Collecting pyppmd>=0.17.0\n",
            "  Downloading pyppmd-0.18.0-cp37-cp37m-manylinux_2_17_x86_64.manylinux2014_x86_64.whl (126 kB)\n",
            "\u001b[K     |████████████████████████████████| 126 kB 58.6 MB/s \n",
            "\u001b[?25hCollecting texttable\n",
            "  Downloading texttable-1.6.4-py2.py3-none-any.whl (10 kB)\n",
            "Collecting pyzstd>=0.14.4\n",
            "  Downloading pyzstd-0.15.2-cp37-cp37m-manylinux_2_17_x86_64.manylinux2014_x86_64.whl (2.4 MB)\n",
            "\u001b[K     |████████████████████████████████| 2.4 MB 44.8 MB/s \n",
            "\u001b[?25hCollecting pybcj>=0.5.0\n",
            "  Downloading pybcj-0.5.0-cp37-cp37m-manylinux_2_17_x86_64.manylinux2014_x86_64.whl (48 kB)\n",
            "\u001b[K     |████████████████████████████████| 48 kB 1.9 MB/s \n",
            "\u001b[?25hRequirement already satisfied: idna<3,>=2.5 in /usr/local/lib/python3.7/dist-packages (from requests<3.0.0,>=2.13.0->spacy==3.0.6->summertime==1.2.1) (2.10)\n",
            "Requirement already satisfied: chardet<4,>=3.0.2 in /usr/local/lib/python3.7/dist-packages (from requests<3.0.0,>=2.13.0->spacy==3.0.6->summertime==1.2.1) (3.0.4)\n",
            "Requirement already satisfied: certifi>=2017.4.17 in /usr/local/lib/python3.7/dist-packages (from requests<3.0.0,>=2.13.0->spacy==3.0.6->summertime==1.2.1) (2021.10.8)\n",
            "Requirement already satisfied: urllib3!=1.25.0,!=1.25.1,<1.26,>=1.21.1 in /usr/local/lib/python3.7/dist-packages (from requests<3.0.0,>=2.13.0->spacy==3.0.6->summertime==1.2.1) (1.24.3)\n",
            "Requirement already satisfied: tensorboard-plugin-wit>=1.6.0 in /usr/local/lib/python3.7/dist-packages (from tensorboard~=2.4.1->summertime==1.2.1) (1.8.1)\n",
            "Requirement already satisfied: google-auth<2,>=1.6.3 in /usr/local/lib/python3.7/dist-packages (from tensorboard~=2.4.1->summertime==1.2.1) (1.35.0)\n",
            "Requirement already satisfied: absl-py>=0.4 in /usr/local/lib/python3.7/dist-packages (from tensorboard~=2.4.1->summertime==1.2.1) (1.0.0)\n",
            "Requirement already satisfied: wheel>=0.26 in /usr/local/lib/python3.7/dist-packages (from tensorboard~=2.4.1->summertime==1.2.1) (0.37.1)\n",
            "Requirement already satisfied: grpcio>=1.24.3 in /usr/local/lib/python3.7/dist-packages (from tensorboard~=2.4.1->summertime==1.2.1) (1.44.0)\n",
            "Requirement already satisfied: werkzeug>=0.11.15 in /usr/local/lib/python3.7/dist-packages (from tensorboard~=2.4.1->summertime==1.2.1) (1.0.1)\n",
            "Requirement already satisfied: markdown>=2.6.8 in /usr/local/lib/python3.7/dist-packages (from tensorboard~=2.4.1->summertime==1.2.1) (3.3.6)\n",
            "Requirement already satisfied: protobuf>=3.6.0 in /usr/local/lib/python3.7/dist-packages (from tensorboard~=2.4.1->summertime==1.2.1) (3.17.3)\n",
            "Requirement already satisfied: google-auth-oauthlib<0.5,>=0.4.1 in /usr/local/lib/python3.7/dist-packages (from tensorboard~=2.4.1->summertime==1.2.1) (0.4.6)\n",
            "Requirement already satisfied: rsa<5,>=3.1.4 in /usr/local/lib/python3.7/dist-packages (from google-auth<2,>=1.6.3->tensorboard~=2.4.1->summertime==1.2.1) (4.8)\n",
            "Requirement already satisfied: cachetools<5.0,>=2.0.0 in /usr/local/lib/python3.7/dist-packages (from google-auth<2,>=1.6.3->tensorboard~=2.4.1->summertime==1.2.1) (4.2.4)\n",
            "Requirement already satisfied: pyasn1-modules>=0.2.1 in /usr/local/lib/python3.7/dist-packages (from google-auth<2,>=1.6.3->tensorboard~=2.4.1->summertime==1.2.1) (0.2.8)\n",
            "Requirement already satisfied: requests-oauthlib>=0.7.0 in /usr/local/lib/python3.7/dist-packages (from google-auth-oauthlib<0.5,>=0.4.1->tensorboard~=2.4.1->summertime==1.2.1) (1.3.1)\n",
            "Requirement already satisfied: pyasn1<0.5.0,>=0.4.6 in /usr/local/lib/python3.7/dist-packages (from pyasn1-modules>=0.2.1->google-auth<2,>=1.6.3->tensorboard~=2.4.1->summertime==1.2.1) (0.4.8)\n",
            "Requirement already satisfied: oauthlib>=3.0.0 in /usr/local/lib/python3.7/dist-packages (from requests-oauthlib>=0.7.0->google-auth-oauthlib<0.5,>=0.4.1->tensorboard~=2.4.1->summertime==1.2.1) (3.2.0)\n",
            "Collecting tokenizers<0.11,>=0.10.1\n",
            "  Downloading tokenizers-0.10.3-cp37-cp37m-manylinux_2_5_x86_64.manylinux1_x86_64.manylinux_2_12_x86_64.manylinux2010_x86_64.whl (3.3 MB)\n",
            "\u001b[K     |████████████████████████████████| 3.3 MB 33.8 MB/s \n",
            "\u001b[?25hCollecting uritools\n",
            "  Downloading uritools-4.0.0-py3-none-any.whl (10 kB)\n",
            "Requirement already satisfied: matplotlib in /usr/local/lib/python3.7/dist-packages (from bert-score->summ-eval==0.70->summertime==1.2.1) (3.2.2)\n",
            "Requirement already satisfied: python-dateutil>=2.7.3 in /usr/local/lib/python3.7/dist-packages (from pandas->datasets~=1.6.2->summertime==1.2.1) (2.8.2)\n",
            "Requirement already satisfied: pytz>=2017.3 in /usr/local/lib/python3.7/dist-packages (from pandas->datasets~=1.6.2->summertime==1.2.1) (2018.9)\n",
            "Collecting flake8\n",
            "  Downloading flake8-4.0.0-py2.py3-none-any.whl (64 kB)\n",
            "\u001b[K     |████████████████████████████████| 64 kB 2.5 MB/s \n",
            "\u001b[?25h  Downloading flake8-3.9.2-py2.py3-none-any.whl (73 kB)\n",
            "\u001b[K     |████████████████████████████████| 73 kB 1.3 MB/s \n",
            "\u001b[?25hCollecting pycodestyle<2.8.0,>=2.7.0\n",
            "  Downloading pycodestyle-2.7.0-py2.py3-none-any.whl (41 kB)\n",
            "\u001b[K     |████████████████████████████████| 41 kB 547 kB/s \n",
            "\u001b[?25hCollecting mccabe<0.7.0,>=0.6.0\n",
            "  Downloading mccabe-0.6.1-py2.py3-none-any.whl (8.6 kB)\n",
            "Collecting pyflakes<2.4.0,>=2.3.0\n",
            "  Downloading pyflakes-2.3.1-py2.py3-none-any.whl (68 kB)\n",
            "\u001b[K     |████████████████████████████████| 68 kB 5.6 MB/s \n",
            "\u001b[?25hRequirement already satisfied: MarkupSafe>=0.23 in /usr/local/lib/python3.7/dist-packages (from jinja2->spacy==3.0.6->summertime==1.2.1) (2.0.1)\n",
            "Requirement already satisfied: ipywidgets in /usr/local/lib/python3.7/dist-packages (from jupyter->summertime==1.2.1) (7.6.5)\n",
            "Requirement already satisfied: jupyter-console in /usr/local/lib/python3.7/dist-packages (from jupyter->summertime==1.2.1) (5.2.0)\n",
            "Requirement already satisfied: qtconsole in /usr/local/lib/python3.7/dist-packages (from jupyter->summertime==1.2.1) (5.2.2)\n",
            "Requirement already satisfied: notebook in /usr/local/lib/python3.7/dist-packages (from jupyter->summertime==1.2.1) (5.3.1)\n",
            "Requirement already satisfied: nbconvert in /usr/local/lib/python3.7/dist-packages (from jupyter->summertime==1.2.1) (5.6.1)\n",
            "Requirement already satisfied: ipykernel in /usr/local/lib/python3.7/dist-packages (from jupyter->summertime==1.2.1) (4.10.1)\n",
            "Requirement already satisfied: traitlets>=4.1.0 in /usr/local/lib/python3.7/dist-packages (from ipykernel->jupyter->summertime==1.2.1) (5.1.1)\n",
            "Requirement already satisfied: jupyter-client in /usr/local/lib/python3.7/dist-packages (from ipykernel->jupyter->summertime==1.2.1) (5.3.5)\n",
            "Requirement already satisfied: ipython>=4.0.0 in /usr/local/lib/python3.7/dist-packages (from ipykernel->jupyter->summertime==1.2.1) (5.5.0)\n",
            "Requirement already satisfied: tornado>=4.0 in /usr/local/lib/python3.7/dist-packages (from ipykernel->jupyter->summertime==1.2.1) (5.1.1)\n",
            "Requirement already satisfied: decorator in /usr/local/lib/python3.7/dist-packages (from ipython>=4.0.0->ipykernel->jupyter->summertime==1.2.1) (4.4.2)\n",
            "Requirement already satisfied: simplegeneric>0.8 in /usr/local/lib/python3.7/dist-packages (from ipython>=4.0.0->ipykernel->jupyter->summertime==1.2.1) (0.8.1)\n",
            "Requirement already satisfied: pickleshare in /usr/local/lib/python3.7/dist-packages (from ipython>=4.0.0->ipykernel->jupyter->summertime==1.2.1) (0.7.5)\n",
            "Requirement already satisfied: prompt-toolkit<2.0.0,>=1.0.4 in /usr/local/lib/python3.7/dist-packages (from ipython>=4.0.0->ipykernel->jupyter->summertime==1.2.1) (1.0.18)\n",
            "Requirement already satisfied: pygments in /usr/local/lib/python3.7/dist-packages (from ipython>=4.0.0->ipykernel->jupyter->summertime==1.2.1) (2.6.1)\n",
            "Requirement already satisfied: pexpect in /usr/local/lib/python3.7/dist-packages (from ipython>=4.0.0->ipykernel->jupyter->summertime==1.2.1) (4.8.0)\n",
            "Requirement already satisfied: wcwidth in /usr/local/lib/python3.7/dist-packages (from prompt-toolkit<2.0.0,>=1.0.4->ipython>=4.0.0->ipykernel->jupyter->summertime==1.2.1) (0.2.5)\n",
            "Requirement already satisfied: ipython-genutils~=0.2.0 in /usr/local/lib/python3.7/dist-packages (from ipywidgets->jupyter->summertime==1.2.1) (0.2.0)\n",
            "Requirement already satisfied: widgetsnbextension~=3.5.0 in /usr/local/lib/python3.7/dist-packages (from ipywidgets->jupyter->summertime==1.2.1) (3.5.2)\n",
            "Requirement already satisfied: jupyterlab-widgets>=1.0.0 in /usr/local/lib/python3.7/dist-packages (from ipywidgets->jupyter->summertime==1.2.1) (1.0.2)\n",
            "Requirement already satisfied: nbformat>=4.2.0 in /usr/local/lib/python3.7/dist-packages (from ipywidgets->jupyter->summertime==1.2.1) (5.1.3)\n",
            "Requirement already satisfied: jupyter-core in /usr/local/lib/python3.7/dist-packages (from nbformat>=4.2.0->ipywidgets->jupyter->summertime==1.2.1) (4.9.2)\n",
            "Requirement already satisfied: jsonschema!=2.5.0,>=2.4 in /usr/local/lib/python3.7/dist-packages (from nbformat>=4.2.0->ipywidgets->jupyter->summertime==1.2.1) (4.3.3)\n",
            "Requirement already satisfied: importlib-resources>=1.4.0 in /usr/local/lib/python3.7/dist-packages (from jsonschema!=2.5.0,>=2.4->nbformat>=4.2.0->ipywidgets->jupyter->summertime==1.2.1) (5.4.0)\n",
            "Requirement already satisfied: attrs>=17.4.0 in /usr/local/lib/python3.7/dist-packages (from jsonschema!=2.5.0,>=2.4->nbformat>=4.2.0->ipywidgets->jupyter->summertime==1.2.1) (21.4.0)\n",
            "Requirement already satisfied: Send2Trash in /usr/local/lib/python3.7/dist-packages (from notebook->jupyter->summertime==1.2.1) (1.8.0)\n",
            "Requirement already satisfied: terminado>=0.8.1 in /usr/local/lib/python3.7/dist-packages (from notebook->jupyter->summertime==1.2.1) (0.13.3)\n",
            "Requirement already satisfied: pyzmq>=13 in /usr/local/lib/python3.7/dist-packages (from jupyter-client->ipykernel->jupyter->summertime==1.2.1) (22.3.0)\n",
            "Requirement already satisfied: ptyprocess in /usr/local/lib/python3.7/dist-packages (from terminado>=0.8.1->notebook->jupyter->summertime==1.2.1) (0.7.0)\n",
            "Requirement already satisfied: kiwisolver>=1.0.1 in /usr/local/lib/python3.7/dist-packages (from matplotlib->bert-score->summ-eval==0.70->summertime==1.2.1) (1.3.2)\n",
            "Requirement already satisfied: cycler>=0.10 in /usr/local/lib/python3.7/dist-packages (from matplotlib->bert-score->summ-eval==0.70->summertime==1.2.1) (0.11.0)\n",
            "Collecting typing\n",
            "  Downloading typing-3.7.4.3.tar.gz (78 kB)\n",
            "\u001b[K     |████████████████████████████████| 78 kB 7.0 MB/s \n",
            "\u001b[?25hCollecting portalocker\n",
            "  Downloading portalocker-2.4.0-py2.py3-none-any.whl (16 kB)\n",
            "Requirement already satisfied: defusedxml in /usr/local/lib/python3.7/dist-packages (from nbconvert->jupyter->summertime==1.2.1) (0.7.1)\n",
            "Requirement already satisfied: mistune<2,>=0.8.1 in /usr/local/lib/python3.7/dist-packages (from nbconvert->jupyter->summertime==1.2.1) (0.8.4)\n",
            "Requirement already satisfied: bleach in /usr/local/lib/python3.7/dist-packages (from nbconvert->jupyter->summertime==1.2.1) (4.1.0)\n",
            "Requirement already satisfied: pandocfilters>=1.4.1 in /usr/local/lib/python3.7/dist-packages (from nbconvert->jupyter->summertime==1.2.1) (1.5.0)\n",
            "Requirement already satisfied: testpath in /usr/local/lib/python3.7/dist-packages (from nbconvert->jupyter->summertime==1.2.1) (0.6.0)\n",
            "Requirement already satisfied: entrypoints>=0.2.2 in /usr/local/lib/python3.7/dist-packages (from nbconvert->jupyter->summertime==1.2.1) (0.4)\n",
            "Requirement already satisfied: webencodings in /usr/local/lib/python3.7/dist-packages (from bleach->nbconvert->jupyter->summertime==1.2.1) (0.5.1)\n",
            "Collecting scipy\n",
            "  Downloading scipy-1.7.3-cp37-cp37m-manylinux_2_12_x86_64.manylinux2010_x86_64.whl (38.1 MB)\n",
            "\u001b[K     |████████████████████████████████| 38.1 MB 349 kB/s \n",
            "\u001b[?25hCollecting pygments\n",
            "  Downloading Pygments-2.11.2-py3-none-any.whl (1.1 MB)\n",
            "\u001b[K     |████████████████████████████████| 1.1 MB 60.6 MB/s \n",
            "\u001b[?25hCollecting icecream>=2.1\n",
            "  Downloading icecream-2.1.2-py2.py3-none-any.whl (8.3 kB)\n",
            "Collecting graphviz>=0.13\n",
            "  Downloading graphviz-0.19.1-py3-none-any.whl (46 kB)\n",
            "\u001b[K     |████████████████████████████████| 46 kB 4.0 MB/s \n",
            "\u001b[?25hCollecting colorama>=0.3.9\n",
            "  Downloading colorama-0.4.4-py2.py3-none-any.whl (16 kB)\n",
            "Collecting asttokens>=2.0.1\n",
            "  Downloading asttokens-2.0.5-py2.py3-none-any.whl (20 kB)\n",
            "Collecting executing>=0.3.1\n",
            "  Downloading executing-0.8.3-py2.py3-none-any.whl (16 kB)\n",
            "Collecting matplotlib\n",
            "  Downloading matplotlib-3.5.1-cp37-cp37m-manylinux_2_5_x86_64.manylinux1_x86_64.whl (11.2 MB)\n",
            "\u001b[K     |████████████████████████████████| 11.2 MB 33.3 MB/s \n",
            "\u001b[?25hRequirement already satisfied: pillow>=6.2.0 in /usr/local/lib/python3.7/dist-packages (from matplotlib->bert-score->summ-eval==0.70->summertime==1.2.1) (7.1.2)\n",
            "Collecting fonttools>=4.22.0\n",
            "  Downloading fonttools-4.30.0-py3-none-any.whl (898 kB)\n",
            "\u001b[K     |████████████████████████████████| 898 kB 59.7 MB/s \n",
            "\u001b[?25hCollecting boto3\n",
            "  Downloading boto3-1.21.20-py3-none-any.whl (132 kB)\n",
            "\u001b[K     |████████████████████████████████| 132 kB 56.8 MB/s \n",
            "\u001b[?25hCollecting jmespath<1.0.0,>=0.7.1\n",
            "  Downloading jmespath-0.10.0-py2.py3-none-any.whl (24 kB)\n",
            "Collecting botocore<1.25.0,>=1.24.20\n",
            "  Downloading botocore-1.24.20-py3-none-any.whl (8.6 MB)\n",
            "\u001b[K     |████████████████████████████████| 8.6 MB 49.6 MB/s \n",
            "\u001b[?25hCollecting s3transfer<0.6.0,>=0.5.0\n",
            "  Downloading s3transfer-0.5.2-py3-none-any.whl (79 kB)\n",
            "\u001b[K     |████████████████████████████████| 79 kB 7.2 MB/s \n",
            "\u001b[?25hCollecting urllib3!=1.25.0,!=1.25.1,<1.26,>=1.21.1\n",
            "  Downloading urllib3-1.25.11-py2.py3-none-any.whl (127 kB)\n",
            "\u001b[K     |████████████████████████████████| 127 kB 67.3 MB/s \n",
            "\u001b[?25hRequirement already satisfied: qtpy in /usr/local/lib/python3.7/dist-packages (from qtconsole->jupyter->summertime==1.2.1) (2.0.1)\n",
            "Collecting cssselect\n",
            "  Downloading cssselect-1.1.0-py2.py3-none-any.whl (16 kB)\n",
            "Requirement already satisfied: lxml in /usr/local/lib/python3.7/dist-packages (from readability-lxml->summertime==1.2.1) (4.2.6)\n",
            "Requirement already satisfied: PySocks!=1.5.7,>=1.5.6 in /usr/local/lib/python3.7/dist-packages (from requests<3.0.0,>=2.13.0->spacy==3.0.6->summertime==1.2.1) (1.7.1)\n",
            "Requirement already satisfied: tabulate>=0.8.9 in /usr/local/lib/python3.7/dist-packages (from sacrebleu->summ-eval==0.70->summertime==1.2.1) (0.8.9)\n",
            "Requirement already satisfied: scikit-learn in /usr/local/lib/python3.7/dist-packages (from sklearn->summertime==1.2.1) (1.0.2)\n",
            "Requirement already satisfied: threadpoolctl>=2.0.0 in /usr/local/lib/python3.7/dist-packages (from scikit-learn->sklearn->summertime==1.2.1) (3.1.0)\n",
            "Collecting emoji\n",
            "  Downloading emoji-1.7.0.tar.gz (175 kB)\n",
            "\u001b[K     |████████████████████████████████| 175 kB 69.9 MB/s \n",
            "\u001b[?25hBuilding wheels for collected packages: easynmt, fasttext, moverscore, progressbar, emoji, typing\n",
            "  Building wheel for easynmt (setup.py) ... \u001b[?25l\u001b[?25hdone\n",
            "  Created wheel for easynmt: filename=EasyNMT-2.0.1-py3-none-any.whl size=15447 sha256=7a00802c4bbf8cb611f613c031358cb729b1f089cb9ee5fbc79a2ecd5c4ba27a\n",
            "  Stored in directory: /root/.cache/pip/wheels/fb/42/fb/b7711d3296456d5f74e6e265dbdb0e3142158f1bb50382caef\n",
            "  Building wheel for fasttext (setup.py) ... \u001b[?25l\u001b[?25hdone\n",
            "  Created wheel for fasttext: filename=fasttext-0.9.2-cp37-cp37m-linux_x86_64.whl size=3128968 sha256=17f831a9157bb1e95f53fd81a3009069b7feecfd3426f6e7d0a9173cb36a5fb7\n",
            "  Stored in directory: /root/.cache/pip/wheels/4e/ca/bf/b020d2be95f7641801a6597a29c8f4f19e38f9c02a345bab9b\n",
            "  Building wheel for moverscore (setup.py) ... \u001b[?25l\u001b[?25hdone\n",
            "  Created wheel for moverscore: filename=moverscore-1.0.3-py3-none-any.whl size=7966 sha256=8e542e6534352955dfa87003cfd14905db36ce8e6b9f425c8812067b8aa28677\n",
            "  Stored in directory: /root/.cache/pip/wheels/57/48/8c/2934d05194bf99de323ef6015a98c8da46dc010752700341be\n",
            "  Building wheel for progressbar (setup.py) ... \u001b[?25l\u001b[?25hdone\n",
            "  Created wheel for progressbar: filename=progressbar-2.5-py3-none-any.whl size=12082 sha256=16d44dfab6947c0fade7ee68bc693e20bbac273e8943e83e8dbba1ed9cc4a8f4\n",
            "  Stored in directory: /root/.cache/pip/wheels/f0/fd/1f/3e35ed57e94cd8ced38dd46771f1f0f94f65fec548659ed855\n",
            "  Building wheel for emoji (setup.py) ... \u001b[?25l\u001b[?25hdone\n",
            "  Created wheel for emoji: filename=emoji-1.7.0-py3-none-any.whl size=171046 sha256=6cf2951908343757474f6e767c8399a09e0c40295e7c3dec504cf59c154a805f\n",
            "  Stored in directory: /root/.cache/pip/wheels/8a/4e/b6/57b01db010d17ef6ea9b40300af725ef3e210cb1acfb7ac8b6\n",
            "  Building wheel for typing (setup.py) ... \u001b[?25l\u001b[?25hdone\n",
            "  Created wheel for typing: filename=typing-3.7.4.3-py3-none-any.whl size=26325 sha256=2a20ad6216b2b04cb2f6723cc81d4d1de203c86f78bf0bc199718b6a12d0312c\n",
            "  Stored in directory: /root/.cache/pip/wheels/35/f3/15/01aa6571f0a72ee6ae7b827c1491c37a1f72d686fd22b43b0e\n",
            "Successfully built easynmt fasttext moverscore progressbar emoji typing\n",
            "Installing collected packages: pygments, urllib3, jmespath, tqdm, catalogue, botocore, typer, tokenizers, srsly, scipy, sacremoses, s3transfer, pydantic, fonttools, uritools, typing, transformers, thinc, spacy-legacy, pybind11, portalocker, platformdirs, pathy, path, nltk, matplotlib, executing, emoji, colorama, boto3, asttokens, xxhash, wmd, urlextract, typed-ast, tomli, texttable, stanza, spacy, sentencepiece, sacrebleu, pyzstd, pytorch-pretrained-bert, pyppmd, pyflakes, pycryptodomex, pycodestyle, pybcj, pathspec, path.py, mypy-extensions, multivolumefile, moverscore, mccabe, icecream, huggingface-hub, graphviz, fsspec, fasttext, cssselect, brotli, blanc, bert-score, tensorboard, summ-eval, readability-lxml, pytextrank, py7zr, progressbar, orjson, lexrank, gensim, flake8, easynmt, datasets, black, summertime\n",
            "  Attempting uninstall: pygments\n",
            "    Found existing installation: Pygments 2.6.1\n",
            "    Uninstalling Pygments-2.6.1:\n",
            "      Successfully uninstalled Pygments-2.6.1\n",
            "  Attempting uninstall: urllib3\n",
            "    Found existing installation: urllib3 1.24.3\n",
            "    Uninstalling urllib3-1.24.3:\n",
            "      Successfully uninstalled urllib3-1.24.3\n",
            "  Attempting uninstall: tqdm\n",
            "    Found existing installation: tqdm 4.63.0\n",
            "    Uninstalling tqdm-4.63.0:\n",
            "      Successfully uninstalled tqdm-4.63.0\n",
            "  Attempting uninstall: catalogue\n",
            "    Found existing installation: catalogue 1.0.0\n",
            "    Uninstalling catalogue-1.0.0:\n",
            "      Successfully uninstalled catalogue-1.0.0\n",
            "  Attempting uninstall: srsly\n",
            "    Found existing installation: srsly 1.0.5\n",
            "    Uninstalling srsly-1.0.5:\n",
            "      Successfully uninstalled srsly-1.0.5\n",
            "  Attempting uninstall: scipy\n",
            "    Found existing installation: scipy 1.4.1\n",
            "    Uninstalling scipy-1.4.1:\n",
            "      Successfully uninstalled scipy-1.4.1\n",
            "  Attempting uninstall: thinc\n",
            "    Found existing installation: thinc 7.4.0\n",
            "    Uninstalling thinc-7.4.0:\n",
            "      Successfully uninstalled thinc-7.4.0\n",
            "  Attempting uninstall: nltk\n",
            "    Found existing installation: nltk 3.2.5\n",
            "    Uninstalling nltk-3.2.5:\n",
            "      Successfully uninstalled nltk-3.2.5\n",
            "  Attempting uninstall: matplotlib\n",
            "    Found existing installation: matplotlib 3.2.2\n",
            "    Uninstalling matplotlib-3.2.2:\n",
            "      Successfully uninstalled matplotlib-3.2.2\n",
            "  Attempting uninstall: tomli\n",
            "    Found existing installation: tomli 2.0.1\n",
            "    Uninstalling tomli-2.0.1:\n",
            "      Successfully uninstalled tomli-2.0.1\n",
            "  Attempting uninstall: spacy\n",
            "    Found existing installation: spacy 2.2.4\n",
            "    Uninstalling spacy-2.2.4:\n",
            "      Successfully uninstalled spacy-2.2.4\n",
            "  Attempting uninstall: graphviz\n",
            "    Found existing installation: graphviz 0.10.1\n",
            "    Uninstalling graphviz-0.10.1:\n",
            "      Successfully uninstalled graphviz-0.10.1\n",
            "  Attempting uninstall: tensorboard\n",
            "    Found existing installation: tensorboard 2.8.0\n",
            "    Uninstalling tensorboard-2.8.0:\n",
            "      Successfully uninstalled tensorboard-2.8.0\n",
            "  Attempting uninstall: gensim\n",
            "    Found existing installation: gensim 3.6.0\n",
            "    Uninstalling gensim-3.6.0:\n",
            "      Successfully uninstalled gensim-3.6.0\n",
            "  Running setup.py develop for summertime\n",
            "\u001b[31mERROR: pip's dependency resolver does not currently take into account all the packages that are installed. This behaviour is the source of the following dependency conflicts.\n",
            "tensorflow 2.8.0 requires tf-estimator-nightly==2.8.0.dev2021122109, which is not installed.\n",
            "tensorflow 2.8.0 requires tensorboard<2.9,>=2.8, but you have tensorboard 2.4.1 which is incompatible.\n",
            "datascience 0.10.6 requires folium==0.2.1, but you have folium 0.8.3 which is incompatible.\n",
            "albumentations 0.1.12 requires imgaug<0.2.7,>=0.2.5, but you have imgaug 0.2.9 which is incompatible.\u001b[0m\n",
            "Successfully installed asttokens-2.0.5 bert-score-0.3.11 black-21.12b0 blanc-0.2.6 boto3-1.21.20 botocore-1.24.20 brotli-1.0.9 catalogue-2.0.6 colorama-0.4.4 cssselect-1.1.0 datasets-1.6.2 easynmt-2.0.1 emoji-1.7.0 executing-0.8.3 fasttext-0.9.2 flake8-3.9.2 fonttools-4.30.0 fsspec-2022.2.0 gensim-3.8.3 graphviz-0.19.1 huggingface-hub-0.0.19 icecream-2.1.2 jmespath-0.10.0 lexrank-0.1.0 matplotlib-3.5.1 mccabe-0.6.1 moverscore-1.0.3 multivolumefile-0.2.3 mypy-extensions-0.4.3 nltk-3.6.2 orjson-3.6.7 path-16.4.0 path.py-12.5.0 pathspec-0.9.0 pathy-0.6.1 platformdirs-2.5.1 portalocker-2.4.0 progressbar-2.5 py7zr-0.16.4 pybcj-0.5.0 pybind11-2.9.1 pycodestyle-2.7.0 pycryptodomex-3.14.1 pydantic-1.7.4 pyflakes-2.3.1 pygments-2.11.2 pyppmd-0.18.0 pytextrank-3.2.3 pytorch-pretrained-bert-0.6.2 pyzstd-0.15.2 readability-lxml-0.8.1 s3transfer-0.5.2 sacrebleu-2.0.0 sacremoses-0.0.49 scipy-1.7.3 sentencepiece-0.1.96 spacy-3.0.6 spacy-legacy-3.0.9 srsly-2.4.2 stanza-1.3.0 summ-eval-0.70 summertime tensorboard-2.4.1 texttable-1.6.4 thinc-8.0.15 tokenizers-0.10.3 tomli-1.2.3 tqdm-4.49.0 transformers-4.5.1 typed-ast-1.5.2 typer-0.3.2 typing-3.7.4.3 uritools-4.0.0 urlextract-1.5.0 urllib3-1.25.11 wmd-1.3.2 xxhash-3.0.0\n"
          ]
        },
        {
          "output_type": "display_data",
          "data": {
            "application/vnd.colab-display-data+json": {
              "pip_warning": {
                "packages": [
                  "matplotlib",
                  "mpl_toolkits",
                  "nltk",
                  "pygments",
                  "scipy",
                  "typing"
                ]
              }
            }
          },
          "metadata": {}
        }
      ]
    },
    {
      "cell_type": "code",
      "source": [
        "## Finish setup\n",
        "\n",
        "# Setup ROUGE (needed to use ROUGE evaluation metric)\n",
        "!export ROUGE_HOME=/usr/local/bin/python/dist-packages/summ_eval/ROUGE-1.5.5/\n",
        "!pip install -U  git+https://github.com/bheinzerling/pyrouge.git"
      ],
      "metadata": {
        "colab": {
          "base_uri": "https://localhost:8080/"
        },
        "id": "vETvpFAb5OOI",
        "outputId": "e6242d30-b443-4377-8ee0-be5ea3af9956"
      },
      "execution_count": null,
      "outputs": [
        {
          "output_type": "stream",
          "name": "stdout",
          "text": [
            "Collecting git+https://github.com/bheinzerling/pyrouge.git\n",
            "  Cloning https://github.com/bheinzerling/pyrouge.git to /tmp/pip-req-build-f3ezl3ml\n",
            "  Running command git clone -q https://github.com/bheinzerling/pyrouge.git /tmp/pip-req-build-f3ezl3ml\n",
            "Building wheels for collected packages: pyrouge\n",
            "  Building wheel for pyrouge (setup.py) ... \u001b[?25l\u001b[?25hdone\n",
            "  Created wheel for pyrouge: filename=pyrouge-0.1.3-py3-none-any.whl size=191924 sha256=c902b6bde21a757b896865b114de4bbfda3723f426e617912ef5a2ce206caeda\n",
            "  Stored in directory: /tmp/pip-ephem-wheel-cache-awx82g_e/wheels/2f/1c/55/4e264b4e45f2a6f39a50e95cff45e57b54f202db830f125bb2\n",
            "Successfully built pyrouge\n",
            "Installing collected packages: pyrouge\n",
            "Successfully installed pyrouge-0.1.3\n"
          ]
        }
      ]
    },
    {
      "cell_type": "code",
      "source": [
        "# If you've been prompted to restart the kernel in either of the two cells above,\n",
        "# Please do so\n",
        "# Then run this cell to go back to the relevant directory\n",
        "\n",
        "%cd /content/SummerTime/"
      ],
      "metadata": {
        "colab": {
          "base_uri": "https://localhost:8080/"
        },
        "id": "RGGRTGBd5R7g",
        "outputId": "c969b5cc-5ca2-460f-8455-c0393a1f1dbe"
      },
      "execution_count": null,
      "outputs": [
        {
          "output_type": "stream",
          "name": "stdout",
          "text": [
            "/content/SummerTime\n"
          ]
        }
      ]
    },
    {
      "cell_type": "code",
      "source": [
        "# import modules for this notebook\n",
        "\n",
        "from pprint import pprint\n",
        "import nltk\n",
        "nltk.download('stopwords')"
      ],
      "metadata": {
        "colab": {
          "base_uri": "https://localhost:8080/"
        },
        "id": "zxX9W9nH5T4Q",
        "outputId": "1fe9f582-ca0d-4389-ffc8-582c228a0907"
      },
      "execution_count": null,
      "outputs": [
        {
          "output_type": "stream",
          "name": "stderr",
          "text": [
            "[nltk_data] Downloading package stopwords to /root/nltk_data...\n",
            "[nltk_data]   Package stopwords is already up-to-date!\n"
          ]
        },
        {
          "output_type": "execute_result",
          "data": {
            "text/plain": [
              "True"
            ]
          },
          "metadata": {},
          "execution_count": 2
        }
      ]
    },
    {
      "cell_type": "code",
      "source": [
        "# !pip install en_core_web_sm==3.0.0\n",
        "!python -m spacy download en_core_web_sm"
      ],
      "metadata": {
        "colab": {
          "base_uri": "https://localhost:8080/"
        },
        "id": "bbzuwesg5VfY",
        "outputId": "39206b6a-87f5-4479-a86f-cf9f707473e8"
      },
      "execution_count": null,
      "outputs": [
        {
          "output_type": "stream",
          "name": "stdout",
          "text": [
            "Collecting en-core-web-sm==3.0.0\n",
            "  Downloading https://github.com/explosion/spacy-models/releases/download/en_core_web_sm-3.0.0/en_core_web_sm-3.0.0-py3-none-any.whl (13.7 MB)\n",
            "\u001b[K     |████████████████████████████████| 13.7 MB 22.3 MB/s \n",
            "\u001b[?25hRequirement already satisfied: spacy<3.1.0,>=3.0.0 in /usr/local/lib/python3.7/dist-packages (from en-core-web-sm==3.0.0) (3.0.6)\n",
            "Requirement already satisfied: pydantic<1.8.0,>=1.7.1 in /usr/local/lib/python3.7/dist-packages (from spacy<3.1.0,>=3.0.0->en-core-web-sm==3.0.0) (1.7.4)\n",
            "Requirement already satisfied: jinja2 in /usr/local/lib/python3.7/dist-packages (from spacy<3.1.0,>=3.0.0->en-core-web-sm==3.0.0) (2.11.3)\n",
            "Requirement already satisfied: numpy>=1.15.0 in /usr/local/lib/python3.7/dist-packages (from spacy<3.1.0,>=3.0.0->en-core-web-sm==3.0.0) (1.21.5)\n",
            "Requirement already satisfied: packaging>=20.0 in /usr/local/lib/python3.7/dist-packages (from spacy<3.1.0,>=3.0.0->en-core-web-sm==3.0.0) (21.3)\n",
            "Requirement already satisfied: typer<0.4.0,>=0.3.0 in /usr/local/lib/python3.7/dist-packages (from spacy<3.1.0,>=3.0.0->en-core-web-sm==3.0.0) (0.3.2)\n",
            "Requirement already satisfied: requests<3.0.0,>=2.13.0 in /usr/local/lib/python3.7/dist-packages (from spacy<3.1.0,>=3.0.0->en-core-web-sm==3.0.0) (2.23.0)\n",
            "Requirement already satisfied: preshed<3.1.0,>=3.0.2 in /usr/local/lib/python3.7/dist-packages (from spacy<3.1.0,>=3.0.0->en-core-web-sm==3.0.0) (3.0.6)\n",
            "Requirement already satisfied: wasabi<1.1.0,>=0.8.1 in /usr/local/lib/python3.7/dist-packages (from spacy<3.1.0,>=3.0.0->en-core-web-sm==3.0.0) (0.9.0)\n",
            "Requirement already satisfied: pathy>=0.3.5 in /usr/local/lib/python3.7/dist-packages (from spacy<3.1.0,>=3.0.0->en-core-web-sm==3.0.0) (0.6.1)\n",
            "Requirement already satisfied: setuptools in /usr/local/lib/python3.7/dist-packages (from spacy<3.1.0,>=3.0.0->en-core-web-sm==3.0.0) (57.4.0)\n",
            "Requirement already satisfied: typing-extensions<4.0.0.0,>=3.7.4 in /usr/local/lib/python3.7/dist-packages (from spacy<3.1.0,>=3.0.0->en-core-web-sm==3.0.0) (3.10.0.2)\n",
            "Requirement already satisfied: thinc<8.1.0,>=8.0.3 in /usr/local/lib/python3.7/dist-packages (from spacy<3.1.0,>=3.0.0->en-core-web-sm==3.0.0) (8.0.15)\n",
            "Requirement already satisfied: blis<0.8.0,>=0.4.0 in /usr/local/lib/python3.7/dist-packages (from spacy<3.1.0,>=3.0.0->en-core-web-sm==3.0.0) (0.4.1)\n",
            "Requirement already satisfied: murmurhash<1.1.0,>=0.28.0 in /usr/local/lib/python3.7/dist-packages (from spacy<3.1.0,>=3.0.0->en-core-web-sm==3.0.0) (1.0.6)\n",
            "Requirement already satisfied: cymem<2.1.0,>=2.0.2 in /usr/local/lib/python3.7/dist-packages (from spacy<3.1.0,>=3.0.0->en-core-web-sm==3.0.0) (2.0.6)\n",
            "Requirement already satisfied: spacy-legacy<3.1.0,>=3.0.4 in /usr/local/lib/python3.7/dist-packages (from spacy<3.1.0,>=3.0.0->en-core-web-sm==3.0.0) (3.0.9)\n",
            "Requirement already satisfied: srsly<3.0.0,>=2.4.1 in /usr/local/lib/python3.7/dist-packages (from spacy<3.1.0,>=3.0.0->en-core-web-sm==3.0.0) (2.4.2)\n",
            "Requirement already satisfied: catalogue<2.1.0,>=2.0.3 in /usr/local/lib/python3.7/dist-packages (from spacy<3.1.0,>=3.0.0->en-core-web-sm==3.0.0) (2.0.6)\n",
            "Requirement already satisfied: tqdm<5.0.0,>=4.38.0 in /usr/local/lib/python3.7/dist-packages (from spacy<3.1.0,>=3.0.0->en-core-web-sm==3.0.0) (4.49.0)\n",
            "Requirement already satisfied: zipp>=0.5 in /usr/local/lib/python3.7/dist-packages (from catalogue<2.1.0,>=2.0.3->spacy<3.1.0,>=3.0.0->en-core-web-sm==3.0.0) (3.7.0)\n",
            "Requirement already satisfied: pyparsing!=3.0.5,>=2.0.2 in /usr/local/lib/python3.7/dist-packages (from packaging>=20.0->spacy<3.1.0,>=3.0.0->en-core-web-sm==3.0.0) (3.0.7)\n",
            "Requirement already satisfied: smart-open<6.0.0,>=5.0.0 in /usr/local/lib/python3.7/dist-packages (from pathy>=0.3.5->spacy<3.1.0,>=3.0.0->en-core-web-sm==3.0.0) (5.2.1)\n",
            "Requirement already satisfied: idna<3,>=2.5 in /usr/local/lib/python3.7/dist-packages (from requests<3.0.0,>=2.13.0->spacy<3.1.0,>=3.0.0->en-core-web-sm==3.0.0) (2.10)\n",
            "Requirement already satisfied: urllib3!=1.25.0,!=1.25.1,<1.26,>=1.21.1 in /usr/local/lib/python3.7/dist-packages (from requests<3.0.0,>=2.13.0->spacy<3.1.0,>=3.0.0->en-core-web-sm==3.0.0) (1.25.11)\n",
            "Requirement already satisfied: chardet<4,>=3.0.2 in /usr/local/lib/python3.7/dist-packages (from requests<3.0.0,>=2.13.0->spacy<3.1.0,>=3.0.0->en-core-web-sm==3.0.0) (3.0.4)\n",
            "Requirement already satisfied: certifi>=2017.4.17 in /usr/local/lib/python3.7/dist-packages (from requests<3.0.0,>=2.13.0->spacy<3.1.0,>=3.0.0->en-core-web-sm==3.0.0) (2021.10.8)\n",
            "Requirement already satisfied: click<7.2.0,>=7.1.1 in /usr/local/lib/python3.7/dist-packages (from typer<0.4.0,>=0.3.0->spacy<3.1.0,>=3.0.0->en-core-web-sm==3.0.0) (7.1.2)\n",
            "Requirement already satisfied: MarkupSafe>=0.23 in /usr/local/lib/python3.7/dist-packages (from jinja2->spacy<3.1.0,>=3.0.0->en-core-web-sm==3.0.0) (2.0.1)\n",
            "Installing collected packages: en-core-web-sm\n",
            "  Attempting uninstall: en-core-web-sm\n",
            "    Found existing installation: en-core-web-sm 2.2.5\n",
            "    Uninstalling en-core-web-sm-2.2.5:\n",
            "      Successfully uninstalled en-core-web-sm-2.2.5\n",
            "Successfully installed en-core-web-sm-3.0.0\n",
            "\u001b[38;5;2m✔ Download and installation successful\u001b[0m\n",
            "You can now load the package via spacy.load('en_core_web_sm')\n"
          ]
        }
      ]
    },
    {
      "cell_type": "code",
      "source": [
        "df = pd.read_csv('/content/drive/My Drive/Colab Notebooks/21COP509/LabDatasets/JewelleryReviewsLSA.csv')\n",
        "reviews = df[\"Reviews\"].to_numpy()\n",
        "ratings = df[\"Ratings\"].to_numpy()\n"
      ],
      "metadata": {
        "id": "F4axyyb55XJw"
      },
      "execution_count": null,
      "outputs": []
    },
    {
      "cell_type": "code",
      "source": [
        "\n",
        "corpus1 = list()\n",
        "corpus2 = list()\n",
        "corpus3 = list()\n",
        "corpus4 = list()\n",
        "corpus5 = list()\n",
        "\n",
        "\n",
        "\n",
        "for i in range(200):\n",
        "  #print(i)\n",
        "  if(ratings[i]==1):\n",
        "    corpus1.append(reviews[i])\n",
        "\n",
        "  if(ratings[i]==2):\n",
        "    corpus2.append(reviews[i])\n",
        "\n",
        "  if(ratings[i]==3):\n",
        "    corpus3.append(reviews[i])\n",
        "\n",
        "  if(ratings[i]==4):\n",
        "    corpus4.append(reviews[i])\n",
        "\n",
        "  if(ratings[i]==5):\n",
        "    corpus5.append(reviews[i])   "
      ],
      "metadata": {
        "id": "NT_FGosz59d4"
      },
      "execution_count": null,
      "outputs": []
    },
    {
      "cell_type": "code",
      "source": [
        "print(len(corpus1)+len(corpus2)+len(corpus3)+len(corpus4)+len(corpus5))"
      ],
      "metadata": {
        "colab": {
          "base_uri": "https://localhost:8080/"
        },
        "id": "lA6dgnVv84No",
        "outputId": "0566dc6f-653c-4d49-acf1-6ac3310f09f2"
      },
      "execution_count": null,
      "outputs": [
        {
          "output_type": "stream",
          "name": "stdout",
          "text": [
            "200\n"
          ]
        }
      ]
    },
    {
      "cell_type": "code",
      "source": [
        "print(len(corpus1))"
      ],
      "metadata": {
        "id": "eSGqF1xv_p3N",
        "outputId": "1bbe34b6-fe3f-4821-e858-9dfee0a024ec",
        "colab": {
          "base_uri": "https://localhost:8080/"
        }
      },
      "execution_count": null,
      "outputs": [
        {
          "output_type": "stream",
          "name": "stdout",
          "text": [
            "23\n"
          ]
        }
      ]
    },
    {
      "cell_type": "code",
      "source": [
        "pip install scipy"
      ],
      "metadata": {
        "colab": {
          "base_uri": "https://localhost:8080/"
        },
        "id": "5eyyY_t6-Cpe",
        "outputId": "8ac71536-dfe3-42e1-9942-806bf73b735c"
      },
      "execution_count": null,
      "outputs": [
        {
          "output_type": "stream",
          "name": "stdout",
          "text": [
            "Requirement already satisfied: scipy in /usr/local/lib/python3.7/dist-packages (1.7.3)\n",
            "Requirement already satisfied: numpy<1.23.0,>=1.16.5 in /usr/local/lib/python3.7/dist-packages (from scipy) (1.21.5)\n"
          ]
        }
      ]
    },
    {
      "cell_type": "code",
      "source": [
        "from summertime import model"
      ],
      "metadata": {
        "id": "xoIcVTAD9F_m"
      },
      "execution_count": null,
      "outputs": []
    },
    {
      "cell_type": "code",
      "source": [
        "lexrank = model.LexRankModel(corpus1)\n",
        "\n",
        "# Inference\n",
        "summary = lexrank.summarize(corpus1)\n",
        "for i in range(len(summary)):\n",
        "  print(\"Summary Review %d: \"%(i+1), summary[i])"
      ],
      "metadata": {
        "colab": {
          "base_uri": "https://localhost:8080/"
        },
        "id": "uq-WPFCT9Vbd",
        "outputId": "504069a5-cae5-412b-d458-c508f7d9eb5b"
      },
      "execution_count": null,
      "outputs": [
        {
          "output_type": "stream",
          "name": "stdout",
          "text": [
            "Summary Review 1:  i expect like regular size of ring,but this one look like a ring for toy or something funy, the MM of our rings is 5MM and this ring may be is 1MMso ridiculousMartin1/5 ct.tw Round Diamond Solitaire Ring in 18k White Gold\n",
            "Summary Review 2:  Pick one! Is it a wedding band, toe ring or thumb ring?\n",
            "Summary Review 3:  And this time 1 diamond missing on the shoulder of the ring. I returned the ring for a replacement of the same ring, the second ring was even worse.\n",
            "Summary Review 4:  And this time 1 diamond missing on the shoulder of the ring. I returned the ring for a replacement of the same ring, the second ring was even worse.\n",
            "Summary Review 5:  I seriously not wasting your money on this low quality item This is a huge waste of money I had it for about a month when the part that holds the symbol to the necklace broke.\n",
            "Summary Review 6:  Very flimsy.I would not recommend this item The quality and look were not what I had anticipated.\n",
            "Summary Review 7:  If I saw this item in a store I would not have purchased it. The quality of this item was not up to expectations.The Top was scratched, the hinges did not line up to the pre-drilled holes and the staining was inconsistant.\n",
            "Summary Review 8:  hard and can't wear it, the material is hard and not easy to wear I just don't like it I should have saved my money and got on from A&E\n",
            "Summary Review 9:  Very disappointed in the appearance and quality of the bracelet and its definitely not worth $45.00 - not even close.\n",
            "Summary Review 10:  I definitely would not recommend this bracelet. The bracelet itself looks cheap and the clasp is extremely fragile, in fact the first night she wore the bracelet out the clasp broke on one side.\n",
            "Summary Review 11:  Don't buy this, it's junk. In other words, if you unfasten the bracelet and lay it out on the counter it will not form a straight line because some of the joints in the bracelet are fused together and do not bend so you cannot straighten the bracelet.\n",
            "Summary Review 12:  Avoid this bracelet! Recently, the bracelet fell off because of the poor clasp and was damaged greatly.\n",
            "Summary Review 13:  The seller did not respond when I contacted him about this. It is funky and of poor quality.\n",
            "Summary Review 14:  I returned the item. It was not what I was expecting and seemed to be poor quality.\n",
            "Summary Review 15:  Thank you If not returnable I will not be ordering from Amazon or this jeweler in the future.\n",
            "Summary Review 16:  A total waste of money. I would return this item except family member is in the Coast Guard and it was sent to him.\n",
            "Summary Review 17:  the diamonds are small and not very noticeable; I will be sending this back This ring looks nothing like the picture.\n",
            "Summary Review 18:  This was a very misleading buy. I returned it promptly.\n",
            "Summary Review 19:  The diamonds are flawed more than a little bit. I didn't like this product because the diamonds looked nothing like the picture.\n",
            "Summary Review 20:  The fringed look, only looks like the ring has been left on the floor and someone ran it over with a vaccum cleaner. Although the picture shows a cute looking ring this ring isn't pretty.\n",
            "Summary Review 21:  A real rip-off! The ring looks cheap and should be sold for much less.\n",
            "Summary Review 22:  It looks like a ring for a man when you look at the picture online, but in real life its a very feminine looking ring.\n",
            "Summary Review 23:  They are more like silver plastic. I can't wear them with out completely bending the hooks out of shape.\n"
          ]
        }
      ]
    },
    {
      "cell_type": "code",
      "source": [
        "from summertime.evaluation import SUPPORTED_EVALUATION_METRICS\n",
        "\n",
        "print(SUPPORTED_EVALUATION_METRICS)\n",
        "\n",
        "import summertime.evaluation as st_eval\n",
        "\n",
        "bert_eval = st_eval.BertScore()\n",
        "\n",
        "from summertime import dataset, model\n",
        "from pprint import pprint\n",
        "from summertime.evaluation import BertScore\n",
        "from summertime.evaluation import Meteor\n",
        "from summertime.evaluation import Bleu\n",
        "\n",
        "targets = ['I will not be buying this ring again.',' I will not be ordering from Amazon or this jeweler in the future.', 'The first shipment of this ring had scratches on the diamond.' , 'Very disappointed in the appearance and quality.']\n",
        "\n",
        "summaries = summary"
      ],
      "metadata": {
        "colab": {
          "base_uri": "https://localhost:8080/"
        },
        "id": "sujrJie0-5mE",
        "outputId": "3cee238b-8fe0-4c52-effb-aef7b2cc0065"
      },
      "execution_count": null,
      "outputs": [
        {
          "output_type": "stream",
          "name": "stdout",
          "text": [
            "[<class 'summertime.evaluation.bertscore_metric.BertScore'>, <class 'summertime.evaluation.bleu_metric.Bleu'>, <class 'summertime.evaluation.rouge_metric.Rouge'>, <class 'summertime.evaluation.rougewe_metric.RougeWe'>, <class 'summertime.evaluation.meteor_metric.Meteor'>]\n"
          ]
        }
      ]
    },
    {
      "cell_type": "code",
      "source": [
        "# Calculate BertScore\n",
        "bert_metric = BertScore()\n",
        "bert_metric.evaluate(summaries[:4], targets)"
      ],
      "metadata": {
        "colab": {
          "base_uri": "https://localhost:8080/",
          "height": 299,
          "referenced_widgets": [
            "fc152dd0647448878e39f433f1ad5986",
            "194bf7773c7a48d5af762f0180f4e3c3",
            "070243b6a87047979a9478e1a7973e7a",
            "5185e7b977284afba9cc6247634b5f5f",
            "c0fe5c9b3fe246a0bc3fca633ed520f6",
            "44dd0de32189494582af2c63b6d4149a",
            "edcc01130e19455fbf08d2583f2ebb78",
            "90cd21788d8942dd9807541bd78098a2",
            "8539feea767d41b8bdcdce4b4e97ba5f",
            "3e8a91e70e214243b818e1fe8955893c",
            "69af88726d7f4cc8ba7af1448390e827",
            "a1612733a1b44542b828bde253fee01c",
            "ef566917df764832809586df48aefe51",
            "bd4c31f7105045daba870a13575160a4",
            "01de9f28c83c4d22a76e4a1040617c94",
            "422d5a2b26474e3eaa7322db74bbed1a",
            "14344b7665094911817f0b7e7a1567a6",
            "f2df5dc33fc94fc0a8155ef0738fb247",
            "70e103db87d846da84f085970951a533",
            "79c4be57eb16444da08e61ec0cebbaa2",
            "1652bba23f284e9fad4b19712855ab70",
            "6a2469d83b8a4b6fad6e62297d1005be",
            "6e6f0c4be49845a69afdeebd6cb0a545",
            "64e27482c1ab439796fee2188d075704",
            "9bc78c405eec465cbe61f7d9f621e722",
            "b15590d1449e4250aa9ceea369b015f2",
            "ca54ee22830f4ef89a49516b9921b2b1",
            "b0f9b44b1f384b359db645712e46ac83",
            "07fdc6ae5b7d467d85b88b954e999233",
            "ec5457605c4644df9e608d988bb23549",
            "aad110eb0dba44af9de6b27948b6b7e8",
            "73abd8e87acd4243b21d848b9a7def45",
            "fa890b6ed57c45b2842f602dd31e13c5",
            "3f1aac93fbba4d9c88957064525d383a",
            "ac60e95cdc6344c9ab688d1803dd1003",
            "dee7ce8fa3704a8f80b9024951a11d1c",
            "428479002ea948adbccbe573e5640c3d",
            "d08747505cad4d60b2d56dd2440d068b",
            "f221f8140dac47d89f6bf44ddf730e12",
            "f35b57bee07f4c8681a992cddc5061b8"
          ]
        },
        "id": "JyY-S-H1-96M",
        "outputId": "466c3c44-27ca-4160-d7bc-e891cee99854"
      },
      "execution_count": null,
      "outputs": [
        {
          "output_type": "display_data",
          "data": {
            "text/plain": [
              "HBox(children=(FloatProgress(value=0.0, description='Downloading', max=570.0, style=ProgressStyle(description_…"
            ],
            "application/vnd.jupyter.widget-view+json": {
              "version_major": 2,
              "version_minor": 0,
              "model_id": "fc152dd0647448878e39f433f1ad5986"
            }
          },
          "metadata": {}
        },
        {
          "output_type": "stream",
          "name": "stdout",
          "text": [
            "\n"
          ]
        },
        {
          "output_type": "display_data",
          "data": {
            "text/plain": [
              "HBox(children=(FloatProgress(value=0.0, description='Downloading', max=231508.0, style=ProgressStyle(descripti…"
            ],
            "application/vnd.jupyter.widget-view+json": {
              "version_major": 2,
              "version_minor": 0,
              "model_id": "8539feea767d41b8bdcdce4b4e97ba5f"
            }
          },
          "metadata": {}
        },
        {
          "output_type": "stream",
          "name": "stdout",
          "text": [
            "\n"
          ]
        },
        {
          "output_type": "display_data",
          "data": {
            "text/plain": [
              "HBox(children=(FloatProgress(value=0.0, description='Downloading', max=28.0, style=ProgressStyle(description_w…"
            ],
            "application/vnd.jupyter.widget-view+json": {
              "version_major": 2,
              "version_minor": 0,
              "model_id": "14344b7665094911817f0b7e7a1567a6"
            }
          },
          "metadata": {}
        },
        {
          "output_type": "stream",
          "name": "stdout",
          "text": [
            "\n"
          ]
        },
        {
          "output_type": "display_data",
          "data": {
            "text/plain": [
              "HBox(children=(FloatProgress(value=0.0, description='Downloading', max=466062.0, style=ProgressStyle(descripti…"
            ],
            "application/vnd.jupyter.widget-view+json": {
              "version_major": 2,
              "version_minor": 0,
              "model_id": "9bc78c405eec465cbe61f7d9f621e722"
            }
          },
          "metadata": {}
        },
        {
          "output_type": "stream",
          "name": "stdout",
          "text": [
            "\n"
          ]
        },
        {
          "output_type": "display_data",
          "data": {
            "text/plain": [
              "HBox(children=(FloatProgress(value=0.0, description='Downloading', max=440473133.0, style=ProgressStyle(descri…"
            ],
            "application/vnd.jupyter.widget-view+json": {
              "version_major": 2,
              "version_minor": 0,
              "model_id": "fa890b6ed57c45b2842f602dd31e13c5"
            }
          },
          "metadata": {}
        },
        {
          "output_type": "stream",
          "name": "stdout",
          "text": [
            "\n",
            "hash_code: bert-base-uncased_L8_no-idf_version=0.3.11(hug_trans=4.5.1)\n"
          ]
        },
        {
          "output_type": "execute_result",
          "data": {
            "text/plain": [
              "{'bert_score_f1': 0.4517529606819153}"
            ]
          },
          "metadata": {},
          "execution_count": 12
        }
      ]
    },
    {
      "cell_type": "code",
      "source": [
        "# Calculate Meteor score\n",
        "meteor_metric = Meteor()\n",
        "meteor_metric.evaluate(summaries[:4], targets)"
      ],
      "metadata": {
        "colab": {
          "base_uri": "https://localhost:8080/"
        },
        "id": "Qf7PKiWdeC5n",
        "outputId": "a905ff45-d5b6-44be-b85a-86b2879cdf11"
      },
      "execution_count": null,
      "outputs": [
        {
          "output_type": "stream",
          "name": "stderr",
          "text": [
            "[nltk_data] Downloading package wordnet to /root/nltk_data...\n",
            "[nltk_data]   Unzipping corpora/wordnet.zip.\n"
          ]
        },
        {
          "output_type": "execute_result",
          "data": {
            "text/plain": [
              "{'meteor': 0.06018583400876429}"
            ]
          },
          "metadata": {},
          "execution_count": 15
        }
      ]
    },
    {
      "cell_type": "code",
      "source": [
        "# Calculate BleuScore\n",
        "bleu_metric = Bleu()\n",
        "bleu_metric.evaluate(summaries[:4], targets)"
      ],
      "metadata": {
        "colab": {
          "base_uri": "https://localhost:8080/"
        },
        "id": "e4UCDITAeKHv",
        "outputId": "1d411fce-8666-4052-bb1a-c77c59dca35a"
      },
      "execution_count": null,
      "outputs": [
        {
          "output_type": "execute_result",
          "data": {
            "text/plain": [
              "{'bleu': 0.011218874467832134}"
            ]
          },
          "metadata": {},
          "execution_count": 16
        }
      ]
    },
    {
      "cell_type": "markdown",
      "source": [
        "Summarizing and evaluating class 2"
      ],
      "metadata": {
        "id": "VuhQgXdfiTB9"
      }
    },
    {
      "cell_type": "code",
      "source": [
        "lexrank = model.LexRankModel(corpus2)\n",
        "\n",
        "# Inference\n",
        "summary = lexrank.summarize(corpus2)\n",
        "for i in range(len(summary)):\n",
        "  print(\"Summary Review %d: \"%(i+1), summary[i])"
      ],
      "metadata": {
        "colab": {
          "base_uri": "https://localhost:8080/"
        },
        "outputId": "f660c5bb-30a2-4007-9c58-7855d30f2cb7",
        "id": "EWoksD4Uhr3_"
      },
      "execution_count": null,
      "outputs": [
        {
          "output_type": "stream",
          "name": "stdout",
          "text": [
            "Summary Review 1:  I wanted to know if this ring is like 2 rings in one, because this ring is beyond gorgeous, I just love it.\n",
            "Summary Review 2:  It was not worth returning it as you would pay more for postage than what the ring cost. Nice ring for the an inexpensive ring, but one stone was missing.\n",
            "Summary Review 3:  wore this toe ring one day and POOF the stone was gone so it sits in a pile of other broken sterling silver rings and things\n",
            "Summary Review 4:  I would not recommend if you want a nice 1/2 carat ring. Ring is way too small and looks like a toy when putting it on.\n",
            "Summary Review 5:  Spend your money on a higher quality item. The metal is already tarnishing too.\n",
            "Summary Review 6:  its what i wanted :) but its not my favorite piercing of mine but i have to wear the bioplast cuz i break out with certain metals\n",
            "Summary Review 7:  I wear it UNDER my shirt since it does not compliment anything I wear. It serves the purpose, but it seemed to me that the image was a lot prettier and sparklier than it turned out to be.\n",
            "Summary Review 8:  the bracelet was not a true 9  the necklace perfect the bracelet nice quality just not true to length\n",
            "Summary Review 9:  I ended up returning the bracelet because I have amethyst jewelry and it was extremely poor quality. The stones on this bracelet are extremely pale, more pink than purple.\n",
            "Summary Review 10:  Good quality product t t t t t t t Item was shipped and received within the time limit given.\n",
            "Summary Review 11:  Very disappointed with the quality. Not packaged well had to send it back.\n",
            "Summary Review 12:  The ring was nice and looked like picture but had a crack in one Garnet and another one had a large chip.\n",
            "Summary Review 13:  I will definitely be returning this ring. Mine was also tarnished or looked like it had torch marks up the side.\n",
            "Summary Review 14:  I ended up returning it. If you are a man looking to buy a ring for his significant other, I would recommend you spend it a little bit more and buy a better looking ring.\n",
            "Summary Review 15:  I'm very disappointed with amazon for the lack of description. The ring is a bright polish and the yellow gold is barely visiable.\n",
            "Summary Review 16:  It was much smaller than it looked like in the picture and the silver necklace seemed to be of poorer quality than expected.\n",
            "Summary Review 17:  The diamond had a crack in one Garnet and another one had a large chip.\n"
          ]
        }
      ]
    },
    {
      "cell_type": "code",
      "source": [
        "from summertime.evaluation import SUPPORTED_EVALUATION_METRICS\n",
        "\n",
        "print(SUPPORTED_EVALUATION_METRICS)\n",
        "\n",
        "import summertime.evaluation as st_eval\n",
        "\n",
        "bert_eval = st_eval.BertScore()\n",
        "\n",
        "from summertime import dataset, model\n",
        "from pprint import pprint\n",
        "from summertime.evaluation import BertScore\n",
        "from summertime.evaluation import Meteor\n",
        "from summertime.evaluation import Bleu\n",
        "\n",
        "targets = ['It was not worth returning it as you would pay more for postage than what the ring cost.' , 'The ring was nice and looked like picture but had a crack in one Garnet and another one had a large chip.' , 'I would recommend you spend it a little bit more and buy a better looking ring.' ,  'I\\'m very disappointed with amazon for the lack of description.']\n",
        "\n",
        "summaries = summary"
      ],
      "metadata": {
        "colab": {
          "base_uri": "https://localhost:8080/"
        },
        "outputId": "833d1ccb-14fb-4363-a02d-e4faec52af71",
        "id": "MhxMfWCHh7i-"
      },
      "execution_count": null,
      "outputs": [
        {
          "output_type": "stream",
          "name": "stdout",
          "text": [
            "[<class 'summertime.evaluation.bertscore_metric.BertScore'>, <class 'summertime.evaluation.bleu_metric.Bleu'>, <class 'summertime.evaluation.rouge_metric.Rouge'>, <class 'summertime.evaluation.rougewe_metric.RougeWe'>, <class 'summertime.evaluation.meteor_metric.Meteor'>]\n"
          ]
        }
      ]
    },
    {
      "cell_type": "code",
      "source": [
        "# Calculate BertScore\n",
        "bert_metric = BertScore()\n",
        "bert_metric.evaluate(summaries[:4], targets)"
      ],
      "metadata": {
        "colab": {
          "base_uri": "https://localhost:8080/"
        },
        "outputId": "97b91f3c-686f-4cd8-97f5-0d962cf2700c",
        "id": "PvsQpAx9iEbH"
      },
      "execution_count": null,
      "outputs": [
        {
          "output_type": "stream",
          "name": "stdout",
          "text": [
            "hash_code: bert-base-uncased_L8_no-idf_version=0.3.11(hug_trans=4.5.1)\n"
          ]
        },
        {
          "output_type": "execute_result",
          "data": {
            "text/plain": [
              "{'bert_score_f1': 0.44789665937423706}"
            ]
          },
          "metadata": {},
          "execution_count": 26
        }
      ]
    },
    {
      "cell_type": "code",
      "source": [
        "# Calculate Meteor score\n",
        "meteor_metric = Meteor()\n",
        "meteor_metric.evaluate(summaries[:4], targets)"
      ],
      "metadata": {
        "colab": {
          "base_uri": "https://localhost:8080/"
        },
        "id": "jHw70J-kiIzE",
        "outputId": "078335fa-3e49-4ff0-84a2-7b4793335e1f"
      },
      "execution_count": null,
      "outputs": [
        {
          "output_type": "stream",
          "name": "stderr",
          "text": [
            "[nltk_data] Downloading package wordnet to /root/nltk_data...\n",
            "[nltk_data]   Package wordnet is already up-to-date!\n"
          ]
        },
        {
          "output_type": "execute_result",
          "data": {
            "text/plain": [
              "{'meteor': 0.056363437882077}"
            ]
          },
          "metadata": {},
          "execution_count": 27
        }
      ]
    },
    {
      "cell_type": "code",
      "source": [
        "# Calculate BleuScore\n",
        "bleu_metric = Bleu()\n",
        "bleu_metric.evaluate(summaries[:4], targets)"
      ],
      "metadata": {
        "colab": {
          "base_uri": "https://localhost:8080/"
        },
        "id": "24zPcSGliJjs",
        "outputId": "b85472f9-7e4f-40e0-c67f-56425083bed3"
      },
      "execution_count": null,
      "outputs": [
        {
          "output_type": "execute_result",
          "data": {
            "text/plain": [
              "{'bleu': 0.006164252063182463}"
            ]
          },
          "metadata": {},
          "execution_count": 28
        }
      ]
    },
    {
      "cell_type": "markdown",
      "source": [
        "Summarizing and evaluating class 3"
      ],
      "metadata": {
        "id": "0DYD7VhGkHnw"
      }
    },
    {
      "cell_type": "code",
      "source": [
        "lexrank = model.LexRankModel(corpus3)\n",
        "\n",
        "# Inference\n",
        "summary = lexrank.summarize(corpus3)\n",
        "for i in range(len(summary)):\n",
        "  print(\"Summary Review %d: \"%(i+1), summary[i])"
      ],
      "metadata": {
        "colab": {
          "base_uri": "https://localhost:8080/"
        },
        "id": "vmrEMXxAirGt",
        "outputId": "34ffd86e-6b8b-4b83-eafc-0908621f8bfb"
      },
      "execution_count": null,
      "outputs": [
        {
          "output_type": "stream",
          "name": "stdout",
          "text": [
            "Summary Review 1:  Thanks alot Amazon. I returned it for a refund.\n",
            "Summary Review 2:  Thanks alot Amazon. I returned it for a refund.\n",
            "Summary Review 3:  very nice small sized ring I can stack it with other rings for different looks\n",
            "Summary Review 4:  I got this ring for my birthday and I love it, I cannot imagine a woman not adoring this ring.\n",
            "Summary Review 5:  I purchased the ring as I have a few nice gold necklaces I wear and I wanted a ring to work with them all. The ring doesn't look like a $35 ring.\n",
            "Summary Review 6:  Comfortable ring. I wear the ring on my index finger and it fits great!\n",
            "Summary Review 7:  Thank you! We appreciate the care and quick receiving of the ring.\n",
            "Summary Review 8:  I love the ring its not a ring that you would want to wear as an everyday ring the claws that hold the stone in are very sharp and get stuck on things and have scratched me\n",
            "Summary Review 9:  It's a cute ring so I just kept it for myself. I bought this ring as a Valentine's gift but couldn't give it since the hands holding the heart symbol would reverse whenever the ring spins (there are 4 of them on this ring, alternating the facing direction).\n",
            "Summary Review 10:  It would have been better as a pinky ring. This ring was a little too small for my ring finger.\n",
            "Summary Review 11:  The ring is pretty enough, but the metal of the ring is very insubstantial it pushes in very easily.\n",
            "Summary Review 12:  my husband loves it only thing is you cant have this ring resized due to the way the ring is made\n",
            "Summary Review 13:  The ring is pretty but very flexible which turned out good for me because I ordered for my ring finger and the size of it made it look better as a pinkie ring.\n",
            "Summary Review 14:  If you have a good pain tolerance you may not notice any discomfort, as for me my ears lobes were swollen and I had to stop wearing them for 4 days. They definitely help lessen your appitite, however my ears were sore after wearing for about 3 hours and the next few days I tried to wear them off and on and to increase the wearing time.\n",
            "Summary Review 15:  It was described perfectly and was everything I had hoped The product arrived in a very short period of time and was perfect.\n",
            "Summary Review 16:  A truly beautiful piece to own. The workmanship is excellent and the details are beautiful.\n",
            "Summary Review 17:  The ring I got in the mail looks like the sides are smushed in and not clean curves. I just wished it looked like the picture.\n",
            "Summary Review 18:  Not worth $6.99 but more like $3. Very small ring.\n",
            "Summary Review 19:  This ring is alot smaller in person than in pictures, the pictures make it look like the diamonds are decent size and they are very small, I was a little disappointed.\n",
            "Summary Review 20:  From the picture they looked to have some purple in them but they are clear just like the title says.\n",
            "Summary Review 21:  Although the picture looks like metal beads and description states sterling silver, these are pearls.\n",
            "Summary Review 22:  However, i agree with one of the earlier reviews that I thought they would have been a little bigger. I really liked these earrings.\n",
            "Summary Review 23:  However, i agree with one of the earlier reviews that I thought they would have been a little bigger. I really liked these earrings.\n",
            "Summary Review 24:  However, i agree with one of the earlier reviews that I thought they would have been a little bigger. I really liked these earrings.\n"
          ]
        }
      ]
    },
    {
      "cell_type": "code",
      "source": [
        "from summertime.evaluation import SUPPORTED_EVALUATION_METRICS\n",
        "\n",
        "print(SUPPORTED_EVALUATION_METRICS)\n",
        "\n",
        "import summertime.evaluation as st_eval\n",
        "\n",
        "bert_eval = st_eval.BertScore()\n",
        "\n",
        "from summertime import dataset, model\n",
        "from pprint import pprint\n",
        "from summertime.evaluation import BertScore\n",
        "from summertime.evaluation import Meteor\n",
        "from summertime.evaluation import Bleu\n",
        "\n",
        "targets = ['This ring is a beautiful ring but the first shipment of this ring had scratches on the diamond and was missing 2 diamonds.' , 'I was not sure if the diamonds were actually blue or not.' , 'I was a little disappointed with the size of the rings.' ,  'Only thing is you cant have this ring resized.']\n",
        "\n",
        "summaries = summary"
      ],
      "metadata": {
        "colab": {
          "base_uri": "https://localhost:8080/"
        },
        "id": "Wpp7M28hkOeH",
        "outputId": "7444b624-c034-4ace-a5a5-a104bb1ba8d5"
      },
      "execution_count": null,
      "outputs": [
        {
          "output_type": "stream",
          "name": "stdout",
          "text": [
            "[<class 'summertime.evaluation.bertscore_metric.BertScore'>, <class 'summertime.evaluation.bleu_metric.Bleu'>, <class 'summertime.evaluation.rouge_metric.Rouge'>, <class 'summertime.evaluation.rougewe_metric.RougeWe'>, <class 'summertime.evaluation.meteor_metric.Meteor'>]\n"
          ]
        }
      ]
    },
    {
      "cell_type": "code",
      "source": [
        "# Calculate BertScore\n",
        "bert_metric = BertScore()\n",
        "bert_metric.evaluate(summaries[:4], targets)"
      ],
      "metadata": {
        "colab": {
          "base_uri": "https://localhost:8080/"
        },
        "id": "O3iy6lDDkdc2",
        "outputId": "a9c3ddaf-c662-4cd0-d4a2-2c5c0b2486f6"
      },
      "execution_count": null,
      "outputs": [
        {
          "output_type": "stream",
          "name": "stdout",
          "text": [
            "hash_code: bert-base-uncased_L8_no-idf_version=0.3.11(hug_trans=4.5.1)\n"
          ]
        },
        {
          "output_type": "execute_result",
          "data": {
            "text/plain": [
              "{'bert_score_f1': 0.43645626306533813}"
            ]
          },
          "metadata": {},
          "execution_count": 31
        }
      ]
    },
    {
      "cell_type": "code",
      "source": [
        "# Calculate Meteor score\n",
        "meteor_metric = Meteor()\n",
        "meteor_metric.evaluate(summaries[:4], targets)"
      ],
      "metadata": {
        "colab": {
          "base_uri": "https://localhost:8080/"
        },
        "id": "0061ZktTkhEf",
        "outputId": "ce7a05a4-aa08-408c-8fa4-92ed25b58361"
      },
      "execution_count": null,
      "outputs": [
        {
          "output_type": "stream",
          "name": "stderr",
          "text": [
            "[nltk_data] Downloading package wordnet to /root/nltk_data...\n",
            "[nltk_data]   Package wordnet is already up-to-date!\n"
          ]
        },
        {
          "output_type": "execute_result",
          "data": {
            "text/plain": [
              "{'meteor': 0.07293417955426351}"
            ]
          },
          "metadata": {},
          "execution_count": 32
        }
      ]
    },
    {
      "cell_type": "code",
      "source": [
        "# Calculate BleuScore\n",
        "bleu_metric = Bleu()\n",
        "bleu_metric.evaluate(summaries[:4], targets)"
      ],
      "metadata": {
        "colab": {
          "base_uri": "https://localhost:8080/"
        },
        "id": "06V7l8xTkg32",
        "outputId": "d4c56408-1a2c-4921-998f-2150ca8ef7ec"
      },
      "execution_count": null,
      "outputs": [
        {
          "output_type": "execute_result",
          "data": {
            "text/plain": [
              "{'bleu': 0.020021970606128897}"
            ]
          },
          "metadata": {},
          "execution_count": 33
        }
      ]
    },
    {
      "cell_type": "markdown",
      "source": [
        "Summarizing and evaluating class 4"
      ],
      "metadata": {
        "id": "sqxgPozNoMnf"
      }
    },
    {
      "cell_type": "code",
      "source": [
        "lexrank = model.LexRankModel(corpus4)\n",
        "\n",
        "# Inference\n",
        "summary = lexrank.summarize(corpus4)\n",
        "for i in range(len(summary)):\n",
        "  print(\"Summary Review %d: \"%(i+1), summary[i])"
      ],
      "metadata": {
        "colab": {
          "base_uri": "https://localhost:8080/"
        },
        "id": "Vou_6LpwoVj3",
        "outputId": "c4d27ed4-613d-48ad-d5ae-762719d98a94"
      },
      "execution_count": null,
      "outputs": [
        {
          "output_type": "stream",
          "name": "stdout",
          "text": [
            "Summary Review 1:  all the stuff i got was cool, i love the pink peace sign tongue ring :) the only complaint is that i got 2 yellow lip rings and im not much for yellow, overall very happy i got 3 belly rings 3 tongue rings 3 lip rings and a 16g cbr.\n",
            "Summary Review 2:  I ended up taking mine to a silver smith and had him remove the back section of the middle ring and it really helped out with the flexibility The flaw lies in the middle part of the ring, being that its a complete ring it cuts down on the flexiblity of the over all joint.\n",
            "Summary Review 3:  I ended up taking mine to a silver smith and had him remove the back section of the middle ring and it really helped out with the flexibility The flaw lies in the middle part of the ring, being that its a complete ring it cuts down on the flexiblity of the over all joint.\n",
            "Summary Review 4:  Other than that a great very comfortable ring. my only wish on this ring is- I wish the cut potrion went all the way around the ring.\n",
            "Summary Review 5:  Inclduing all the specifications I included the ring has met my expectations especially for a beginning ring. The ring itself is beautiful, the only thing I don't care for is there is a line where it looks like the ring may have been re-sized.\n",
            "Summary Review 6:  But it is a cute ring I guess you shouldn't order some things online.\n",
            "Summary Review 7:  I have been told that the ring is very comfortable to wear and he was quite surprised and please to see the Masonic ring in titanium.\n",
            "Summary Review 8:  I was going to order the ring but it seems that the ring received is the 2nd/3rd ring which has a smaller cross design. If you notice picture 1 and pictures 2/3 are two different rings.\n",
            "Summary Review 9:  The ring is definitely NOT as advertised. Your picture of this rings shows blue sapphires so I was disappointed to see that the ring I received has such dark stones that they appear black.\n",
            "Summary Review 10:  Past that I liked this ring, the design of the dead bugs and snakes catches a lot of attention. Pewter rings tend to be a bit more bulkier than other types of rings and the metal is softer.\n",
            "Summary Review 11:  the product came very fast and was just like how amazon explained itthe ring is very clearly written NO WAR and thick which i likebut i guess if you like small rings this isnt your ring\n",
            "Summary Review 12:  very nice small sized ring I can stack it with other rings for different looks\n",
            "Summary Review 13:  It is too small for an adult. This is an attractive and high quality item for a young teenager.\n",
            "Summary Review 14:  In my opinion, this adds to the quality of the rosary so I'm not sure why the seller didn't describe this fact. There was only one thing buyers need to be aware of when buying this item that wasn't mentioned in the description.\n",
            "Summary Review 15:  i still wear it on a necklace and love it on occasion i can squish it onto my fingure but it took less than two months for it to be almost impossible for me to wear. i love this ring my only complaint is that the metal is so soft that it bent to the point that i couldnt wear it anymore.\n",
            "Summary Review 16:  Just what I was looking for. It is so pretty and dainty.\n",
            "Summary Review 17:  It's still pretty but buy for design not color. When I first saw it I thought it was lavendar.\n",
            "Summary Review 18:  I wear it often The detail is so pretty and elegant.\n",
            "Summary Review 19:  She loves the ring and was very happy to have received it. This was a birthday gift for my 16 YO niece.\n",
            "Summary Review 20:  I have quite a collection, and I hope to continue to build it they make great gifts for great people in your life.\n",
            "Summary Review 21:  I received this Italian horn in pristine condition and I was completely satisfied with the receiving of this product in a timely manner.\n",
            "Summary Review 22:  i will not order from them again. the product arrived in perfect condition but the shipping is ridiculously slow.\n",
            "Summary Review 23:  They were a huge hit with the person who received them My item came quickly and in plenty of time for Christmas.\n",
            "Summary Review 24:  I wear on the weekends or out & about but isn't not suited for my work or my going out events This pendant I classify as the best for casual wear.\n",
            "Summary Review 25:  I am looking forward to wearing them as they sparkle and catch every eye at my son's wedding on June 30\n",
            "Summary Review 26:  I wish I didn't have to wear it but it is in their honor that I do. I wear this charm in memory of 3 friends that have passed away.\n",
            "Summary Review 27:  I will keep them they are also pretty but not what I expected. They look almost light pink.\n",
            "Summary Review 28:  and I am very happy with it. Overall, I think it's pretty.\n",
            "Summary Review 29:  I bought it for my aunt as a present and the color is very nice. The message is very positive and it looks very pretty.\n",
            "Summary Review 30:  The diamonds in the picture are nothing close to the size they look in the picture but the ring is awesome and I would absolutely recommend it to anyone for the price. Hands down, no doubt.\n",
            "Summary Review 31:  The silver does not look as in the picture but just like polished silver. the earrings are as in the picture, stones look good and are light and comfortable, reasonable quality for the price.\n"
          ]
        }
      ]
    },
    {
      "cell_type": "code",
      "source": [
        "from summertime.evaluation import SUPPORTED_EVALUATION_METRICS\n",
        "\n",
        "print(SUPPORTED_EVALUATION_METRICS)\n",
        "\n",
        "import summertime.evaluation as st_eval\n",
        "\n",
        "bert_eval = st_eval.BertScore()\n",
        "\n",
        "from summertime import dataset, model\n",
        "from pprint import pprint\n",
        "from summertime.evaluation import BertScore\n",
        "from summertime.evaluation import Meteor\n",
        "from summertime.evaluation import Bleu\n",
        "\n",
        "targets = ['I love the shipping pace.' , 'The ring itself is beautiful.' , 'I have been looking for a ring that is so beautiful and unique.' ,  'This is a solid.beautiful ring.' ,  'But if you are expecting the color in rhe picture you will be disappointed.' , 'I love this ring my only complaint is that the metal is so soft.']\n",
        "\n",
        "summaries = summary"
      ],
      "metadata": {
        "id": "wehotnLYoZLG"
      },
      "execution_count": null,
      "outputs": []
    },
    {
      "cell_type": "code",
      "source": [
        "# Calculate BertScore\n",
        "bert_metric = BertScore()\n",
        "bert_metric.evaluate(summaries[:4], targets)"
      ],
      "metadata": {
        "colab": {
          "base_uri": "https://localhost:8080/"
        },
        "id": "GFn5RT9XoZC3",
        "outputId": "59e9ef94-a981-4cf7-d124-245c7cc6289b"
      },
      "execution_count": null,
      "outputs": [
        {
          "output_type": "stream",
          "name": "stdout",
          "text": [
            "hash_code: bert-base-uncased_L8_no-idf_version=0.3.11(hug_trans=4.5.1)\n"
          ]
        },
        {
          "output_type": "execute_result",
          "data": {
            "text/plain": [
              "{'bert_score_f1': 0.43645626306533813}"
            ]
          },
          "metadata": {},
          "execution_count": 36
        }
      ]
    },
    {
      "cell_type": "code",
      "source": [
        "# Calculate Meteor score\n",
        "meteor_metric = Meteor()\n",
        "meteor_metric.evaluate(summaries[:4], targets)"
      ],
      "metadata": {
        "colab": {
          "base_uri": "https://localhost:8080/"
        },
        "id": "H9i37IqUo43W",
        "outputId": "3f0c912c-a12e-4779-d5e5-8f5784d9cb0b"
      },
      "execution_count": null,
      "outputs": [
        {
          "output_type": "stream",
          "name": "stderr",
          "text": [
            "[nltk_data] Downloading package wordnet to /root/nltk_data...\n",
            "[nltk_data]   Package wordnet is already up-to-date!\n"
          ]
        },
        {
          "output_type": "execute_result",
          "data": {
            "text/plain": [
              "{'meteor': 0.07293417955426351}"
            ]
          },
          "metadata": {},
          "execution_count": 37
        }
      ]
    },
    {
      "cell_type": "code",
      "source": [
        "# Calculate BleuScore\n",
        "bleu_metric = Bleu()\n",
        "bleu_metric.evaluate(summaries[:4], targets)"
      ],
      "metadata": {
        "colab": {
          "base_uri": "https://localhost:8080/"
        },
        "id": "I5OsbdTCoY_u",
        "outputId": "bc559d12-5de7-445e-8763-35e87736b491"
      },
      "execution_count": null,
      "outputs": [
        {
          "output_type": "execute_result",
          "data": {
            "text/plain": [
              "{'bleu': 0.020021970606128897}"
            ]
          },
          "metadata": {},
          "execution_count": 38
        }
      ]
    },
    {
      "cell_type": "markdown",
      "source": [
        "Summarizing and Evaluating class 5"
      ],
      "metadata": {
        "id": "nMtiW0GMpDBe"
      }
    },
    {
      "cell_type": "code",
      "source": [
        "lexrank = model.LexRankModel(corpus5)\n",
        "\n",
        "# Inference\n",
        "summary = lexrank.summarize(corpus5)\n",
        "for i in range(len(summary)):\n",
        "  print(\"Summary Review %d: \"%(i+1), summary[i])"
      ],
      "metadata": {
        "colab": {
          "base_uri": "https://localhost:8080/"
        },
        "id": "eDrmxXcepGgO",
        "outputId": "c3d3b876-ecfa-47cd-c391-1551fa6bd421"
      },
      "execution_count": null,
      "outputs": [
        {
          "output_type": "stream",
          "name": "stdout",
          "text": [
            "Summary Review 1:  I have had a lot of compliments on my new ring\". Perfect fit!\n",
            "Summary Review 2:  The ring shines perfectly I love this ring! This ring is perfect I say why spend thousands when you don't have to?\n",
            "Summary Review 3:  Thank you, Dorothy Eve's Addiction was wonderful with sending the ring and the ring is beautiful; my daughter waas thrilled with the ring.\n",
            "Summary Review 4:  In the past she has had similar rings but has always been frustrated by the flimsy ring band, but this ring has a nice solid band. my girlfriend especially enjoys this ring because of the thickness of the ring band.\n",
            "Summary Review 5:  I got this as my engagement ring Feb 09 This ring is beautiful and durable. I absolutely love this ring!\n",
            "Summary Review 6:  Right he doesn't have to buy me an engagement ring, he can just use this as my engagement ring, as I am not into getting into debt before marriage. I love this ring because the flowers go all the way around the ring and it fits my ring finger so if I ever find Mr.\n",
            "Summary Review 7:  This ring is gorgeous and fits right in with the other sterling silver Celtic rings that I have. The ring also arrived very quickly which is the same for the other ring I bought from this company, I would definitely do business with them again!\n",
            "Summary Review 8:  Bought this ring as a thumb ring everyone notices it and comments about how pretty and cool it looks then when I spin it they want to know where I got it I would recommend this ring to any one also very comfy.\n",
            "Summary Review 9:  i love the ring it shines beautiful its looks so real anyone who like to buy one this is the ring the stones are a good size my friends love the ring it could pass for a real diamond i love the ring its worth the money its better then the ring i bought from avon it was silver and had cubic z no shine to the ring but this ring i bought with the 3 stones its worth the price anne marie\n",
            "Summary Review 10:  I owned a triple roll ring which each of the three rings slowly broke, so I purchased this which so far, none of the individual rings have broken yet.\n",
            "Summary Review 11:  I need more pinky rings and it's hard to find size 4 rings that aren't just for children. It's a nice flower ring that is perfect as a pinky ring for me.\n",
            "Summary Review 12:  I bought this ring for my old prom date it's a beautiful ring and fair price so any guy looking to save money until he afford that Engagement ring definitely get this.\n",
            "Summary Review 13:  This ring is just lovely!While advertised as a pinky ring, I actually wear it as a thumb ring.\n",
            "Summary Review 14:  This ring fits and looks beautiful! I dont even need my expensive rings now.\n",
            "Summary Review 15:  This works perfectly for my rings and my wider rings - both narrow and wide.\n",
            "Summary Review 16:  I would recommend this amethyst ring to anyone who is in the market for a reasonably priced amethyst ring. This ring is just absolutely stunning and beautiful!\n",
            "Summary Review 17:  and would reccomend it to anyone who wants a ring that is elegent and afordable at the same time. I just love this ring.\n",
            "Summary Review 18:  Still wearing the pinky ring with the trinity knotFinally have a pinky ring that does not turn my finger green\n",
            "Summary Review 19:  i must say it is a beautiful ring which always catches peoples attention got this for my gf not as an enguagement ring and much to my supprize it was two rings which fit together to make 1. it looked like just one ring in the picture.\n",
            "Summary Review 20:  I love the ring and suggest every girl should have this ring in their jewelry collection.\n",
            "Summary Review 21:  Me myself, my wedding ring has always been just a silver band but I believe this ring truly defies the subliminal misconception that she deserves a diamond.Great for your temporary ring, or if she doesnt care about price, a perfect choice for those who want to turn heads without breaking the bank The Cubic Zirconia looks authentic enough under basic scrutiny that we may never go back to a diamond ring again.\n",
            "Summary Review 22:  I am really glad that I decided to go with this ring, even though I was kind of nervous ordering a ring online. I bought this ring to go along with my solitaire engagement ring and it makes a perfect replacement to a plain wedding band.\n",
            "Summary Review 23:  I would suggest this ring for any fan of hearts and a little bit of bling! She wears this ring on her right ring finger instead of her high school ring because she loves it that much.\n",
            "Summary Review 24:  I do love this ring and I wear it all the time. If anything happens and the stone does fall out, I will probably buy another ring because of how much I love this ring.\n",
            "Summary Review 25:  Thanks for the great ring! This ring is exactly what I wanted, I actually bought another and it wasn't quite as solidly made as this ring is.\n",
            "Summary Review 26:  It's gorgeous and I love it! This gorgeous ring holder sits on my dresser and holds my wedding ring every night.\n",
            "Summary Review 27:  My taste in rings is more toward the bold/unique side, and this ring definitely fits the bill! I have quite a variety of silver rings, and this ring is one that I wear on a regular basis.\n",
            "Summary Review 28:  ! I'm already shopping for my second Gem Avenue ring!Kudos to Gem Avenue for supplying small rings for people who like fitted toe rings!\n",
            "Summary Review 29:  This ring fits and looks awesum! This ring is stunning, delicate, and beautiful.\n",
            "Summary Review 30:  this ring is just the right one for everyone who want a beautiful ring on there hand that it will catch everyone's attention.\n",
            "Summary Review 31:  Of course it costs a bit more but you can't go wrong paying for better quality! The rings on this one are thicker, making it a bolder and more durable ring.\n",
            "Summary Review 32:  Recv'd my ring in a timely manner it looks very antique would recommend this ring to any garnet lover!\n",
            "Summary Review 33:  It stacks beautifully with my engagement ring and is also perfect on its own, catching the light with an appealing luminosity. I purchased it as a replacement for my lost wedding ring.\n",
            "Summary Review 34:  My second engagement Ring got it on my birthday i love this nice and shinny lol must buy ring for anyone\n",
            "Summary Review 35:  It is very snug because of the thickness of this ring,if you are wanting to buy this ring, buy it a size larger.The ring is just beautiful and although I bought it b/c both my boys have AutismI am using it as new wedding band since I go through rings so often.I don't think I will ever have to replace this ring and am going to buy my hubby one too. I LOVE this ring!\n",
            "Summary Review 36:  I am completly satisfied and will order from this site again. This particular cluster is absolutely beautiful the sparkling color of the stones and the quality of the ring.Recieved numerous compliments and would recommend this ring if your looking for a ring that is set nicely with the blue topaz stones.\n",
            "Summary Review 37:  I am completly satisfied and will order from this site again. This particular cluster is absolutely beautiful the sparkling color of the stones and the quality of the ring.Recieved numerous compliments and would recommend this ring if your looking for a ring that is set nicely with the blue topaz stones.\n",
            "Summary Review 38:  I am completly satisfied and will order from this site again. This particular cluster is absolutely beautiful the sparkling color of the stones and the quality of the ring.Recieved numerous compliments and would recommend this ring if your looking for a ring that is set nicely with the blue topaz stones.\n",
            "Summary Review 39:  The silver and black enamel cross ring speaks for its self.Utterly undescibable. Many have ask where to purchase the ring so they to can share their inner feelings in an outward way without having to say a work, but allow the ring to speak for them.\n",
            "Summary Review 40:  No regrets buying this ring at all! Now I have been wearing it for awhile now and it is perfect!\n",
            "Summary Review 41:  I wanted to know if this ring is like 2 rings in one, because this ring is beyond gorgeous, I just love it.\n",
            "Summary Review 42:  I have had a lot of compliments on my \"new ring\". Perfect fit!\n",
            "Summary Review 43:  I got this ring for my birthday and I love it, I cannot imagine a woman not adoring this ring.\n",
            "Summary Review 44:  I purchased the ring as I have a few nice gold necklaces I wear and I wanted a ring to work with them all. The ring doesn't look like a $35 ring.\n",
            "Summary Review 45:  Comfortable ring. I wear the ring on my index finger and it fits great!\n",
            "Summary Review 46:  Thank you! We appreciate the care and quick receiving of the ring.\n",
            "Summary Review 47:  Will definately reccommend Eve's Addiction to all my friends and family. I was very pleased with the quality of this item.\n",
            "Summary Review 48:  THE QUALITY IS SO MUCH MORE THAN I COULD HAVE EVER HOPED FOR. THIS ITEM WAS A WONDERFUL SURPRISE.\n",
            "Summary Review 49:  Would definately buy from this seller again Delivery was fast.\n",
            "Summary Review 50:  Would definately buy from this seller again Delivery was fast.\n",
            "Summary Review 51:  Their service was also exceptional. I was very impressed with the quality and would not hesitate to purchase other items from the Seller.\n",
            "Summary Review 52:  The price was low compared to the quality and my wife and I were very pleased with this jewlery item. I was pressed for time and I did like the pictures of the item so I decided to take a chance.\n",
            "Summary Review 53:  You can see all the keys, any flute fan would adore having this item. The flute charm is so detailed and is of very high quality.\n",
            "Summary Review 54:  I'm very happy with it and recommend it unreservedly. Item was great quality and came promptly.\n",
            "Summary Review 55:  They are just beautiful! They look very expensive too, much more than the cost.They also go with any color.\n",
            "Summary Review 56:  CAN BE LAYED FOR A BEAUTIFUL LOOK. YET IT IS VERY PRETTY.\n",
            "Summary Review 57:  Definitely a great value. I got the ring as a promise ring for my girlfriend for Christmas and she loved it.\n",
            "Summary Review 58:  extremelly cheap and high quality. my wife loves the ring, it was a great gift.\n",
            "Summary Review 59:  As a gift to myself for my birthday this year, it was definitely a great gift and a welcomed addition to my collection. This ring did that for me.\n",
            "Summary Review 60:  the only thing is that if the rings are not position correctly it pinches the skin. i got this ring as a gift from my boyfriend and i love it.\n",
            "Summary Review 61:  My girlfriend loves it. Makes a great gift for someone on a budget.\n",
            "Summary Review 62:  The seller deals with you in the most professional way and the security measures are superb. A great gift to your loved one and an ever better seller.\n",
            "Summary Review 63:  I received it when they said I would and it is a great ring I bought this ring for my husband and he loved it.\n",
            "Summary Review 64:  a helping gift from the heart that always shows you care. It something we will always have.\n",
            "Summary Review 65:  Great for everyday wear and the price was great.. I love this ring fits just right and I showed my daughter the ring and she loved it as well.\n",
            "Summary Review 66:  great My neice loves her birth stone so I got it for her for a Christmas Gift.I also love it also.\n",
            "Summary Review 67:  It's a beautifull ring. I bought this as a gift for a friends birthday and she loved it.\n",
            "Summary Review 68:  I can easily recommend this one as a lovely ring. It's sturdy and the design is crisp.\n",
            "Summary Review 69:  These look even better in person and go great with anything. My mother loved this and was a great birthday gift.\n",
            "Summary Review 70:  I have always wanted a claddaugh ring.This price was great.I love it\n",
            "Summary Review 71:  Would recommend item and seller I am happy with the product, I received it as advertised and in a timely manner; seller/Amazon kept me updated about shipment/delivery status.\n",
            "Summary Review 72:  I have purchased several items from Netaya and not only are the products first rate but the packaging and customer service are excellent.\n",
            "Summary Review 73:  The earrings were just as described the transaction was smooth and easy and the product was shipped and received in the time frame that was quoted I am very pleased with this purchase\n",
            "Summary Review 74:  Wonderful shopping experience I purchased the item for holiday presents and the whole order came quickly and in wonderful condition.\n",
            "Summary Review 75:  this item looks all most exactly like in the pictures very pleased shipping was ver fast had the item 3 days after order with choosing stranded shipping worth the $$ any time\n",
            "Summary Review 76:  many previous orders from this seller which always are on time and in excellent condition arrived before estimated date.\n",
            "Summary Review 77:  the product i recieved was nice it came in a timley matter faster than i expected will order this item again\n",
            "Summary Review 78:  am very pleased with my purchase, speedy shipping will use again\n",
            "Summary Review 79:  Thank you for the great customer service! The cross is really nice.\n",
            "Summary Review 80:  I bought this to wear with my alice in wonderland costume for halloween, but I've been wearing it ever since I received it and have actually gotten a lot of compliments on it :)\n",
            "Summary Review 81:  I really enjoy wearing something Celtic and pretty. The days I do not wear the blue one I wear this one.\n",
            "Summary Review 82:  I plan to wear it on my lapel when I wear a suit. !\n",
            "Summary Review 83:  I wanted a classy piece to wear on my right hand for work when I'm wearing Gold. Very classy looking\n",
            "Summary Review 84:  very good for everyday wear or dressing up\n",
            "Summary Review 85:  very dressy ery suitable for wearing for fashionable occasions.\n",
            "Summary Review 86:  You will receive many compliments when wearing it. This item is perfect for daily wear but is still elegant enough for dress.\n",
            "Summary Review 87:  It has quickly become a part of my everyday wear! I get compliments every time I wear this necklace.\n",
            "Summary Review 88:  great way to support the local pro sports team without wearing an oversized jersey or a hat to mess up the hair\n",
            "Summary Review 89:  They are very comfortable. These are nice to wear when you want something casual to wear.\n",
            "Summary Review 90:  The stones catch the light and the style is very comfortable to wear. It is so unique and a pleasure to wear.\n",
            "Summary Review 91:  and I am very happy with it. Overall, I think it's pretty.\n",
            "Summary Review 92:  It should be a pretty sight. But I will be looking forward to.\n",
            "Summary Review 93:  I've seen them elsewhere for quite a high price and these are beautiful. They are very colorful and you know they are turtles.\n",
            "Summary Review 94:  The color of the stones is rich and beautiful. The ring is exactly as pictured and looks very pretty on my hand.\n",
            "Summary Review 95:  It is an amazing price for such a beautiful pendant. It picks up the colors of your clothing.\n",
            "Summary Review 96:  They are deep in color in various shades of iridescent mauve. Also, the mussel shells are pinker in person than they look online.\n",
            "Summary Review 97:  It closes firmly with a clic and has a classic look. The look is very beautiful with a smooth finish.\n",
            "Summary Review 98:  The smaller carnelian beads have a clear beautiful orange color. Very beautiful.\n",
            "Summary Review 99:  This medical alert braclet looked just like its picture and is nice quality sterling silver.\n",
            "Summary Review 100:  :) :) I like it.\n",
            "Summary Review 101:  Really looks like the picture. Silver is nicely finished and the enamel is a nice highlight.\n",
            "Summary Review 102:  Only thing i could say is that it is a little more polished than it looks like and the black stands out which looks very nice. Looked just as well as the picture does.\n",
            "Summary Review 103:  A must for everyone who is a Tiger fan and owns an Italian Charm Bracelet. Very nice quality.\n",
            "Summary Review 104:  I just got these yesterday as a Christmas gift- so far they look just like the picture and seem very nice.\n",
            "Summary Review 105:  They look like the picture. Just as described.\n"
          ]
        }
      ]
    },
    {
      "cell_type": "code",
      "source": [
        "from summertime.evaluation import SUPPORTED_EVALUATION_METRICS\n",
        "\n",
        "print(SUPPORTED_EVALUATION_METRICS)\n",
        "\n",
        "import summertime.evaluation as st_eval\n",
        "\n",
        "bert_eval = st_eval.BertScore()\n",
        "\n",
        "from summertime import dataset, model\n",
        "from pprint import pprint\n",
        "from summertime.evaluation import BertScore\n",
        "from summertime.evaluation import Meteor\n",
        "from summertime.evaluation import Bleu\n",
        "\n",
        "targets = ['This ring is gorgeous.' , 'I love the ring and would recommend it to anyone who likes to wear a ring.' , 'I am a huge fan of the ring and I would recommend it to anyone looking for a ring.' , 'I am so glad I bought this ring. ']\n",
        "\n",
        "summaries = summary"
      ],
      "metadata": {
        "colab": {
          "base_uri": "https://localhost:8080/"
        },
        "id": "TGqzgiIXpGcu",
        "outputId": "2def8250-7019-4986-ddb0-12a424f6dbcc"
      },
      "execution_count": null,
      "outputs": [
        {
          "output_type": "stream",
          "name": "stdout",
          "text": [
            "[<class 'summertime.evaluation.bertscore_metric.BertScore'>, <class 'summertime.evaluation.bleu_metric.Bleu'>, <class 'summertime.evaluation.rouge_metric.Rouge'>, <class 'summertime.evaluation.rougewe_metric.RougeWe'>, <class 'summertime.evaluation.meteor_metric.Meteor'>]\n"
          ]
        }
      ]
    },
    {
      "cell_type": "code",
      "source": [
        "# Calculate BertScore\n",
        "bert_metric = BertScore()\n",
        "bert_metric.evaluate(summaries[:4], targets)"
      ],
      "metadata": {
        "colab": {
          "base_uri": "https://localhost:8080/"
        },
        "id": "84ec56etpGUG",
        "outputId": "3e05cff8-2063-4fd8-ada0-ae6a7f20b2ac"
      },
      "execution_count": null,
      "outputs": [
        {
          "output_type": "stream",
          "name": "stdout",
          "text": [
            "hash_code: bert-base-uncased_L8_no-idf_version=0.3.11(hug_trans=4.5.1)\n"
          ]
        },
        {
          "output_type": "execute_result",
          "data": {
            "text/plain": [
              "{'bert_score_f1': 0.5023539066314697}"
            ]
          },
          "metadata": {},
          "execution_count": 41
        }
      ]
    },
    {
      "cell_type": "code",
      "source": [
        "# Calculate Meteor score\n",
        "meteor_metric = Meteor()\n",
        "meteor_metric.evaluate(summaries[:4], targets)"
      ],
      "metadata": {
        "colab": {
          "base_uri": "https://localhost:8080/"
        },
        "id": "8rA630RZpZ5E",
        "outputId": "e414b82d-94a8-4e74-b160-f59c78bc525a"
      },
      "execution_count": null,
      "outputs": [
        {
          "output_type": "stream",
          "name": "stderr",
          "text": [
            "[nltk_data] Downloading package wordnet to /root/nltk_data...\n",
            "[nltk_data]   Package wordnet is already up-to-date!\n"
          ]
        },
        {
          "output_type": "execute_result",
          "data": {
            "text/plain": [
              "{'meteor': 0.048885118917052925}"
            ]
          },
          "metadata": {},
          "execution_count": 42
        }
      ]
    },
    {
      "cell_type": "code",
      "source": [
        "# Calculate BleuScore\n",
        "bleu_metric = Bleu()\n",
        "bleu_metric.evaluate(summaries[:4], targets)"
      ],
      "metadata": {
        "colab": {
          "base_uri": "https://localhost:8080/"
        },
        "id": "Oq1zZqndpZu1",
        "outputId": "c6f377cb-7c4b-4753-928a-54659cdbf62f"
      },
      "execution_count": null,
      "outputs": [
        {
          "output_type": "execute_result",
          "data": {
            "text/plain": [
              "{'bleu': 0.024048090114825196}"
            ]
          },
          "metadata": {},
          "execution_count": 43
        }
      ]
    },
    {
      "cell_type": "markdown",
      "source": [
        "Neural Model Longformer\n"
      ],
      "metadata": {
        "id": "XC-uW1SKesXm"
      }
    },
    {
      "cell_type": "code",
      "source": [
        "# Longformer2Roberta\n",
        "longformer = model.LongformerModel()\n",
        "\n",
        "longformer_summary = longformer.summarize(corpus2)\n",
        "for i in range(len(longformer_summary)):\n",
        "  print(\"\\nSummary Review %d: \"%(i+1), longformer_summary[i])"
      ],
      "metadata": {
        "colab": {
          "base_uri": "https://localhost:8080/",
          "height": 1000,
          "referenced_widgets": [
            "8b8ccc14acbd4f85ba171955fcbcb68e",
            "2bb8264861f24d4e9f062d2456fdea13",
            "b9477f8a766647b5ac1775782a1e86df",
            "d1147be84c784e1396e063be10f0d383",
            "b4d340f86ac441d1a259358be1553310",
            "18efad1a99584ef781f4a23c2dbc231b",
            "1e487c1322fc4d16af6597b626782a1e",
            "80757fd341ac4f97b27abb9f0023215c",
            "824c4dacfda94ec4b3a1f8ea47b7b1b2",
            "e20b139164e64d52b2021d99824e099e",
            "72fbc739c4d94f71a22ca51ea24ee42c",
            "6e8e8fd8df6f4d18bd38cc08d13809e8",
            "c81ec9b61c0142b1b93b5c69ee67bea0",
            "9ea197cd1f0c4e9086cf74c5bb0d5e89",
            "3687e21aee0a408b90338bebc65e1cda",
            "93bb37fb55ab4b6cbcd368fb50e8fa19",
            "920c324bf1eb433db6608f2cfbe7c788",
            "82d9d60bcceb42c5b5bc8cd4c1de3b9b",
            "ea656a06d2e24250b8a0670dbca99652",
            "852a964e2c3f4b419420f258ecd5f525",
            "f39baeab0aab4463a2706f296acb270d",
            "b25f907a5c0f4307a0ba00fd98b5f500",
            "c640e91033ab4550a333b3fa5021611a",
            "69154c1d3ab4484596ab2baea74d6dc9",
            "8abd3604d85840d2abb1634f38e336e9",
            "185206f157ef41009ff5233bdebee511",
            "b231bf7a5e4f4aeab86f73cd4209fbce",
            "294de9583e2445098efcf997514d291a",
            "045ba80402244ccda345d4a0f52b3238",
            "1242550e3b07406d8679c5a02f743164",
            "f512d61dcc4b412685334a93c919a4e3",
            "ee31bd8bb5104a6480f0dfd92b33a7c8",
            "a2daec62279b46b4bc1c9c7d1388bfc4",
            "dd171dd11f484b63b95742b811076db6",
            "dda997387d11445b943e7585a3cdf1a4",
            "c67a91270dea4f61bc0ddf9ec252e3ff",
            "3d39f817df784a7c83431daa0e13446a",
            "41c00e712a3e418d866c33bd891f6645",
            "33cb87b0002843688dfcb6370c4aa3e7",
            "05ebf96491ea4e93baa8b267d7ee61e9"
          ]
        },
        "id": "TgP4CE56eNVu",
        "outputId": "212cfc0c-47a9-4dd6-d1de-55cf30213863"
      },
      "execution_count": null,
      "outputs": [
        {
          "output_type": "display_data",
          "data": {
            "text/plain": [
              "HBox(children=(FloatProgress(value=0.0, description='Downloading', max=3517.0, style=ProgressStyle(description…"
            ],
            "application/vnd.jupyter.widget-view+json": {
              "version_major": 2,
              "version_minor": 0,
              "model_id": "8b8ccc14acbd4f85ba171955fcbcb68e"
            }
          },
          "metadata": {}
        },
        {
          "output_type": "stream",
          "name": "stderr",
          "text": [
            "You are using a model of type encoder_decoder to instantiate a model of type encoder-decoder. This is not supported for all configurations of models and can yield errors.\n"
          ]
        },
        {
          "output_type": "stream",
          "name": "stdout",
          "text": [
            "\n"
          ]
        },
        {
          "output_type": "display_data",
          "data": {
            "text/plain": [
              "HBox(children=(FloatProgress(value=0.0, description='Downloading', max=1209554860.0, style=ProgressStyle(descr…"
            ],
            "application/vnd.jupyter.widget-view+json": {
              "version_major": 2,
              "version_minor": 0,
              "model_id": "824c4dacfda94ec4b3a1f8ea47b7b1b2"
            }
          },
          "metadata": {}
        },
        {
          "output_type": "stream",
          "name": "stdout",
          "text": [
            "\n"
          ]
        },
        {
          "output_type": "stream",
          "name": "stderr",
          "text": [
            "Some weights of the model checkpoint at patrickvonplaten/longformer2roberta-cnn_dailymail-fp16 were not used when initializing EncoderDecoderModel: ['decoder.roberta.pooler.dense.weight', 'decoder.roberta.pooler.dense.bias']\n",
            "- This IS expected if you are initializing EncoderDecoderModel from the checkpoint of a model trained on another task or with another architecture (e.g. initializing a BertForSequenceClassification model from a BertForPreTraining model).\n",
            "- This IS NOT expected if you are initializing EncoderDecoderModel from the checkpoint of a model that you expect to be exactly identical (initializing a BertForSequenceClassification model from a BertForSequenceClassification model).\n"
          ]
        },
        {
          "output_type": "display_data",
          "data": {
            "text/plain": [
              "HBox(children=(FloatProgress(value=0.0, description='Downloading', max=898823.0, style=ProgressStyle(descripti…"
            ],
            "application/vnd.jupyter.widget-view+json": {
              "version_major": 2,
              "version_minor": 0,
              "model_id": "920c324bf1eb433db6608f2cfbe7c788"
            }
          },
          "metadata": {}
        },
        {
          "output_type": "stream",
          "name": "stdout",
          "text": [
            "\n"
          ]
        },
        {
          "output_type": "display_data",
          "data": {
            "text/plain": [
              "HBox(children=(FloatProgress(value=0.0, description='Downloading', max=456318.0, style=ProgressStyle(descripti…"
            ],
            "application/vnd.jupyter.widget-view+json": {
              "version_major": 2,
              "version_minor": 0,
              "model_id": "8abd3604d85840d2abb1634f38e336e9"
            }
          },
          "metadata": {}
        },
        {
          "output_type": "stream",
          "name": "stdout",
          "text": [
            "\n"
          ]
        },
        {
          "output_type": "display_data",
          "data": {
            "text/plain": [
              "HBox(children=(FloatProgress(value=0.0, description='Downloading', max=1355863.0, style=ProgressStyle(descript…"
            ],
            "application/vnd.jupyter.widget-view+json": {
              "version_major": 2,
              "version_minor": 0,
              "model_id": "a2daec62279b46b4bc1c9c7d1388bfc4"
            }
          },
          "metadata": {}
        },
        {
          "output_type": "stream",
          "name": "stderr",
          "text": [
            "Setting `pad_token_id` to `eos_token_id`:2 for open-end generation.\n"
          ]
        },
        {
          "output_type": "stream",
          "name": "stdout",
          "text": [
            "\n",
            "Longformer model: processing document of tensor([28]) tokens\n"
          ]
        },
        {
          "output_type": "stream",
          "name": "stderr",
          "text": [
            "Setting `pad_token_id` to `eos_token_id`:2 for open-end generation.\n"
          ]
        },
        {
          "output_type": "stream",
          "name": "stdout",
          "text": [
            "Longformer model: processing document of tensor([35]) tokens\n"
          ]
        },
        {
          "output_type": "stream",
          "name": "stderr",
          "text": [
            "Setting `pad_token_id` to `eos_token_id`:2 for open-end generation.\n"
          ]
        },
        {
          "output_type": "stream",
          "name": "stdout",
          "text": [
            "Longformer model: processing document of tensor([31]) tokens\n"
          ]
        },
        {
          "output_type": "stream",
          "name": "stderr",
          "text": [
            "Setting `pad_token_id` to `eos_token_id`:2 for open-end generation.\n"
          ]
        },
        {
          "output_type": "stream",
          "name": "stdout",
          "text": [
            "Longformer model: processing document of tensor([33]) tokens\n"
          ]
        },
        {
          "output_type": "stream",
          "name": "stderr",
          "text": [
            "Setting `pad_token_id` to `eos_token_id`:2 for open-end generation.\n"
          ]
        },
        {
          "output_type": "stream",
          "name": "stdout",
          "text": [
            "Longformer model: processing document of tensor([36]) tokens\n"
          ]
        },
        {
          "output_type": "stream",
          "name": "stderr",
          "text": [
            "Setting `pad_token_id` to `eos_token_id`:2 for open-end generation.\n"
          ]
        },
        {
          "output_type": "stream",
          "name": "stdout",
          "text": [
            "Longformer model: processing document of tensor([32]) tokens\n"
          ]
        },
        {
          "output_type": "stream",
          "name": "stderr",
          "text": [
            "Setting `pad_token_id` to `eos_token_id`:2 for open-end generation.\n"
          ]
        },
        {
          "output_type": "stream",
          "name": "stdout",
          "text": [
            "Longformer model: processing document of tensor([45]) tokens\n"
          ]
        },
        {
          "output_type": "stream",
          "name": "stderr",
          "text": [
            "Setting `pad_token_id` to `eos_token_id`:2 for open-end generation.\n"
          ]
        },
        {
          "output_type": "stream",
          "name": "stdout",
          "text": [
            "Longformer model: processing document of tensor([22]) tokens\n"
          ]
        },
        {
          "output_type": "stream",
          "name": "stderr",
          "text": [
            "Setting `pad_token_id` to `eos_token_id`:2 for open-end generation.\n"
          ]
        },
        {
          "output_type": "stream",
          "name": "stdout",
          "text": [
            "Longformer model: processing document of tensor([35]) tokens\n"
          ]
        },
        {
          "output_type": "stream",
          "name": "stderr",
          "text": [
            "Setting `pad_token_id` to `eos_token_id`:2 for open-end generation.\n"
          ]
        },
        {
          "output_type": "stream",
          "name": "stdout",
          "text": [
            "Longformer model: processing document of tensor([23]) tokens\n"
          ]
        },
        {
          "output_type": "stream",
          "name": "stderr",
          "text": [
            "Setting `pad_token_id` to `eos_token_id`:2 for open-end generation.\n"
          ]
        },
        {
          "output_type": "stream",
          "name": "stdout",
          "text": [
            "Longformer model: processing document of tensor([25]) tokens\n"
          ]
        },
        {
          "output_type": "stream",
          "name": "stderr",
          "text": [
            "Setting `pad_token_id` to `eos_token_id`:2 for open-end generation.\n"
          ]
        },
        {
          "output_type": "stream",
          "name": "stdout",
          "text": [
            "Longformer model: processing document of tensor([26]) tokens\n"
          ]
        },
        {
          "output_type": "stream",
          "name": "stderr",
          "text": [
            "Setting `pad_token_id` to `eos_token_id`:2 for open-end generation.\n"
          ]
        },
        {
          "output_type": "stream",
          "name": "stdout",
          "text": [
            "Longformer model: processing document of tensor([68]) tokens\n"
          ]
        },
        {
          "output_type": "stream",
          "name": "stderr",
          "text": [
            "Setting `pad_token_id` to `eos_token_id`:2 for open-end generation.\n"
          ]
        },
        {
          "output_type": "stream",
          "name": "stdout",
          "text": [
            "Longformer model: processing document of tensor([82]) tokens\n"
          ]
        },
        {
          "output_type": "stream",
          "name": "stderr",
          "text": [
            "Setting `pad_token_id` to `eos_token_id`:2 for open-end generation.\n"
          ]
        },
        {
          "output_type": "stream",
          "name": "stdout",
          "text": [
            "Longformer model: processing document of tensor([67]) tokens\n"
          ]
        },
        {
          "output_type": "stream",
          "name": "stderr",
          "text": [
            "Setting `pad_token_id` to `eos_token_id`:2 for open-end generation.\n"
          ]
        },
        {
          "output_type": "stream",
          "name": "stdout",
          "text": [
            "Longformer model: processing document of tensor([26]) tokens\n"
          ]
        },
        {
          "output_type": "stream",
          "name": "stderr",
          "text": [
            "Setting `pad_token_id` to `eos_token_id`:2 for open-end generation.\n"
          ]
        },
        {
          "output_type": "stream",
          "name": "stdout",
          "text": [
            "Longformer model: processing document of tensor([19]) tokens\n",
            "\n",
            "Summary Review 1:  The ring is beyond gorgeous, I just love it.\n",
            "The ring has beyond gorgeous and I just like it.22.\n",
            "I wanted to know if this ring is like 2 rings in one.\n",
            "This ring is more gorgeous, and I love it. I just loved it.\n",
            "\n",
            "Summary Review 2:  The ring was not worth the postage than the original ring.\n",
            "It was not even worth postage.\n",
            "The ring cost more for postage than what the ring cost.\n",
            "Ring was not returned as you would pay more for a ring.22 was missing.\n",
            "But it was not a cheap one.\n",
            "\n",
            "Summary Review 3:  Wore a toe ring one day and POOF the stone was gone.\n",
            "It sits in a pile of broken sterling silver rings and things that belonged to broken sterling.\n",
            "The stone was lost so it sits in the pile of other broken sterling rings.\n",
            "POOF is now in a heap of other shattered sterling silver.\n",
            "\n",
            "Summary Review 4:  Ring is way too small and looks like a toy when putting it on.\n",
            "Ring is too small to be worn by a 1/2 carat ringat ring.\n",
            "I would not recommend a 1-2 caratsat ring to you.\n",
            "The 1/4 caratring ring is way more expensive and looks a toy.\n",
            "\n",
            "Summary Review 5:  The metal is already tarnishing and has tarnished too.\n",
            "The metal has been tarnishing too. and the metal is tarnishing.\n",
            "Spend your money on a higher quality item.\n",
            "Avoid a higher-quality item. and spend your money buying a higher item.\n",
            "\n",
            "Summary Review 6:  iReporter ioplast is a bioplastic.\n",
            "The biopestion is a titanium biopace.\n",
            "'I break out with certain metals but I break out' says iopest.\n",
            "iReport.com: What's the best piercing of mine?\n",
            "\n",
            "Summary Review 7:  The image was taken by the image of the image under her shirt.\n",
            "The image is a lot prettier and sparklier than it was to be worn.\n",
            "It was a lot more prettier than it turned out to be.\n",
            "I wear it under my shirt.\n",
            "\n",
            "Summary Review 8:  The bracelet was not a true 9.\n",
            "The bracelet is not true to length.\n",
            "It was not true 9 to length to length and is not a real 9.22.\n",
            "'The bracelet perfect just not true' said the bracelet's perfect length.22 bracelet.\n",
            "\n",
            "Summary Review 9:  The stones on this bracelet are extremely pale, more pink than purple.\n",
            "The stones are extremely pink, more pale than purple than purple. They were extremely pale.\n",
            "I returned the bracelet because I have amethyst jewelry and it was extremely poor quality.\n",
            "After returning the bracelet, I returned the necklace because I am amethyst.\n",
            "\n",
            "Summary Review 10:  Item was shipped and received within the time of being shipped.\n",
            "Item was sent to the customer within the standard time frame.\n",
            "The item was shipped within the same time as the item.\n",
            "It was shipped in the time limit given to the item being shipped and given to receive within the amount given within the the time.\n",
            "\n",
            "Summary Review 11:  Item arrived extremely damaged in several places.\n",
            "Item arrived very badly damaged in some places. and not packaged well.\n",
            "It arrived extremely badly damaged and not packed well. and was very damaged.\n",
            "The item arrived extremely disappointed with the quality of the quality.\n",
            "Not packaged well had to be sent back.\n",
            "\n",
            "Summary Review 12:  Ring looked like picture but had a crack in one Garnet and another had a large chip.\n",
            "Ring looked nice but had crack in it one of the Garnet rings.\n",
            "The ring was nice and looked like a picture but with a crack.\n",
            "It looked like pictures but had cracked chips and a large chunk of a chip.\n",
            "\n",
            "Summary Review 13:  The ring was tarnished or looked like it had torch marks up the side.\n",
            "The ring is a super long rectangular stone, not a nice square.\n",
            "It was also tarnished and looked like a torch mark up the sides.\n",
            "I will definitely be returning this ring.\n",
            "\n",
            "Summary Review 14:  If you buy a ring for his significant other, please be aware that it is 1/10 cttw.\n",
            "If you are a man looking to buy a diamond, please buy a better looking ring for your significant other.\n",
            "I would recommend you buy one for a better ring for a significant other than a diamond.\n",
            "\n",
            "Summary Review 15:  The ring is a bright polish and yellow gold.\n",
            "The ring was a bright polished polish and the yellow gold is barely visiable.\n",
            "I'm very disappointed with amazon for the lack of description.\n",
            "'The ring looks nothing like the ring. The yellow gold and yellow is barelyvisiable,' I said.\n",
            "\n",
            "Summary Review 16:  The silver necklace was much smaller than it looked in the picture.\n",
            "The silver bracelet seemed to be of poorer quality than expected.\n",
            "It was much larger than expected and was much lighter than it was in the photo.\n",
            "Silver necklace was of poorer grade than expected, and the silver necklace seemed of poorer value than expected in the photograph.\n",
            "\n",
            "Summary Review 17:  Diamond had a crack in one Garnet and another had a large chip in one.\n",
            "Diamond had cracked in one of Garnet's Garnet pieces.\n",
            "The diamond had a cracked chip in another one had a larger chip.\n",
            "It had a chip in the Garnet, another one with a large piece had a small chip.\n"
          ]
        }
      ]
    },
    {
      "cell_type": "code",
      "source": [
        "from summertime.evaluation import SUPPORTED_EVALUATION_METRICS\n",
        "\n",
        "print(SUPPORTED_EVALUATION_METRICS)\n",
        "\n",
        "import summertime.evaluation as st_eval\n",
        "\n",
        "bert_eval = st_eval.BertScore()\n",
        "\n",
        "from summertime import dataset, model\n",
        "from pprint import pprint\n",
        "from summertime.evaluation import BertScore\n",
        "from summertime.evaluation import Meteor\n",
        "from summertime.evaluation import Bleu\n",
        "\n",
        "targets = ['It was not worth returning it as you would pay more for postage than what the ring cost.' ,'The ring was nice and looked like picture but had a crack in one Garnet and another one had a large chip.' , 'I would recommend you spend it a little bit more and buy a better looking ring.' , 'I\\'m very disappointed with amazon for the lack of description.']\n",
        "\n",
        "summaries = longformer_summary"
      ],
      "metadata": {
        "colab": {
          "base_uri": "https://localhost:8080/"
        },
        "id": "K4-vumIReove",
        "outputId": "89c14a42-580a-4fa4-feaf-fa9f1fc6d06e"
      },
      "execution_count": null,
      "outputs": [
        {
          "output_type": "stream",
          "name": "stdout",
          "text": [
            "[<class 'summertime.evaluation.bertscore_metric.BertScore'>, <class 'summertime.evaluation.bleu_metric.Bleu'>, <class 'summertime.evaluation.rouge_metric.Rouge'>, <class 'summertime.evaluation.rougewe_metric.RougeWe'>, <class 'summertime.evaluation.meteor_metric.Meteor'>]\n"
          ]
        }
      ]
    },
    {
      "cell_type": "code",
      "source": [
        "# Calculate BertScore\n",
        "bert_metric = BertScore()\n",
        "bert_metric.evaluate(summaries[:4], targets)"
      ],
      "metadata": {
        "colab": {
          "base_uri": "https://localhost:8080/"
        },
        "id": "8c7ju_VPhBdY",
        "outputId": "3d36b32c-2057-4df8-808c-3cab153a133a"
      },
      "execution_count": null,
      "outputs": [
        {
          "output_type": "stream",
          "name": "stdout",
          "text": [
            "hash_code: bert-base-uncased_L8_no-idf_version=0.3.11(hug_trans=4.5.1)\n"
          ]
        },
        {
          "output_type": "execute_result",
          "data": {
            "text/plain": [
              "{'bert_score_f1': 0.43079328536987305}"
            ]
          },
          "metadata": {},
          "execution_count": 20
        }
      ]
    },
    {
      "cell_type": "code",
      "source": [
        "# Calculate Meteor score\n",
        "meteor_metric = Meteor()\n",
        "meteor_metric.evaluate(summaries[:4], targets)"
      ],
      "metadata": {
        "colab": {
          "base_uri": "https://localhost:8080/"
        },
        "id": "NnmkGStshDWB",
        "outputId": "2cee4ef4-94d7-4e85-ca1f-f62e9acd2d8a"
      },
      "execution_count": null,
      "outputs": [
        {
          "output_type": "stream",
          "name": "stderr",
          "text": [
            "[nltk_data] Downloading package wordnet to /root/nltk_data...\n",
            "[nltk_data]   Package wordnet is already up-to-date!\n"
          ]
        },
        {
          "output_type": "execute_result",
          "data": {
            "text/plain": [
              "{'meteor': 0.040066490721065565}"
            ]
          },
          "metadata": {},
          "execution_count": 21
        }
      ]
    },
    {
      "cell_type": "code",
      "source": [
        "# Calculate BleuScore\n",
        "bleu_metric = Bleu()\n",
        "bleu_metric.evaluate(summaries[:4], targets)"
      ],
      "metadata": {
        "colab": {
          "base_uri": "https://localhost:8080/"
        },
        "id": "Zra74ecUhHwg",
        "outputId": "344f180d-f43d-4f07-91cd-826978c0e9b9"
      },
      "execution_count": null,
      "outputs": [
        {
          "output_type": "execute_result",
          "data": {
            "text/plain": [
              "{'bleu': 0.00928011380084191}"
            ]
          },
          "metadata": {},
          "execution_count": 22
        }
      ]
    },
    {
      "cell_type": "markdown",
      "source": [
        "The summarizations scored adequate scores in BertScore evaluation but very low scores in the other evaluation metrics, Meteor and BleuScore. This might be due to the fact that the texts that are being summarized are short."
      ],
      "metadata": {
        "id": "jqjbNh1g5kon"
      }
    }
  ]
}